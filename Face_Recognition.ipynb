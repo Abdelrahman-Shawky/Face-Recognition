{
  "nbformat": 4,
  "nbformat_minor": 0,
  "metadata": {
    "colab": {
      "provenance": [],
      "collapsed_sections": [],
      "toc_visible": true
    },
    "kernelspec": {
      "name": "python3",
      "display_name": "Python 3"
    },
    "language_info": {
      "name": "python"
    }
  },
  "cells": [
    {
      "cell_type": "markdown",
      "source": [
        "#Face Recognition"
      ],
      "metadata": {
        "id": "38DkH35HPcKD"
      }
    },
    {
      "cell_type": "markdown",
      "source": [
        "## Problem"
      ],
      "metadata": {
        "id": "3c2blAtjPhIv"
      }
    },
    {
      "cell_type": "markdown",
      "source": [
        "##Imports"
      ],
      "metadata": {
        "id": "DNOwbmikPlpk"
      }
    },
    {
      "cell_type": "code",
      "execution_count": null,
      "metadata": {
        "id": "xj19-6MrACwO"
      },
      "outputs": [],
      "source": [
        "from os import listdir\n",
        "from PIL import Image as PImage\n",
        "from google.colab import drive\n",
        "import numpy as np\n",
        "import matplotlib.pyplot as plt"
      ]
    },
    {
      "cell_type": "code",
      "source": [
        "# drive.mount(\"/content/drive\")\n",
        "path = \"/content/drive/MyDrive/Pattern Recognition/faces/\""
      ],
      "metadata": {
        "id": "FDS90AVnS_IK"
      },
      "execution_count": null,
      "outputs": []
    },
    {
      "cell_type": "markdown",
      "source": [
        "##Download Dataset and Understand the Format"
      ],
      "metadata": {
        "id": "ptbwRnuVPqj0"
      }
    },
    {
      "cell_type": "code",
      "source": [
        "foldersList = listdir(path)\n",
        "loadedImages = []\n",
        "for folder in foldersList :\n",
        "    imagesList = listdir(path+folder)\n",
        "    for image in imagesList:\n",
        "        img = PImage.open(path +folder+'/'+ image)\n",
        "        loadedImages.append(img)"
      ],
      "metadata": {
        "id": "N9k8RhcPPsN1"
      },
      "execution_count": null,
      "outputs": []
    },
    {
      "cell_type": "markdown",
      "source": [
        "## Generate the Data Matrix and the Label Vector"
      ],
      "metadata": {
        "id": "gUdivQhbaroD"
      }
    },
    {
      "cell_type": "code",
      "source": [
        "# Reshape into matrix 40*10\n",
        "images = np.array(loadedImages).reshape(-1,10)"
      ],
      "metadata": {
        "colab": {
          "base_uri": "https://localhost:8080/"
        },
        "id": "7wYBwDElWM8M",
        "outputId": "f6b59493-731c-4d92-c643-d59855bea0cd"
      },
      "execution_count": null,
      "outputs": [
        {
          "output_type": "stream",
          "name": "stderr",
          "text": [
            "/usr/local/lib/python3.7/dist-packages/ipykernel_launcher.py:2: FutureWarning: The input object of type 'PpmImageFile' is an array-like implementing one of the corresponding protocols (`__array__`, `__array_interface__` or `__array_struct__`); but not a sequence (or 0-D). In the future, this object will be coerced as if it was first converted using `np.array(obj)`. To retain the old behaviour, you have to either modify the type 'PpmImageFile', or assign to an empty array created with `np.empty(correct_shape, dtype=object)`.\n",
            "  \n",
            "/usr/local/lib/python3.7/dist-packages/ipykernel_launcher.py:2: VisibleDeprecationWarning: Creating an ndarray from ragged nested sequences (which is a list-or-tuple of lists-or-tuples-or ndarrays with different lengths or shapes) is deprecated. If you meant to do this, you must specify 'dtype=object' when creating the ndarray.\n",
            "  \n"
          ]
        }
      ]
    },
    {
      "cell_type": "code",
      "source": [
        "dataMatrixD = np.zeros(10304*400).reshape(-1,10304)\n",
        "i=0\n",
        "j=0\n",
        "labels = np.zeros(400)\n",
        "for image in loadedImages:\n",
        "  dataMatrixD[i] = np.array(image).flatten()\n",
        "  if(i%10 == 0):\n",
        "    j = j+1\n",
        "  labels[i] = j\n",
        "  i = i + 1"
      ],
      "metadata": {
        "id": "8b30TT4_ZwTZ"
      },
      "execution_count": null,
      "outputs": []
    },
    {
      "cell_type": "code",
      "source": [
        "print(loadedImages)"
      ],
      "metadata": {
        "colab": {
          "base_uri": "https://localhost:8080/"
        },
        "id": "7Ndw4OAoN16v",
        "outputId": "dfa26f91-aab3-49fd-e9b2-6a4f81fe4449"
      },
      "execution_count": null,
      "outputs": [
        {
          "output_type": "stream",
          "name": "stdout",
          "text": [
            "[<PIL.PpmImagePlugin.PpmImageFile image mode=L size=92x112 at 0x7F8F4572A910>, <PIL.PpmImagePlugin.PpmImageFile image mode=L size=92x112 at 0x7F8F4BBE1490>, <PIL.PpmImagePlugin.PpmImageFile image mode=L size=92x112 at 0x7F8F4BD76350>, <PIL.PpmImagePlugin.PpmImageFile image mode=L size=92x112 at 0x7F8F45707E10>, <PIL.PpmImagePlugin.PpmImageFile image mode=L size=92x112 at 0x7F8F45711A50>, <PIL.PpmImagePlugin.PpmImageFile image mode=L size=92x112 at 0x7F8F4569A6D0>, <PIL.PpmImagePlugin.PpmImageFile image mode=L size=92x112 at 0x7F8F4569AAD0>, <PIL.PpmImagePlugin.PpmImageFile image mode=L size=92x112 at 0x7F8F4569AC90>, <PIL.PpmImagePlugin.PpmImageFile image mode=L size=92x112 at 0x7F8F456A1310>, <PIL.PpmImagePlugin.PpmImageFile image mode=L size=92x112 at 0x7F8F45711A90>, <PIL.PpmImagePlugin.PpmImageFile image mode=L size=92x112 at 0x7F8F49996E50>, <PIL.PpmImagePlugin.PpmImageFile image mode=L size=92x112 at 0x7F8F49996D10>, <PIL.PpmImagePlugin.PpmImageFile image mode=L size=92x112 at 0x7F8F49996ED0>, <PIL.PpmImagePlugin.PpmImageFile image mode=L size=92x112 at 0x7F8F49996F90>, <PIL.PpmImagePlugin.PpmImageFile image mode=L size=92x112 at 0x7F8F49996BD0>, <PIL.PpmImagePlugin.PpmImageFile image mode=L size=92x112 at 0x7F8F456A1A10>, <PIL.PpmImagePlugin.PpmImageFile image mode=L size=92x112 at 0x7F8F456A1A50>, <PIL.PpmImagePlugin.PpmImageFile image mode=L size=92x112 at 0x7F8F456A1A90>, <PIL.PpmImagePlugin.PpmImageFile image mode=L size=92x112 at 0x7F8F456A1AD0>, <PIL.PpmImagePlugin.PpmImageFile image mode=L size=92x112 at 0x7F8F456A1B10>, <PIL.PpmImagePlugin.PpmImageFile image mode=L size=92x112 at 0x7F8F456A1350>, <PIL.PpmImagePlugin.PpmImageFile image mode=L size=92x112 at 0x7F8F456A1910>, <PIL.PpmImagePlugin.PpmImageFile image mode=L size=92x112 at 0x7F8F456A1950>, <PIL.PpmImagePlugin.PpmImageFile image mode=L size=92x112 at 0x7F8F456A1990>, <PIL.PpmImagePlugin.PpmImageFile image mode=L size=92x112 at 0x7F8F456A19D0>, <PIL.PpmImagePlugin.PpmImageFile image mode=L size=92x112 at 0x7F8F456A1C90>, <PIL.PpmImagePlugin.PpmImageFile image mode=L size=92x112 at 0x7F8F456A1CD0>, <PIL.PpmImagePlugin.PpmImageFile image mode=L size=92x112 at 0x7F8F456A1D10>, <PIL.PpmImagePlugin.PpmImageFile image mode=L size=92x112 at 0x7F8F456A1D50>, <PIL.PpmImagePlugin.PpmImageFile image mode=L size=92x112 at 0x7F8F456A1D90>, <PIL.PpmImagePlugin.PpmImageFile image mode=L size=92x112 at 0x7F8F456B0090>, <PIL.PpmImagePlugin.PpmImageFile image mode=L size=92x112 at 0x7F8F456B00D0>, <PIL.PpmImagePlugin.PpmImageFile image mode=L size=92x112 at 0x7F8F456B0110>, <PIL.PpmImagePlugin.PpmImageFile image mode=L size=92x112 at 0x7F8F456B0150>, <PIL.PpmImagePlugin.PpmImageFile image mode=L size=92x112 at 0x7F8F456B0190>, <PIL.PpmImagePlugin.PpmImageFile image mode=L size=92x112 at 0x7F8F456B01D0>, <PIL.PpmImagePlugin.PpmImageFile image mode=L size=92x112 at 0x7F8F456B0210>, <PIL.PpmImagePlugin.PpmImageFile image mode=L size=92x112 at 0x7F8F456B0250>, <PIL.PpmImagePlugin.PpmImageFile image mode=L size=92x112 at 0x7F8F456B0290>, <PIL.PpmImagePlugin.PpmImageFile image mode=L size=92x112 at 0x7F8F456B02D0>, <PIL.PpmImagePlugin.PpmImageFile image mode=L size=92x112 at 0x7F8F456A1DD0>, <PIL.PpmImagePlugin.PpmImageFile image mode=L size=92x112 at 0x7F8F456A1E10>, <PIL.PpmImagePlugin.PpmImageFile image mode=L size=92x112 at 0x7F8F456A1E50>, <PIL.PpmImagePlugin.PpmImageFile image mode=L size=92x112 at 0x7F8F456A1E90>, <PIL.PpmImagePlugin.PpmImageFile image mode=L size=92x112 at 0x7F8F456A1ED0>, <PIL.PpmImagePlugin.PpmImageFile image mode=L size=92x112 at 0x7F8F456B0450>, <PIL.PpmImagePlugin.PpmImageFile image mode=L size=92x112 at 0x7F8F456B0490>, <PIL.PpmImagePlugin.PpmImageFile image mode=L size=92x112 at 0x7F8F456B04D0>, <PIL.PpmImagePlugin.PpmImageFile image mode=L size=92x112 at 0x7F8F456B0510>, <PIL.PpmImagePlugin.PpmImageFile image mode=L size=92x112 at 0x7F8F456B0550>, <PIL.PpmImagePlugin.PpmImageFile image mode=L size=92x112 at 0x7F8F456B0050>, <PIL.PpmImagePlugin.PpmImageFile image mode=L size=92x112 at 0x7F8F456B0350>, <PIL.PpmImagePlugin.PpmImageFile image mode=L size=92x112 at 0x7F8F456B0390>, <PIL.PpmImagePlugin.PpmImageFile image mode=L size=92x112 at 0x7F8F456B03D0>, <PIL.PpmImagePlugin.PpmImageFile image mode=L size=92x112 at 0x7F8F456B0410>, <PIL.PpmImagePlugin.PpmImageFile image mode=L size=92x112 at 0x7F8F456B06D0>, <PIL.PpmImagePlugin.PpmImageFile image mode=L size=92x112 at 0x7F8F456B0710>, <PIL.PpmImagePlugin.PpmImageFile image mode=L size=92x112 at 0x7F8F456B0750>, <PIL.PpmImagePlugin.PpmImageFile image mode=L size=92x112 at 0x7F8F456B0790>, <PIL.PpmImagePlugin.PpmImageFile image mode=L size=92x112 at 0x7F8F456B07D0>, <PIL.PpmImagePlugin.PpmImageFile image mode=L size=92x112 at 0x7F8F456B0590>, <PIL.PpmImagePlugin.PpmImageFile image mode=L size=92x112 at 0x7F8F456B05D0>, <PIL.PpmImagePlugin.PpmImageFile image mode=L size=92x112 at 0x7F8F456B0610>, <PIL.PpmImagePlugin.PpmImageFile image mode=L size=92x112 at 0x7F8F456B0650>, <PIL.PpmImagePlugin.PpmImageFile image mode=L size=92x112 at 0x7F8F456B0690>, <PIL.PpmImagePlugin.PpmImageFile image mode=L size=92x112 at 0x7F8F456B0950>, <PIL.PpmImagePlugin.PpmImageFile image mode=L size=92x112 at 0x7F8F456B0990>, <PIL.PpmImagePlugin.PpmImageFile image mode=L size=92x112 at 0x7F8F456B09D0>, <PIL.PpmImagePlugin.PpmImageFile image mode=L size=92x112 at 0x7F8F456B0A10>, <PIL.PpmImagePlugin.PpmImageFile image mode=L size=92x112 at 0x7F8F456B0A50>, <PIL.PpmImagePlugin.PpmImageFile image mode=L size=92x112 at 0x7F8F456B0310>, <PIL.PpmImagePlugin.PpmImageFile image mode=L size=92x112 at 0x7F8F456B0850>, <PIL.PpmImagePlugin.PpmImageFile image mode=L size=92x112 at 0x7F8F456B0890>, <PIL.PpmImagePlugin.PpmImageFile image mode=L size=92x112 at 0x7F8F456B08D0>, <PIL.PpmImagePlugin.PpmImageFile image mode=L size=92x112 at 0x7F8F456B0910>, <PIL.PpmImagePlugin.PpmImageFile image mode=L size=92x112 at 0x7F8F456B0BD0>, <PIL.PpmImagePlugin.PpmImageFile image mode=L size=92x112 at 0x7F8F456B0C10>, <PIL.PpmImagePlugin.PpmImageFile image mode=L size=92x112 at 0x7F8F456B0C50>, <PIL.PpmImagePlugin.PpmImageFile image mode=L size=92x112 at 0x7F8F456B0C90>, <PIL.PpmImagePlugin.PpmImageFile image mode=L size=92x112 at 0x7F8F456B0CD0>, <PIL.PpmImagePlugin.PpmImageFile image mode=L size=92x112 at 0x7F8F456B0A90>, <PIL.PpmImagePlugin.PpmImageFile image mode=L size=92x112 at 0x7F8F456B0AD0>, <PIL.PpmImagePlugin.PpmImageFile image mode=L size=92x112 at 0x7F8F456B0B10>, <PIL.PpmImagePlugin.PpmImageFile image mode=L size=92x112 at 0x7F8F456B0B50>, <PIL.PpmImagePlugin.PpmImageFile image mode=L size=92x112 at 0x7F8F456B0B90>, <PIL.PpmImagePlugin.PpmImageFile image mode=L size=92x112 at 0x7F8F456B0E50>, <PIL.PpmImagePlugin.PpmImageFile image mode=L size=92x112 at 0x7F8F456B0E90>, <PIL.PpmImagePlugin.PpmImageFile image mode=L size=92x112 at 0x7F8F456B0ED0>, <PIL.PpmImagePlugin.PpmImageFile image mode=L size=92x112 at 0x7F8F456B0F10>, <PIL.PpmImagePlugin.PpmImageFile image mode=L size=92x112 at 0x7F8F456B0F50>, <PIL.PpmImagePlugin.PpmImageFile image mode=L size=92x112 at 0x7F8F456B0810>, <PIL.PpmImagePlugin.PpmImageFile image mode=L size=92x112 at 0x7F8F456B0D50>, <PIL.PpmImagePlugin.PpmImageFile image mode=L size=92x112 at 0x7F8F456B0D90>, <PIL.PpmImagePlugin.PpmImageFile image mode=L size=92x112 at 0x7F8F456B0DD0>, <PIL.PpmImagePlugin.PpmImageFile image mode=L size=92x112 at 0x7F8F456B0E10>, <PIL.PpmImagePlugin.PpmImageFile image mode=L size=92x112 at 0x7F8F456C9110>, <PIL.PpmImagePlugin.PpmImageFile image mode=L size=92x112 at 0x7F8F456C9150>, <PIL.PpmImagePlugin.PpmImageFile image mode=L size=92x112 at 0x7F8F456C9190>, <PIL.PpmImagePlugin.PpmImageFile image mode=L size=92x112 at 0x7F8F456C91D0>, <PIL.PpmImagePlugin.PpmImageFile image mode=L size=92x112 at 0x7F8F456C9210>, <PIL.PpmImagePlugin.PpmImageFile image mode=L size=92x112 at 0x7F8F456B0F90>, <PIL.PpmImagePlugin.PpmImageFile image mode=L size=92x112 at 0x7F8F456B0FD0>, <PIL.PpmImagePlugin.PpmImageFile image mode=L size=92x112 at 0x7F8F456C9050>, <PIL.PpmImagePlugin.PpmImageFile image mode=L size=92x112 at 0x7F8F456C9090>, <PIL.PpmImagePlugin.PpmImageFile image mode=L size=92x112 at 0x7F8F456C90D0>, <PIL.PpmImagePlugin.PpmImageFile image mode=L size=92x112 at 0x7F8F456C9390>, <PIL.PpmImagePlugin.PpmImageFile image mode=L size=92x112 at 0x7F8F456C93D0>, <PIL.PpmImagePlugin.PpmImageFile image mode=L size=92x112 at 0x7F8F456C9410>, <PIL.PpmImagePlugin.PpmImageFile image mode=L size=92x112 at 0x7F8F456C9450>, <PIL.PpmImagePlugin.PpmImageFile image mode=L size=92x112 at 0x7F8F456C9490>, <PIL.PpmImagePlugin.PpmImageFile image mode=L size=92x112 at 0x7F8F456C9250>, <PIL.PpmImagePlugin.PpmImageFile image mode=L size=92x112 at 0x7F8F456C9290>, <PIL.PpmImagePlugin.PpmImageFile image mode=L size=92x112 at 0x7F8F456C92D0>, <PIL.PpmImagePlugin.PpmImageFile image mode=L size=92x112 at 0x7F8F456C9310>, <PIL.PpmImagePlugin.PpmImageFile image mode=L size=92x112 at 0x7F8F456C9350>, <PIL.PpmImagePlugin.PpmImageFile image mode=L size=92x112 at 0x7F8F456C9610>, <PIL.PpmImagePlugin.PpmImageFile image mode=L size=92x112 at 0x7F8F456C9650>, <PIL.PpmImagePlugin.PpmImageFile image mode=L size=92x112 at 0x7F8F456C9690>, <PIL.PpmImagePlugin.PpmImageFile image mode=L size=92x112 at 0x7F8F456C96D0>, <PIL.PpmImagePlugin.PpmImageFile image mode=L size=92x112 at 0x7F8F456C9710>, <PIL.PpmImagePlugin.PpmImageFile image mode=L size=92x112 at 0x7F8F456C94D0>, <PIL.PpmImagePlugin.PpmImageFile image mode=L size=92x112 at 0x7F8F456C9510>, <PIL.PpmImagePlugin.PpmImageFile image mode=L size=92x112 at 0x7F8F456C9550>, <PIL.PpmImagePlugin.PpmImageFile image mode=L size=92x112 at 0x7F8F456C9590>, <PIL.PpmImagePlugin.PpmImageFile image mode=L size=92x112 at 0x7F8F456C95D0>, <PIL.PpmImagePlugin.PpmImageFile image mode=L size=92x112 at 0x7F8F456C9890>, <PIL.PpmImagePlugin.PpmImageFile image mode=L size=92x112 at 0x7F8F456C98D0>, <PIL.PpmImagePlugin.PpmImageFile image mode=L size=92x112 at 0x7F8F456C9910>, <PIL.PpmImagePlugin.PpmImageFile image mode=L size=92x112 at 0x7F8F456C9950>, <PIL.PpmImagePlugin.PpmImageFile image mode=L size=92x112 at 0x7F8F456C9990>, <PIL.PpmImagePlugin.PpmImageFile image mode=L size=92x112 at 0x7F8F456C9750>, <PIL.PpmImagePlugin.PpmImageFile image mode=L size=92x112 at 0x7F8F456C9790>, <PIL.PpmImagePlugin.PpmImageFile image mode=L size=92x112 at 0x7F8F456C97D0>, <PIL.PpmImagePlugin.PpmImageFile image mode=L size=92x112 at 0x7F8F456C9810>, <PIL.PpmImagePlugin.PpmImageFile image mode=L size=92x112 at 0x7F8F456C9850>, <PIL.PpmImagePlugin.PpmImageFile image mode=L size=92x112 at 0x7F8F456C9B10>, <PIL.PpmImagePlugin.PpmImageFile image mode=L size=92x112 at 0x7F8F49996A90>, <PIL.PpmImagePlugin.PpmImageFile image mode=L size=92x112 at 0x7F8F456A1F90>, <PIL.PpmImagePlugin.PpmImageFile image mode=L size=92x112 at 0x7F8F456A1F50>, <PIL.PpmImagePlugin.PpmImageFile image mode=L size=92x112 at 0x7F8F456A1FD0>, <PIL.PpmImagePlugin.PpmImageFile image mode=L size=92x112 at 0x7F8F456C9C50>, <PIL.PpmImagePlugin.PpmImageFile image mode=L size=92x112 at 0x7F8F456C9C90>, <PIL.PpmImagePlugin.PpmImageFile image mode=L size=92x112 at 0x7F8F456C9CD0>, <PIL.PpmImagePlugin.PpmImageFile image mode=L size=92x112 at 0x7F8F456C9D10>, <PIL.PpmImagePlugin.PpmImageFile image mode=L size=92x112 at 0x7F8F456C9D50>, <PIL.PpmImagePlugin.PpmImageFile image mode=L size=92x112 at 0x7F8F456C9D90>, <PIL.PpmImagePlugin.PpmImageFile image mode=L size=92x112 at 0x7F8F456C9DD0>, <PIL.PpmImagePlugin.PpmImageFile image mode=L size=92x112 at 0x7F8F456C9C10>, <PIL.PpmImagePlugin.PpmImageFile image mode=L size=92x112 at 0x7F8F456C9E10>, <PIL.PpmImagePlugin.PpmImageFile image mode=L size=92x112 at 0x7F8F456C9E50>, <PIL.PpmImagePlugin.PpmImageFile image mode=L size=92x112 at 0x7F8F456A1F10>, <PIL.PpmImagePlugin.PpmImageFile image mode=L size=92x112 at 0x7F8F456A1B90>, <PIL.PpmImagePlugin.PpmImageFile image mode=L size=92x112 at 0x7F8F456A1BD0>, <PIL.PpmImagePlugin.PpmImageFile image mode=L size=92x112 at 0x7F8F456A1C50>, <PIL.PpmImagePlugin.PpmImageFile image mode=L size=92x112 at 0x7F8F456A1B50>, <PIL.PpmImagePlugin.PpmImageFile image mode=L size=92x112 at 0x7F8F456C9FD0>, <PIL.PpmImagePlugin.PpmImageFile image mode=L size=92x112 at 0x7F8F45664050>, <PIL.PpmImagePlugin.PpmImageFile image mode=L size=92x112 at 0x7F8F45664090>, <PIL.PpmImagePlugin.PpmImageFile image mode=L size=92x112 at 0x7F8F456640D0>, <PIL.PpmImagePlugin.PpmImageFile image mode=L size=92x112 at 0x7F8F45664110>, <PIL.PpmImagePlugin.PpmImageFile image mode=L size=92x112 at 0x7F8F456C9BD0>, <PIL.PpmImagePlugin.PpmImageFile image mode=L size=92x112 at 0x7F8F456C9ED0>, <PIL.PpmImagePlugin.PpmImageFile image mode=L size=92x112 at 0x7F8F456C9F10>, <PIL.PpmImagePlugin.PpmImageFile image mode=L size=92x112 at 0x7F8F456C9F50>, <PIL.PpmImagePlugin.PpmImageFile image mode=L size=92x112 at 0x7F8F456C9F90>, <PIL.PpmImagePlugin.PpmImageFile image mode=L size=92x112 at 0x7F8F45664290>, <PIL.PpmImagePlugin.PpmImageFile image mode=L size=92x112 at 0x7F8F456642D0>, <PIL.PpmImagePlugin.PpmImageFile image mode=L size=92x112 at 0x7F8F45664310>, <PIL.PpmImagePlugin.PpmImageFile image mode=L size=92x112 at 0x7F8F45664350>, <PIL.PpmImagePlugin.PpmImageFile image mode=L size=92x112 at 0x7F8F45664390>, <PIL.PpmImagePlugin.PpmImageFile image mode=L size=92x112 at 0x7F8F45664150>, <PIL.PpmImagePlugin.PpmImageFile image mode=L size=92x112 at 0x7F8F45664190>, <PIL.PpmImagePlugin.PpmImageFile image mode=L size=92x112 at 0x7F8F456641D0>, <PIL.PpmImagePlugin.PpmImageFile image mode=L size=92x112 at 0x7F8F45664210>, <PIL.PpmImagePlugin.PpmImageFile image mode=L size=92x112 at 0x7F8F45664250>, <PIL.PpmImagePlugin.PpmImageFile image mode=L size=92x112 at 0x7F8F45664510>, <PIL.PpmImagePlugin.PpmImageFile image mode=L size=92x112 at 0x7F8F45664550>, <PIL.PpmImagePlugin.PpmImageFile image mode=L size=92x112 at 0x7F8F45664590>, <PIL.PpmImagePlugin.PpmImageFile image mode=L size=92x112 at 0x7F8F456645D0>, <PIL.PpmImagePlugin.PpmImageFile image mode=L size=92x112 at 0x7F8F45664610>, <PIL.PpmImagePlugin.PpmImageFile image mode=L size=92x112 at 0x7F8F456643D0>, <PIL.PpmImagePlugin.PpmImageFile image mode=L size=92x112 at 0x7F8F45664410>, <PIL.PpmImagePlugin.PpmImageFile image mode=L size=92x112 at 0x7F8F45664450>, <PIL.PpmImagePlugin.PpmImageFile image mode=L size=92x112 at 0x7F8F45664490>, <PIL.PpmImagePlugin.PpmImageFile image mode=L size=92x112 at 0x7F8F456644D0>, <PIL.PpmImagePlugin.PpmImageFile image mode=L size=92x112 at 0x7F8F45664790>, <PIL.PpmImagePlugin.PpmImageFile image mode=L size=92x112 at 0x7F8F456647D0>, <PIL.PpmImagePlugin.PpmImageFile image mode=L size=92x112 at 0x7F8F45664810>, <PIL.PpmImagePlugin.PpmImageFile image mode=L size=92x112 at 0x7F8F45664850>, <PIL.PpmImagePlugin.PpmImageFile image mode=L size=92x112 at 0x7F8F45664890>, <PIL.PpmImagePlugin.PpmImageFile image mode=L size=92x112 at 0x7F8F45664650>, <PIL.PpmImagePlugin.PpmImageFile image mode=L size=92x112 at 0x7F8F45664690>, <PIL.PpmImagePlugin.PpmImageFile image mode=L size=92x112 at 0x7F8F456646D0>, <PIL.PpmImagePlugin.PpmImageFile image mode=L size=92x112 at 0x7F8F45664710>, <PIL.PpmImagePlugin.PpmImageFile image mode=L size=92x112 at 0x7F8F45664750>, <PIL.PpmImagePlugin.PpmImageFile image mode=L size=92x112 at 0x7F8F45664A10>, <PIL.PpmImagePlugin.PpmImageFile image mode=L size=92x112 at 0x7F8F45664A50>, <PIL.PpmImagePlugin.PpmImageFile image mode=L size=92x112 at 0x7F8F45664A90>, <PIL.PpmImagePlugin.PpmImageFile image mode=L size=92x112 at 0x7F8F45664AD0>, <PIL.PpmImagePlugin.PpmImageFile image mode=L size=92x112 at 0x7F8F45664B10>, <PIL.PpmImagePlugin.PpmImageFile image mode=L size=92x112 at 0x7F8F456648D0>, <PIL.PpmImagePlugin.PpmImageFile image mode=L size=92x112 at 0x7F8F45664910>, <PIL.PpmImagePlugin.PpmImageFile image mode=L size=92x112 at 0x7F8F45664950>, <PIL.PpmImagePlugin.PpmImageFile image mode=L size=92x112 at 0x7F8F45664990>, <PIL.PpmImagePlugin.PpmImageFile image mode=L size=92x112 at 0x7F8F456649D0>, <PIL.PpmImagePlugin.PpmImageFile image mode=L size=92x112 at 0x7F8F45664C90>, <PIL.PpmImagePlugin.PpmImageFile image mode=L size=92x112 at 0x7F8F45664CD0>, <PIL.PpmImagePlugin.PpmImageFile image mode=L size=92x112 at 0x7F8F45664D10>, <PIL.PpmImagePlugin.PpmImageFile image mode=L size=92x112 at 0x7F8F45664D50>, <PIL.PpmImagePlugin.PpmImageFile image mode=L size=92x112 at 0x7F8F45664D90>, <PIL.PpmImagePlugin.PpmImageFile image mode=L size=92x112 at 0x7F8F45664B50>, <PIL.PpmImagePlugin.PpmImageFile image mode=L size=92x112 at 0x7F8F45664B90>, <PIL.PpmImagePlugin.PpmImageFile image mode=L size=92x112 at 0x7F8F45664BD0>, <PIL.PpmImagePlugin.PpmImageFile image mode=L size=92x112 at 0x7F8F45664C10>, <PIL.PpmImagePlugin.PpmImageFile image mode=L size=92x112 at 0x7F8F45664C50>, <PIL.PpmImagePlugin.PpmImageFile image mode=L size=92x112 at 0x7F8F45664F10>, <PIL.PpmImagePlugin.PpmImageFile image mode=L size=92x112 at 0x7F8F45664F50>, <PIL.PpmImagePlugin.PpmImageFile image mode=L size=92x112 at 0x7F8F45664F90>, <PIL.PpmImagePlugin.PpmImageFile image mode=L size=92x112 at 0x7F8F45664FD0>, <PIL.PpmImagePlugin.PpmImageFile image mode=L size=92x112 at 0x7F8F4567F050>, <PIL.PpmImagePlugin.PpmImageFile image mode=L size=92x112 at 0x7F8F45664DD0>, <PIL.PpmImagePlugin.PpmImageFile image mode=L size=92x112 at 0x7F8F45664E10>, <PIL.PpmImagePlugin.PpmImageFile image mode=L size=92x112 at 0x7F8F45664E50>, <PIL.PpmImagePlugin.PpmImageFile image mode=L size=92x112 at 0x7F8F45664E90>, <PIL.PpmImagePlugin.PpmImageFile image mode=L size=92x112 at 0x7F8F45664ED0>, <PIL.PpmImagePlugin.PpmImageFile image mode=L size=92x112 at 0x7F8F4567F1D0>, <PIL.PpmImagePlugin.PpmImageFile image mode=L size=92x112 at 0x7F8F4567F210>, <PIL.PpmImagePlugin.PpmImageFile image mode=L size=92x112 at 0x7F8F4567F250>, <PIL.PpmImagePlugin.PpmImageFile image mode=L size=92x112 at 0x7F8F4567F290>, <PIL.PpmImagePlugin.PpmImageFile image mode=L size=92x112 at 0x7F8F4567F2D0>, <PIL.PpmImagePlugin.PpmImageFile image mode=L size=92x112 at 0x7F8F4567F090>, <PIL.PpmImagePlugin.PpmImageFile image mode=L size=92x112 at 0x7F8F4567F0D0>, <PIL.PpmImagePlugin.PpmImageFile image mode=L size=92x112 at 0x7F8F4567F110>, <PIL.PpmImagePlugin.PpmImageFile image mode=L size=92x112 at 0x7F8F4567F150>, <PIL.PpmImagePlugin.PpmImageFile image mode=L size=92x112 at 0x7F8F4567F190>, <PIL.PpmImagePlugin.PpmImageFile image mode=L size=92x112 at 0x7F8F4567F450>, <PIL.PpmImagePlugin.PpmImageFile image mode=L size=92x112 at 0x7F8F4567F750>, <PIL.PpmImagePlugin.PpmImageFile image mode=L size=92x112 at 0x7F8F4B3D9B10>, <PIL.PpmImagePlugin.PpmImageFile image mode=L size=92x112 at 0x7F8F4571E890>, <PIL.PpmImagePlugin.PpmImageFile image mode=L size=92x112 at 0x7F8F456A1C10>, <PIL.PpmImagePlugin.PpmImageFile image mode=L size=92x112 at 0x7F8F4567F910>, <PIL.PpmImagePlugin.PpmImageFile image mode=L size=92x112 at 0x7F8F4567F510>, <PIL.PpmImagePlugin.PpmImageFile image mode=L size=92x112 at 0x7F8F4567F650>, <PIL.PpmImagePlugin.PpmImageFile image mode=L size=92x112 at 0x7F8F4567F790>, <PIL.PpmImagePlugin.PpmImageFile image mode=L size=92x112 at 0x7F8F4567F490>, <PIL.PpmImagePlugin.PpmImageFile image mode=L size=92x112 at 0x7F8F4567FA10>, <PIL.PpmImagePlugin.PpmImageFile image mode=L size=92x112 at 0x7F8F4567F850>, <PIL.PpmImagePlugin.PpmImageFile image mode=L size=92x112 at 0x7F8F4567F550>, <PIL.PpmImagePlugin.PpmImageFile image mode=L size=92x112 at 0x7F8F4567F8D0>, <PIL.PpmImagePlugin.PpmImageFile image mode=L size=92x112 at 0x7F8F4567F950>, <PIL.PpmImagePlugin.PpmImageFile image mode=L size=92x112 at 0x7F8F49996D90>, <PIL.PpmImagePlugin.PpmImageFile image mode=L size=92x112 at 0x7F8F49996C90>, <PIL.PpmImagePlugin.PpmImageFile image mode=L size=92x112 at 0x7F8F49996AD0>, <PIL.PpmImagePlugin.PpmImageFile image mode=L size=92x112 at 0x7F8F49996DD0>, <PIL.PpmImagePlugin.PpmImageFile image mode=L size=92x112 at 0x7F8F49996650>, <PIL.PpmImagePlugin.PpmImageFile image mode=L size=92x112 at 0x7F8F4567F610>, <PIL.PpmImagePlugin.PpmImageFile image mode=L size=92x112 at 0x7F8F4567FB90>, <PIL.PpmImagePlugin.PpmImageFile image mode=L size=92x112 at 0x7F8F4567F5D0>, <PIL.PpmImagePlugin.PpmImageFile image mode=L size=92x112 at 0x7F8F4567FC90>, <PIL.PpmImagePlugin.PpmImageFile image mode=L size=92x112 at 0x7F8F4567F810>, <PIL.PpmImagePlugin.PpmImageFile image mode=L size=92x112 at 0x7F8F4567F690>, <PIL.PpmImagePlugin.PpmImageFile image mode=L size=92x112 at 0x7F8F4567FA90>, <PIL.PpmImagePlugin.PpmImageFile image mode=L size=92x112 at 0x7F8F4567FBD0>, <PIL.PpmImagePlugin.PpmImageFile image mode=L size=92x112 at 0x7F8F4567FB50>, <PIL.PpmImagePlugin.PpmImageFile image mode=L size=92x112 at 0x7F8F4567FC50>, <PIL.PpmImagePlugin.PpmImageFile image mode=L size=92x112 at 0x7F8F4567FD90>, <PIL.PpmImagePlugin.PpmImageFile image mode=L size=92x112 at 0x7F8F4567FE50>, <PIL.PpmImagePlugin.PpmImageFile image mode=L size=92x112 at 0x7F8F4567FE90>, <PIL.PpmImagePlugin.PpmImageFile image mode=L size=92x112 at 0x7F8F4567FED0>, <PIL.PpmImagePlugin.PpmImageFile image mode=L size=92x112 at 0x7F8F4567FF10>, <PIL.PpmImagePlugin.PpmImageFile image mode=L size=92x112 at 0x7F8F4567FCD0>, <PIL.PpmImagePlugin.PpmImageFile image mode=L size=92x112 at 0x7F8F4567FD10>, <PIL.PpmImagePlugin.PpmImageFile image mode=L size=92x112 at 0x7F8F4567FD50>, <PIL.PpmImagePlugin.PpmImageFile image mode=L size=92x112 at 0x7F8F4567FDD0>, <PIL.PpmImagePlugin.PpmImageFile image mode=L size=92x112 at 0x7F8F4567FE10>, <PIL.PpmImagePlugin.PpmImageFile image mode=L size=92x112 at 0x7F8F4567FAD0>, <PIL.PpmImagePlugin.PpmImageFile image mode=L size=92x112 at 0x7F8F4567F890>, <PIL.PpmImagePlugin.PpmImageFile image mode=L size=92x112 at 0x7F8F45620050>, <PIL.PpmImagePlugin.PpmImageFile image mode=L size=92x112 at 0x7F8F45620090>, <PIL.PpmImagePlugin.PpmImageFile image mode=L size=92x112 at 0x7F8F456200D0>, <PIL.PpmImagePlugin.PpmImageFile image mode=L size=92x112 at 0x7F8F4567F990>, <PIL.PpmImagePlugin.PpmImageFile image mode=L size=92x112 at 0x7F8F4567FF90>, <PIL.PpmImagePlugin.PpmImageFile image mode=L size=92x112 at 0x7F8F4567FFD0>, <PIL.PpmImagePlugin.PpmImageFile image mode=L size=92x112 at 0x7F8F4567FC10>, <PIL.PpmImagePlugin.PpmImageFile image mode=L size=92x112 at 0x7F8F4567FB10>, <PIL.PpmImagePlugin.PpmImageFile image mode=L size=92x112 at 0x7F8F45620250>, <PIL.PpmImagePlugin.PpmImageFile image mode=L size=92x112 at 0x7F8F45620290>, <PIL.PpmImagePlugin.PpmImageFile image mode=L size=92x112 at 0x7F8F456202D0>, <PIL.PpmImagePlugin.PpmImageFile image mode=L size=92x112 at 0x7F8F45620310>, <PIL.PpmImagePlugin.PpmImageFile image mode=L size=92x112 at 0x7F8F45620350>, <PIL.PpmImagePlugin.PpmImageFile image mode=L size=92x112 at 0x7F8F45620110>, <PIL.PpmImagePlugin.PpmImageFile image mode=L size=92x112 at 0x7F8F45620150>, <PIL.PpmImagePlugin.PpmImageFile image mode=L size=92x112 at 0x7F8F45620190>, <PIL.PpmImagePlugin.PpmImageFile image mode=L size=92x112 at 0x7F8F456201D0>, <PIL.PpmImagePlugin.PpmImageFile image mode=L size=92x112 at 0x7F8F45620210>, <PIL.PpmImagePlugin.PpmImageFile image mode=L size=92x112 at 0x7F8F456204D0>, <PIL.PpmImagePlugin.PpmImageFile image mode=L size=92x112 at 0x7F8F45620510>, <PIL.PpmImagePlugin.PpmImageFile image mode=L size=92x112 at 0x7F8F45620550>, <PIL.PpmImagePlugin.PpmImageFile image mode=L size=92x112 at 0x7F8F45620590>, <PIL.PpmImagePlugin.PpmImageFile image mode=L size=92x112 at 0x7F8F456205D0>, <PIL.PpmImagePlugin.PpmImageFile image mode=L size=92x112 at 0x7F8F45620390>, <PIL.PpmImagePlugin.PpmImageFile image mode=L size=92x112 at 0x7F8F456203D0>, <PIL.PpmImagePlugin.PpmImageFile image mode=L size=92x112 at 0x7F8F45620410>, <PIL.PpmImagePlugin.PpmImageFile image mode=L size=92x112 at 0x7F8F45620450>, <PIL.PpmImagePlugin.PpmImageFile image mode=L size=92x112 at 0x7F8F45620490>, <PIL.PpmImagePlugin.PpmImageFile image mode=L size=92x112 at 0x7F8F45620750>, <PIL.PpmImagePlugin.PpmImageFile image mode=L size=92x112 at 0x7F8F45620790>, <PIL.PpmImagePlugin.PpmImageFile image mode=L size=92x112 at 0x7F8F456207D0>, <PIL.PpmImagePlugin.PpmImageFile image mode=L size=92x112 at 0x7F8F45620810>, <PIL.PpmImagePlugin.PpmImageFile image mode=L size=92x112 at 0x7F8F45620850>, <PIL.PpmImagePlugin.PpmImageFile image mode=L size=92x112 at 0x7F8F45620610>, <PIL.PpmImagePlugin.PpmImageFile image mode=L size=92x112 at 0x7F8F45620650>, <PIL.PpmImagePlugin.PpmImageFile image mode=L size=92x112 at 0x7F8F45620690>, <PIL.PpmImagePlugin.PpmImageFile image mode=L size=92x112 at 0x7F8F456206D0>, <PIL.PpmImagePlugin.PpmImageFile image mode=L size=92x112 at 0x7F8F45620710>, <PIL.PpmImagePlugin.PpmImageFile image mode=L size=92x112 at 0x7F8F456209D0>, <PIL.PpmImagePlugin.PpmImageFile image mode=L size=92x112 at 0x7F8F45620A10>, <PIL.PpmImagePlugin.PpmImageFile image mode=L size=92x112 at 0x7F8F45620A50>, <PIL.PpmImagePlugin.PpmImageFile image mode=L size=92x112 at 0x7F8F45620A90>, <PIL.PpmImagePlugin.PpmImageFile image mode=L size=92x112 at 0x7F8F45620AD0>, <PIL.PpmImagePlugin.PpmImageFile image mode=L size=92x112 at 0x7F8F45620890>, <PIL.PpmImagePlugin.PpmImageFile image mode=L size=92x112 at 0x7F8F456208D0>, <PIL.PpmImagePlugin.PpmImageFile image mode=L size=92x112 at 0x7F8F45620910>, <PIL.PpmImagePlugin.PpmImageFile image mode=L size=92x112 at 0x7F8F45620950>, <PIL.PpmImagePlugin.PpmImageFile image mode=L size=92x112 at 0x7F8F45620990>, <PIL.PpmImagePlugin.PpmImageFile image mode=L size=92x112 at 0x7F8F45620C50>, <PIL.PpmImagePlugin.PpmImageFile image mode=L size=92x112 at 0x7F8F45620C90>, <PIL.PpmImagePlugin.PpmImageFile image mode=L size=92x112 at 0x7F8F45620CD0>, <PIL.PpmImagePlugin.PpmImageFile image mode=L size=92x112 at 0x7F8F45620D10>, <PIL.PpmImagePlugin.PpmImageFile image mode=L size=92x112 at 0x7F8F45620D50>, <PIL.PpmImagePlugin.PpmImageFile image mode=L size=92x112 at 0x7F8F45620B10>, <PIL.PpmImagePlugin.PpmImageFile image mode=L size=92x112 at 0x7F8F45620B50>, <PIL.PpmImagePlugin.PpmImageFile image mode=L size=92x112 at 0x7F8F45620B90>, <PIL.PpmImagePlugin.PpmImageFile image mode=L size=92x112 at 0x7F8F45620BD0>, <PIL.PpmImagePlugin.PpmImageFile image mode=L size=92x112 at 0x7F8F45620C10>, <PIL.PpmImagePlugin.PpmImageFile image mode=L size=92x112 at 0x7F8F45620ED0>, <PIL.PpmImagePlugin.PpmImageFile image mode=L size=92x112 at 0x7F8F45620F10>, <PIL.PpmImagePlugin.PpmImageFile image mode=L size=92x112 at 0x7F8F45620F50>, <PIL.PpmImagePlugin.PpmImageFile image mode=L size=92x112 at 0x7F8F45620F90>, <PIL.PpmImagePlugin.PpmImageFile image mode=L size=92x112 at 0x7F8F45620FD0>, <PIL.PpmImagePlugin.PpmImageFile image mode=L size=92x112 at 0x7F8F45620D90>, <PIL.PpmImagePlugin.PpmImageFile image mode=L size=92x112 at 0x7F8F499B8050>, <PIL.PpmImagePlugin.PpmImageFile image mode=L size=92x112 at 0x7F8F456C9B50>, <PIL.PpmImagePlugin.PpmImageFile image mode=L size=92x112 at 0x7F8F4567FF50>, <PIL.PpmImagePlugin.PpmImageFile image mode=L size=92x112 at 0x7F8F45620E90>, <PIL.PpmImagePlugin.PpmImageFile image mode=L size=92x112 at 0x7F8F45620E50>, <PIL.PpmImagePlugin.PpmImageFile image mode=L size=92x112 at 0x7F8F4567F4D0>, <PIL.PpmImagePlugin.PpmImageFile image mode=L size=92x112 at 0x7F8F4567F390>, <PIL.PpmImagePlugin.PpmImageFile image mode=L size=92x112 at 0x7F8F4567F350>, <PIL.PpmImagePlugin.PpmImageFile image mode=L size=92x112 at 0x7F8F4567F3D0>, <PIL.PpmImagePlugin.PpmImageFile image mode=L size=92x112 at 0x7F8F4563A3D0>, <PIL.PpmImagePlugin.PpmImageFile image mode=L size=92x112 at 0x7F8F4563A410>, <PIL.PpmImagePlugin.PpmImageFile image mode=L size=92x112 at 0x7F8F4563A450>, <PIL.PpmImagePlugin.PpmImageFile image mode=L size=92x112 at 0x7F8F4563A490>, <PIL.PpmImagePlugin.PpmImageFile image mode=L size=92x112 at 0x7F8F4563A4D0>, <PIL.PpmImagePlugin.PpmImageFile image mode=L size=92x112 at 0x7F8F4563A510>, <PIL.PpmImagePlugin.PpmImageFile image mode=L size=92x112 at 0x7F8F4563A550>, <PIL.PpmImagePlugin.PpmImageFile image mode=L size=92x112 at 0x7F8F4563A590>, <PIL.PpmImagePlugin.PpmImageFile image mode=L size=92x112 at 0x7F8F4563A5D0>, <PIL.PpmImagePlugin.PpmImageFile image mode=L size=92x112 at 0x7F8F4563A610>, <PIL.PpmImagePlugin.PpmImageFile image mode=L size=92x112 at 0x7F8F4567F7D0>, <PIL.PpmImagePlugin.PpmImageFile image mode=L size=92x112 at 0x7F8F4567F310>, <PIL.PpmImagePlugin.PpmImageFile image mode=L size=92x112 at 0x7F8F4567F410>, <PIL.PpmImagePlugin.PpmImageFile image mode=L size=92x112 at 0x7F8F4563A190>, <PIL.PpmImagePlugin.PpmImageFile image mode=L size=92x112 at 0x7F8F4563A1D0>, <PIL.PpmImagePlugin.PpmImageFile image mode=L size=92x112 at 0x7F8F4563A790>, <PIL.PpmImagePlugin.PpmImageFile image mode=L size=92x112 at 0x7F8F4563A7D0>, <PIL.PpmImagePlugin.PpmImageFile image mode=L size=92x112 at 0x7F8F4563A810>, <PIL.PpmImagePlugin.PpmImageFile image mode=L size=92x112 at 0x7F8F4563A2D0>, <PIL.PpmImagePlugin.PpmImageFile image mode=L size=92x112 at 0x7F8F4563A350>, <PIL.PpmImagePlugin.PpmImageFile image mode=L size=92x112 at 0x7F8F4563A390>, <PIL.PpmImagePlugin.PpmImageFile image mode=L size=92x112 at 0x7F8F4563A690>, <PIL.PpmImagePlugin.PpmImageFile image mode=L size=92x112 at 0x7F8F4563A6D0>, <PIL.PpmImagePlugin.PpmImageFile image mode=L size=92x112 at 0x7F8F4563A710>, <PIL.PpmImagePlugin.PpmImageFile image mode=L size=92x112 at 0x7F8F4563A750>, <PIL.PpmImagePlugin.PpmImageFile image mode=L size=92x112 at 0x7F8F4563A990>, <PIL.PpmImagePlugin.PpmImageFile image mode=L size=92x112 at 0x7F8F4563A9D0>, <PIL.PpmImagePlugin.PpmImageFile image mode=L size=92x112 at 0x7F8F4563AA10>, <PIL.PpmImagePlugin.PpmImageFile image mode=L size=92x112 at 0x7F8F4563AA50>, <PIL.PpmImagePlugin.PpmImageFile image mode=L size=92x112 at 0x7F8F4563AA90>, <PIL.PpmImagePlugin.PpmImageFile image mode=L size=92x112 at 0x7F8F4563A850>, <PIL.PpmImagePlugin.PpmImageFile image mode=L size=92x112 at 0x7F8F4563A890>, <PIL.PpmImagePlugin.PpmImageFile image mode=L size=92x112 at 0x7F8F4563A8D0>, <PIL.PpmImagePlugin.PpmImageFile image mode=L size=92x112 at 0x7F8F4563A910>, <PIL.PpmImagePlugin.PpmImageFile image mode=L size=92x112 at 0x7F8F4563A950>, <PIL.PpmImagePlugin.PpmImageFile image mode=L size=92x112 at 0x7F8F4563AC10>, <PIL.PpmImagePlugin.PpmImageFile image mode=L size=92x112 at 0x7F8F4563AC50>, <PIL.PpmImagePlugin.PpmImageFile image mode=L size=92x112 at 0x7F8F4563AC90>, <PIL.PpmImagePlugin.PpmImageFile image mode=L size=92x112 at 0x7F8F4563ACD0>, <PIL.PpmImagePlugin.PpmImageFile image mode=L size=92x112 at 0x7F8F4563AD10>, <PIL.PpmImagePlugin.PpmImageFile image mode=L size=92x112 at 0x7F8F4563A310>, <PIL.PpmImagePlugin.PpmImageFile image mode=L size=92x112 at 0x7F8F4563AB10>, <PIL.PpmImagePlugin.PpmImageFile image mode=L size=92x112 at 0x7F8F4563AB50>, <PIL.PpmImagePlugin.PpmImageFile image mode=L size=92x112 at 0x7F8F4563AB90>, <PIL.PpmImagePlugin.PpmImageFile image mode=L size=92x112 at 0x7F8F4563ABD0>, <PIL.PpmImagePlugin.PpmImageFile image mode=L size=92x112 at 0x7F8F4563AE90>, <PIL.PpmImagePlugin.PpmImageFile image mode=L size=92x112 at 0x7F8F4563AED0>, <PIL.PpmImagePlugin.PpmImageFile image mode=L size=92x112 at 0x7F8F4563A290>, <PIL.PpmImagePlugin.PpmImageFile image mode=L size=92x112 at 0x7F8F4563AF50>, <PIL.PpmImagePlugin.PpmImageFile image mode=L size=92x112 at 0x7F8F4563AF90>]\n"
          ]
        }
      ]
    },
    {
      "cell_type": "code",
      "source": [
        "print(loadedImages[0])"
      ],
      "metadata": {
        "colab": {
          "base_uri": "https://localhost:8080/"
        },
        "id": "EEIFeqmiOAvD",
        "outputId": "614c422b-de8c-490e-b3e8-359efc3b2692"
      },
      "execution_count": null,
      "outputs": [
        {
          "output_type": "stream",
          "name": "stdout",
          "text": [
            "<PIL.PpmImagePlugin.PpmImageFile image mode=L size=92x112 at 0x7F8F4572A910>\n"
          ]
        }
      ]
    },
    {
      "cell_type": "code",
      "source": [
        "loadedImages[0]"
      ],
      "metadata": {
        "colab": {
          "base_uri": "https://localhost:8080/"
        },
        "id": "FQK2EE1IOHQo",
        "outputId": "59fb25a0-1d44-4a40-f887-7c0c6cb906ba"
      },
      "execution_count": null,
      "outputs": [
        {
          "output_type": "execute_result",
          "data": {
            "text/plain": [
              "<PIL.PpmImagePlugin.PpmImageFile image mode=L size=92x112 at 0x7F8F4572A910>"
            ],
            "image/png": "[encoded data removed]"
          },
          "metadata": {},
          "execution_count": 8
        }
      ]
    },
    {
      "cell_type": "code",
      "source": [
        "print(dataMatrixD.shape)\n",
        "print(labels.shape)"
      ],
      "metadata": {
        "colab": {
          "base_uri": "https://localhost:8080/"
        },
        "id": "nvLrAmjqZmJE",
        "outputId": "f85b5408-3ac9-47fe-bd75-0310cd3bdb81"
      },
      "execution_count": null,
      "outputs": [
        {
          "output_type": "stream",
          "name": "stdout",
          "text": [
            "(400, 10304)\n",
            "(400,)\n"
          ]
        }
      ]
    },
    {
      "cell_type": "code",
      "source": [
        "print(dataMatrixD)"
      ],
      "metadata": {
        "colab": {
          "base_uri": "https://localhost:8080/"
        },
        "id": "Mp-PX-gwNmui",
        "outputId": "5fefa90f-c325-4d87-8c3a-de093347db4c"
      },
      "execution_count": null,
      "outputs": [
        {
          "output_type": "stream",
          "name": "stdout",
          "text": [
            "[[ 41.  47.  47. ...  35.  37.  38.]\n",
            " [ 48.  49.  45. ...  47.  46.  46.]\n",
            " [ 43.  50.  41. ... 158. 153. 169.]\n",
            " ...\n",
            " [157. 152. 154. ... 111. 108. 109.]\n",
            " [139. 143. 146. ...  83.  81.  74.]\n",
            " [155. 154. 154. ... 111. 111. 108.]]\n"
          ]
        }
      ]
    },
    {
      "cell_type": "markdown",
      "source": [
        "## Split the Dataset into Training and Test sets"
      ],
      "metadata": {
        "id": "i9KncbnmdBwz"
      }
    },
    {
      "cell_type": "code",
      "source": [],
      "metadata": {
        "id": "ufp9YM1HdEaH"
      },
      "execution_count": null,
      "outputs": []
    },
    {
      "cell_type": "code",
      "source": [
        "bonus = False\n",
        "if not bonus:\n",
        "  train_x = np.zeros(200*10304).reshape(-1,10304)\n",
        "  test_x = np.zeros(200*10304).reshape(-1,10304)\n",
        "  train_y = np.zeros(200)\n",
        "  test_y = np.zeros(200)\n",
        "  even=0\n",
        "  odd=0\n",
        "  for i in range(400):\n",
        "    if i%2==0:\n",
        "      test_x[even] = dataMatrixD[i]\n",
        "      test_y[even] = labels[i]\n",
        "      even += 1 \n",
        "    else:\n",
        "      train_x[odd] = dataMatrixD[i]\n",
        "      train_y[odd] = labels[i]\n",
        "      odd += 1\n",
        "else:\n",
        "  train_x = np.zeros(280*10304).reshape(-1,10304)\n",
        "  test_x = np.zeros(120*10304).reshape(-1,10304)\n",
        "  train_y = np.zeros(280)\n",
        "  test_y = np.zeros(120)\n",
        "  train=0\n",
        "  test=0\n",
        "  for i in range(0,400,10):\n",
        "    train_x[train:train+7] = dataMatrixD[i:i+7]\n",
        "    test_x[test:test+3] = dataMatrixD[i+7:i+10]\n",
        "    train_y[train:train+7] = labels[i:i+7]\n",
        "    test_y[test:test+3] = labels[i+7:i+10]\n",
        "    test += 3\n",
        "    train += 7"
      ],
      "metadata": {
        "id": "6GxMkF3Afbe0"
      },
      "execution_count": null,
      "outputs": []
    },
    {
      "cell_type": "code",
      "source": [
        "print(train_x.shape)\n",
        "print(train_y.shape)\n",
        "print(test_x.shape)\n",
        "print(test_y.shape)"
      ],
      "metadata": {
        "colab": {
          "base_uri": "https://localhost:8080/"
        },
        "id": "KyHgSjAoh3Au",
        "outputId": "e5adb109-ba18-40b8-f303-3b080e81b09c"
      },
      "execution_count": null,
      "outputs": [
        {
          "output_type": "stream",
          "name": "stdout",
          "text": [
            "(200, 10304)\n",
            "(200,)\n",
            "(200, 10304)\n",
            "(200,)\n"
          ]
        }
      ]
    },
    {
      "cell_type": "markdown",
      "source": [
        "## Classification using PCA"
      ],
      "metadata": {
        "id": "vLK83li1iA6K"
      }
    },
    {
      "cell_type": "markdown",
      "source": [
        "### Mean"
      ],
      "metadata": {
        "id": "ekveJRI7ogGJ"
      }
    },
    {
      "cell_type": "code",
      "source": [
        "# Compute Mean\n",
        "mean = np.mean(train_x, axis=0)\n",
        "print(mean)"
      ],
      "metadata": {
        "colab": {
          "base_uri": "https://localhost:8080/"
        },
        "id": "mxZ_NmFXiN1x",
        "outputId": "80088c9e-fd12-401a-f120-ea856035c81c"
      },
      "execution_count": null,
      "outputs": [
        {
          "output_type": "stream",
          "name": "stdout",
          "text": [
            "[84.795 84.595 84.89  ... 77.01  75.69  75.115]\n"
          ]
        }
      ]
    },
    {
      "cell_type": "markdown",
      "source": [
        "### Center Data"
      ],
      "metadata": {
        "id": "VNVFnSiPohw5"
      }
    },
    {
      "cell_type": "code",
      "source": [
        "# Center Data\n",
        "centeredData = train_x - mean\n",
        "print(centeredData)"
      ],
      "metadata": {
        "colab": {
          "base_uri": "https://localhost:8080/"
        },
        "id": "9rbKg1_OifcU",
        "outputId": "c5253671-12cc-4c51-fabd-c8488e443a12"
      },
      "execution_count": null,
      "outputs": [
        {
          "output_type": "stream",
          "name": "stdout",
          "text": [
            "[[-36.795 -35.595 -39.89  ... -30.01  -29.69  -29.115]\n",
            " [-21.795 -31.595 -49.89  ... -36.01  -65.69  -51.115]\n",
            " [-24.795 -24.595 -22.89  ... -45.01  -41.69  -41.115]\n",
            " ...\n",
            " [ 68.205  67.405  67.11  ...  32.99   32.31   38.885]\n",
            " [ 72.205  67.405  69.11  ...  33.99   32.31   33.885]\n",
            " [ 70.205  69.405  69.11  ...  33.99   35.31   32.885]]\n"
          ]
        }
      ]
    },
    {
      "cell_type": "markdown",
      "source": [
        "### Covariance Matrix"
      ],
      "metadata": {
        "id": "Gt3kyDsDojmZ"
      }
    },
    {
      "cell_type": "code",
      "source": [
        "# Covariance\n",
        "cov_matrix = np.cov(centeredData,rowvar=False, bias=True)\n",
        "print(cov_matrix)"
      ],
      "metadata": {
        "colab": {
          "base_uri": "https://localhost:8080/"
        },
        "id": "v1S2yF5vif70",
        "outputId": "d6c9ef38-a2aa-45b6-f565-914a8a05116b"
      },
      "execution_count": null,
      "outputs": [
        {
          "output_type": "stream",
          "name": "stdout",
          "text": [
            "[[1321.332975 1306.101975 1302.98245  ... -181.11795  -129.63855\n",
            "   -97.346425]\n",
            " [1306.101975 1308.060975 1296.69545  ... -182.50095  -127.61555\n",
            "   -96.328425]\n",
            " [1302.98245  1296.69545  1301.2079   ... -160.3389   -103.9541\n",
            "   -82.98735 ]\n",
            " ...\n",
            " [-181.11795  -182.50095  -160.3389   ... 2265.0299   2030.6281\n",
            "  1874.48385 ]\n",
            " [-129.63855  -127.61555  -103.9541   ... 2030.6281   2061.5939\n",
            "  1917.38065 ]\n",
            " [ -97.346425  -96.328425  -82.98735  ... 1874.48385  1917.38065\n",
            "  2049.341775]]\n"
          ]
        }
      ]
    },
    {
      "cell_type": "markdown",
      "source": [
        "### EigenValues & EigenVectors"
      ],
      "metadata": {
        "id": "7Vp-bCQool4x"
      }
    },
    {
      "cell_type": "code",
      "source": [
        "# Compute EigenValues\n",
        "eig_val, eig_vect = np.linalg.eig(cov_matrix)\n",
        "print(\"Eigen Values:\")\n",
        "print(eig_val)\n",
        "print(\"Eigen Vectors\")\n",
        "print(eig_vect)"
      ],
      "metadata": {
        "id": "tmxsJc4Oi6WD"
      },
      "execution_count": null,
      "outputs": []
    },
    {
      "cell_type": "markdown",
      "source": [
        "### Eigen Matrix"
      ],
      "metadata": {
        "id": "HGaEgoHPoro5"
      }
    },
    {
      "cell_type": "code",
      "source": [
        "eig_matrix = np.diag(eig_val)\n",
        "print(\"Eigen Matrix:\")\n",
        "print(eig_matrix)"
      ],
      "metadata": {
        "colab": {
          "base_uri": "https://localhost:8080/"
        },
        "id": "5-tRsqoajtU5",
        "outputId": "ae29994c-2421-44c5-e392-9f7a7bbdeb08"
      },
      "execution_count": null,
      "outputs": [
        {
          "output_type": "stream",
          "name": "stdout",
          "text": [
            "Eigen Matrix:\n",
            "[[2.76060815e+06+0.00000000e+00j 0.00000000e+00+0.00000000e+00j\n",
            "  0.00000000e+00+0.00000000e+00j ... 0.00000000e+00+0.00000000e+00j\n",
            "  0.00000000e+00+0.00000000e+00j 0.00000000e+00+0.00000000e+00j]\n",
            " [0.00000000e+00+0.00000000e+00j 2.12438539e+06+0.00000000e+00j\n",
            "  0.00000000e+00+0.00000000e+00j ... 0.00000000e+00+0.00000000e+00j\n",
            "  0.00000000e+00+0.00000000e+00j 0.00000000e+00+0.00000000e+00j]\n",
            " [0.00000000e+00+0.00000000e+00j 0.00000000e+00+0.00000000e+00j\n",
            "  1.06826515e+06+0.00000000e+00j ... 0.00000000e+00+0.00000000e+00j\n",
            "  0.00000000e+00+0.00000000e+00j 0.00000000e+00+0.00000000e+00j]\n",
            " ...\n",
            " [0.00000000e+00+0.00000000e+00j 0.00000000e+00+0.00000000e+00j\n",
            "  0.00000000e+00+0.00000000e+00j ... 2.32002391e-13-9.94067286e-14j\n",
            "  0.00000000e+00+0.00000000e+00j 0.00000000e+00+0.00000000e+00j]\n",
            " [0.00000000e+00+0.00000000e+00j 0.00000000e+00+0.00000000e+00j\n",
            "  0.00000000e+00+0.00000000e+00j ... 0.00000000e+00+0.00000000e+00j\n",
            "  4.29897386e-13+0.00000000e+00j 0.00000000e+00+0.00000000e+00j]\n",
            " [0.00000000e+00+0.00000000e+00j 0.00000000e+00+0.00000000e+00j\n",
            "  0.00000000e+00+0.00000000e+00j ... 0.00000000e+00+0.00000000e+00j\n",
            "  0.00000000e+00+0.00000000e+00j 2.16919667e-13+0.00000000e+00j]]\n"
          ]
        }
      ]
    },
    {
      "cell_type": "code",
      "source": [
        "# Compute EigenValues --> eigh guarantees sorting\n",
        "eig_val2, eig_vect2 = np.linalg.eigh(cov_matrix)\n",
        "print(\"Eigen Values:\")\n",
        "print(eig_val2)\n",
        "print(\"Eigen Vectors\")\n",
        "print(eig_vect2)"
      ],
      "metadata": {
        "colab": {
          "base_uri": "https://localhost:8080/"
        },
        "id": "lCKMrOtml5q4",
        "outputId": "0697d37c-9f62-46d0-ed99-333d25918ba5"
      },
      "execution_count": null,
      "outputs": [
        {
          "output_type": "stream",
          "name": "stdout",
          "text": [
            "Eigen Values:\n",
            "[-1.80159538e-09 -1.49490753e-09 -1.19499726e-09 ...  1.12493407e+06\n",
            "  2.15867218e+06  2.80969734e+06]\n",
            "Eigen Vectors\n",
            "[[ 0.         -0.          0.         ... -0.0173559  -0.01403503\n",
            "   0.00181274]\n",
            " [-0.30842475 -0.33739462 -0.18499528 ... -0.01747265 -0.01408952\n",
            "   0.00172616]\n",
            " [ 0.12090075 -0.35515342  0.15644399 ... -0.01732967 -0.0140813\n",
            "   0.00185274]\n",
            " ...\n",
            " [-0.01051069 -0.01123883 -0.01423857 ... -0.01578498  0.01049765\n",
            "   0.00751084]\n",
            " [ 0.01023603  0.00384396  0.0125115  ... -0.01650226  0.00988605\n",
            "   0.0067441 ]\n",
            " [-0.00600516 -0.01809787  0.00654238 ... -0.01628143  0.00878801\n",
            "   0.00761984]]\n"
          ]
        }
      ]
    },
    {
      "cell_type": "code",
      "source": [
        "desc_eig_val2 = np.flip(eig_val2, axis= 0)\n",
        "desc_eig_vect2 = np.flip(eig_vect2, axis = 1)\n",
        "print(\"Sorted EigenValues 2\")\n",
        "print(desc_eig_val2)\n",
        "print(\"Sorted EigenVectors 2\")\n",
        "print(desc_eig_vect2)"
      ],
      "metadata": {
        "colab": {
          "base_uri": "https://localhost:8080/"
        },
        "id": "rstXfk6OmVGC",
        "outputId": "e0b32787-23a3-46ac-c3b4-1b7d1a669189"
      },
      "execution_count": null,
      "outputs": [
        {
          "output_type": "stream",
          "name": "stdout",
          "text": [
            "Sorted EigenValues 2\n",
            "[ 2.80969734e+06  2.15867218e+06  1.12493407e+06 ... -1.19499726e-09\n",
            " -1.49490753e-09 -1.80159538e-09]\n",
            "Sorted EigenVectors 2\n",
            "[[ 0.00181274 -0.01403503 -0.0173559  ...  0.         -0.\n",
            "   0.        ]\n",
            " [ 0.00172616 -0.01408952 -0.01747265 ... -0.18499528 -0.33739462\n",
            "  -0.30842475]\n",
            " [ 0.00185274 -0.0140813  -0.01732967 ...  0.15644399 -0.35515342\n",
            "   0.12090075]\n",
            " ...\n",
            " [ 0.00751084  0.01049765 -0.01578498 ... -0.01423857 -0.01123883\n",
            "  -0.01051069]\n",
            " [ 0.0067441   0.00988605 -0.01650226 ...  0.0125115   0.00384396\n",
            "   0.01023603]\n",
            " [ 0.00761984  0.00878801 -0.01628143 ...  0.00654238 -0.01809787\n",
            "  -0.00600516]]\n"
          ]
        }
      ]
    },
    {
      "cell_type": "markdown",
      "source": [
        "### Fraction of Total Variance"
      ],
      "metadata": {
        "id": "FsM1c9A-ovP6"
      }
    },
    {
      "cell_type": "code",
      "source": [
        "alpha = [0.8, 0.85, 0.9, 0.95]\n",
        "dimensions = []\n",
        "for a in alpha:\n",
        "  dim = 0\n",
        "  total = 0\n",
        "  for eig in desc_eig_val2:\n",
        "    total += eig\n",
        "    dim += 1\n",
        "    if (total/desc_eig_val2.sum())>a:\n",
        "      dimensions.append(dim)\n",
        "      break\n",
        "print(dimensions)"
      ],
      "metadata": {
        "colab": {
          "base_uri": "https://localhost:8080/"
        },
        "id": "yVxIfntnm0MC",
        "outputId": "58a5d0d5-d4a6-4c5b-b83e-9a9f06a0310a"
      },
      "execution_count": null,
      "outputs": [
        {
          "output_type": "stream",
          "name": "stdout",
          "text": [
            "[40, 60, 92, 149]\n"
          ]
        }
      ]
    },
    {
      "cell_type": "markdown",
      "source": [
        "### Alpha aganist Dimensions"
      ],
      "metadata": {
        "id": "Fhll72DNo091"
      }
    },
    {
      "cell_type": "code",
      "source": [
        "plt.figure(figsize=(15,5))\n",
        "plt.plot(dimensions,alpha)\n",
        "plt.title(\"Alpha against Dimensions\")\n",
        "plt.xlabel(\"dimensions\")\n",
        "plt.ylabel(\"alpha\")"
      ],
      "metadata": {
        "colab": {
          "base_uri": "https://localhost:8080/",
          "height": 367
        },
        "id": "Veg4WaRBnisY",
        "outputId": "87ec8a48-bc5a-4f15-fbc4-9786ac79065d"
      },
      "execution_count": null,
      "outputs": [
        {
          "output_type": "execute_result",
          "data": {
            "text/plain": [
              "Text(0, 0.5, 'alpha')"
            ]
          },
          "metadata": {},
          "execution_count": 14
        },
        {
          "output_type": "display_data",
          "data": {
            "text/plain": [
              "<Figure size 1080x360 with 1 Axes>"
            ],
            "image/png": "[encoded data removed]"
          },
          "metadata": {
            "needs_background": "light"
          }
        }
      ]
    },
    {
      "cell_type": "markdown",
      "source": [
        "### Projection Matrix"
      ],
      "metadata": {
        "id": "Tuuz3hJfq6nu"
      }
    },
    {
      "cell_type": "code",
      "source": [
        "projection_matrix_a1 = desc_eig_vect2[:,0:dimensions[0]]\n",
        "projection_matrix_a2 = desc_eig_vect2[:,0:dimensions[1]]\n",
        "projection_matrix_a3 = desc_eig_vect2[:,0:dimensions[2]]\n",
        "projection_matrix_a4 = desc_eig_vect2[:,0:dimensions[3]]"
      ],
      "metadata": {
        "id": "kkNYTG_XnkBk"
      },
      "execution_count": null,
      "outputs": []
    },
    {
      "cell_type": "code",
      "source": [
        "dimensions[3]"
      ],
      "metadata": {
        "colab": {
          "base_uri": "https://localhost:8080/"
        },
        "id": "6Wn7etmWxs6v",
        "outputId": "4795efb8-b91a-4f70-fcb6-10ce81ef1ba8"
      },
      "execution_count": null,
      "outputs": [
        {
          "output_type": "execute_result",
          "data": {
            "text/plain": [
              "115"
            ]
          },
          "metadata": {},
          "execution_count": 24
        }
      ]
    },
    {
      "cell_type": "code",
      "source": [
        "projection_matrix_a1.shape"
      ],
      "metadata": {
        "colab": {
          "base_uri": "https://localhost:8080/"
        },
        "id": "WhchKxINscLy",
        "outputId": "34f587b6-355f-4823-885b-b5fe63ae4399"
      },
      "execution_count": null,
      "outputs": [
        {
          "output_type": "execute_result",
          "data": {
            "text/plain": [
              "(10304, 36)"
            ]
          },
          "metadata": {},
          "execution_count": 25
        }
      ]
    },
    {
      "cell_type": "markdown",
      "source": [
        "### Reduce Training Set"
      ],
      "metadata": {
        "id": "nkdvqsAu8fcC"
      }
    },
    {
      "cell_type": "code",
      "source": [
        "projected_matrix_a1 = np.dot(np.transpose(projection_matrix_a1),np.transpose(centeredData))\n",
        "projected_matrix_a2 = np.dot(np.transpose(projection_matrix_a2),np.transpose(centeredData))\n",
        "projected_matrix_a3 = np.dot(np.transpose(projection_matrix_a3),np.transpose(centeredData))\n",
        "projected_matrix_a4 = np.dot(np.transpose(projection_matrix_a4),np.transpose(centeredData))"
      ],
      "metadata": {
        "id": "PSU8B2LvrPtv"
      },
      "execution_count": null,
      "outputs": []
    },
    {
      "cell_type": "code",
      "source": [
        "projected_matrix_a4.shape"
      ],
      "metadata": {
        "colab": {
          "base_uri": "https://localhost:8080/"
        },
        "id": "cpUuY5BG0zEP",
        "outputId": "960cb662-b5b0-40e1-fa5a-2c5f44cb3821"
      },
      "execution_count": null,
      "outputs": [
        {
          "output_type": "execute_result",
          "data": {
            "text/plain": [
              "(115, 200)"
            ]
          },
          "metadata": {},
          "execution_count": 27
        }
      ]
    },
    {
      "cell_type": "markdown",
      "source": [
        "### Reduce Testing Set"
      ],
      "metadata": {
        "id": "XYitBgiBvz_6"
      }
    },
    {
      "cell_type": "code",
      "source": [
        "mean_test = np.mean(test_x, axis=0)\n",
        "centeredData_test = test_x - mean_test"
      ],
      "metadata": {
        "id": "TTYHsrVavlrK"
      },
      "execution_count": null,
      "outputs": []
    },
    {
      "cell_type": "code",
      "source": [
        "projected_matrix_test_a1 = np.dot(np.transpose(projection_matrix_a1),np.transpose(centeredData_test))\n",
        "projected_matrix_test_a2 = np.dot(np.transpose(projection_matrix_a2),np.transpose(centeredData_test))\n",
        "projected_matrix_test_a3 = np.dot(np.transpose(projection_matrix_a3),np.transpose(centeredData_test))\n",
        "projected_matrix_test_a4 = np.dot(np.transpose(projection_matrix_a4),np.transpose(centeredData_test))"
      ],
      "metadata": {
        "id": "eJMq5TJHwBTn"
      },
      "execution_count": null,
      "outputs": []
    },
    {
      "cell_type": "markdown",
      "source": [
        "### KNN"
      ],
      "metadata": {
        "id": "QHiLJngIwuUn"
      }
    },
    {
      "cell_type": "code",
      "source": [
        "from sklearn.neighbors import KNeighborsClassifier\n",
        "from sklearn import metrics\n",
        "from sklearn.metrics import confusion_matrix, accuracy_score, classification_report"
      ],
      "metadata": {
        "id": "QYbwr02FxOQk"
      },
      "execution_count": null,
      "outputs": []
    },
    {
      "cell_type": "code",
      "source": [
        "def knn(train_x_in, train_y_in, test_x_in, test_y_in, k):\n",
        "  knn = KNeighborsClassifier(n_neighbors=k)\n",
        "  knn.fit(train_x_in,train_y_in)\n",
        "  pred_y=knn.predict(test_x_in)\n",
        "  accuracy=accuracy_score(test_y_in, pred_y) * 100\n",
        "  return accuracy\n"
      ],
      "metadata": {
        "id": "ScpmuGOFyuEP"
      },
      "execution_count": null,
      "outputs": []
    },
    {
      "cell_type": "code",
      "source": [
        "kk = [1, 3, 5, 7]"
      ],
      "metadata": {
        "id": "_L-7qYoveQb1"
      },
      "execution_count": null,
      "outputs": []
    },
    {
      "cell_type": "code",
      "source": [
        "\n",
        "accuracies = []\n",
        "accuracy = []\n",
        "\n",
        "for k in kk:\n",
        "  accuracy.append(knn(np.transpose(projected_matrix_a1), train_y, np.transpose(projected_matrix_test_a1),test_y, k))\n",
        "  accuracy.append(knn(np.transpose(projected_matrix_a2), train_y, np.transpose(projected_matrix_test_a2),test_y, k))\n",
        "  accuracy.append(knn(np.transpose(projected_matrix_a3), train_y, np.transpose(projected_matrix_test_a3),test_y, k))\n",
        "  accuracy.append(knn(np.transpose(projected_matrix_a4), train_y, np.transpose(projected_matrix_test_a4),test_y, k))\n",
        "  accuracies.append(accuracy)\n",
        "  accuracy = []"
      ],
      "metadata": {
        "id": "tFVU03990APx"
      },
      "execution_count": null,
      "outputs": []
    },
    {
      "cell_type": "code",
      "source": [
        "print(accuracies)"
      ],
      "metadata": {
        "colab": {
          "base_uri": "https://localhost:8080/"
        },
        "id": "S8KbA5bK1t8R",
        "outputId": "47869d4e-0a26-4f81-ef1e-a832a3119830"
      },
      "execution_count": null,
      "outputs": [
        {
          "output_type": "stream",
          "name": "stdout",
          "text": [
            "[[97.5, 97.5, 96.66666666666667, 96.66666666666667], [95.83333333333334, 98.33333333333333, 97.5, 97.5], [91.66666666666666, 92.5, 93.33333333333333, 93.33333333333333], [87.5, 88.33333333333333, 89.16666666666667, 87.5]]\n"
          ]
        }
      ]
    },
    {
      "cell_type": "code",
      "source": [
        "# Plot Alpha against Accuracy at Constant K\n",
        "for i in range(len(accuracies[0])): \n",
        "  plt.title(f'k = {kk[i]}')\n",
        "  plt.plot(alpha,accuracies[i])\n",
        "  plt.xlabel('Alpha')\n",
        "  plt.ylabel('Accuracy')\n",
        "  plt.show()\n",
        "  for j in range(len(accuracies[0])):\n",
        "    print(f'Accuracy at k={kk[i]}, dim={dimensions[j]}, alpha={alpha[j]} = {accuracies[i][j]} %')\n",
        "  print('---------------------------------------------------------------')"
      ],
      "metadata": {
        "colab": {
          "base_uri": "https://localhost:8080/",
          "height": 1000
        },
        "id": "-0uKzHEZ1QzF",
        "outputId": "969c211c-d5e4-4c49-e11f-e3560a627f04"
      },
      "execution_count": null,
      "outputs": [
        {
          "output_type": "display_data",
          "data": {
            "text/plain": [
              "<Figure size 432x288 with 1 Axes>"
            ],
            "image/png": "[encoded data removed]"
          },
          "metadata": {
            "needs_background": "light"
          }
        },
        {
          "output_type": "stream",
          "name": "stdout",
          "text": [
            "Accuracy at k=1, dim=40, alpha=0.8 = 97.5 %\n",
            "Accuracy at k=1, dim=60, alpha=0.85 = 97.5 %\n",
            "Accuracy at k=1, dim=92, alpha=0.9 = 96.66666666666667 %\n",
            "Accuracy at k=1, dim=149, alpha=0.95 = 96.66666666666667 %\n",
            "---------------------------------------------------------------\n"
          ]
        },
        {
          "output_type": "display_data",
          "data": {
            "text/plain": [
              "<Figure size 432x288 with 1 Axes>"
            ],
            "image/png": "[encoded data removed]"
          },
          "metadata": {
            "needs_background": "light"
          }
        },
        {
          "output_type": "stream",
          "name": "stdout",
          "text": [
            "Accuracy at k=3, dim=40, alpha=0.8 = 95.83333333333334 %\n",
            "Accuracy at k=3, dim=60, alpha=0.85 = 98.33333333333333 %\n",
            "Accuracy at k=3, dim=92, alpha=0.9 = 97.5 %\n",
            "Accuracy at k=3, dim=149, alpha=0.95 = 97.5 %\n",
            "---------------------------------------------------------------\n"
          ]
        },
        {
          "output_type": "display_data",
          "data": {
            "text/plain": [
              "<Figure size 432x288 with 1 Axes>"
            ],
            "image/png": "[encoded data removed]"
          },
          "metadata": {
            "needs_background": "light"
          }
        },
        {
          "output_type": "stream",
          "name": "stdout",
          "text": [
            "Accuracy at k=5, dim=40, alpha=0.8 = 91.66666666666666 %\n",
            "Accuracy at k=5, dim=60, alpha=0.85 = 92.5 %\n",
            "Accuracy at k=5, dim=92, alpha=0.9 = 93.33333333333333 %\n",
            "Accuracy at k=5, dim=149, alpha=0.95 = 93.33333333333333 %\n",
            "---------------------------------------------------------------\n"
          ]
        },
        {
          "output_type": "display_data",
          "data": {
            "text/plain": [
              "<Figure size 432x288 with 1 Axes>"
            ],
            "image/png": "[encoded data removed]"
          },
          "metadata": {
            "needs_background": "light"
          }
        },
        {
          "output_type": "stream",
          "name": "stdout",
          "text": [
            "Accuracy at k=7, dim=40, alpha=0.8 = 87.5 %\n",
            "Accuracy at k=7, dim=60, alpha=0.85 = 88.33333333333333 %\n",
            "Accuracy at k=7, dim=92, alpha=0.9 = 89.16666666666667 %\n",
            "Accuracy at k=7, dim=149, alpha=0.95 = 87.5 %\n",
            "---------------------------------------------------------------\n"
          ]
        }
      ]
    },
    {
      "cell_type": "code",
      "source": [
        "[i[0] for i in accuracies]"
      ],
      "metadata": {
        "colab": {
          "base_uri": "https://localhost:8080/"
        },
        "id": "j5EYvSyu4Sh8",
        "outputId": "856b05e7-640e-4709-9e8c-c9eb1ae8a6d2"
      },
      "execution_count": null,
      "outputs": [
        {
          "output_type": "execute_result",
          "data": {
            "text/plain": [
              "[97.5, 95.83333333333334, 91.66666666666666, 87.5]"
            ]
          },
          "metadata": {},
          "execution_count": 26
        }
      ]
    },
    {
      "cell_type": "code",
      "source": [
        "# Plot K against Accuracy at contant Alpha & Dimensions\n",
        "for i in range(len(kk)): \n",
        "  plt.title(f'alpha = {alpha[i]} & dimensions = {dimensions[i]}')\n",
        "  plt.plot(kk,[j[i] for j in accuracies])\n",
        "  plt.xlabel('K')\n",
        "  plt.ylabel('Accuracy')\n",
        "  plt.show()\n",
        "  for j in range(len(kk)):\n",
        "    print(f'Accuracy at k={kk[j]}, dim={dimensions[i]}, alpha={alpha[i]} = {accuracies[j][i]} %')\n",
        "  print('---------------------------------------------------------------')"
      ],
      "metadata": {
        "colab": {
          "base_uri": "https://localhost:8080/",
          "height": 1000
        },
        "id": "0-snmuiE2Ch5",
        "outputId": "b36164ed-7c83-46d6-de9d-f7fc142d5955"
      },
      "execution_count": null,
      "outputs": [
        {
          "output_type": "display_data",
          "data": {
            "text/plain": [
              "<Figure size 432x288 with 1 Axes>"
            ],
            "image/png": "[encoded data removed]"
          },
          "metadata": {
            "needs_background": "light"
          }
        },
        {
          "output_type": "stream",
          "name": "stdout",
          "text": [
            "Accuracy at k=1, dim=40, alpha=0.8 = 97.5 %\n",
            "Accuracy at k=3, dim=40, alpha=0.8 = 95.83333333333334 %\n",
            "Accuracy at k=5, dim=40, alpha=0.8 = 91.66666666666666 %\n",
            "Accuracy at k=7, dim=40, alpha=0.8 = 87.5 %\n",
            "---------------------------------------------------------------\n"
          ]
        },
        {
          "output_type": "display_data",
          "data": {
            "text/plain": [
              "<Figure size 432x288 with 1 Axes>"
            ],
            "image/png": "[encoded data removed]"
          },
          "metadata": {
            "needs_background": "light"
          }
        },
        {
          "output_type": "stream",
          "name": "stdout",
          "text": [
            "Accuracy at k=1, dim=60, alpha=0.85 = 97.5 %\n",
            "Accuracy at k=3, dim=60, alpha=0.85 = 98.33333333333333 %\n",
            "Accuracy at k=5, dim=60, alpha=0.85 = 92.5 %\n",
            "Accuracy at k=7, dim=60, alpha=0.85 = 88.33333333333333 %\n",
            "---------------------------------------------------------------\n"
          ]
        },
        {
          "output_type": "display_data",
          "data": {
            "text/plain": [
              "<Figure size 432x288 with 1 Axes>"
            ],
            "image/png": "[encoded data removed]"
          },
          "metadata": {
            "needs_background": "light"
          }
        },
        {
          "output_type": "stream",
          "name": "stdout",
          "text": [
            "Accuracy at k=1, dim=92, alpha=0.9 = 96.66666666666667 %\n",
            "Accuracy at k=3, dim=92, alpha=0.9 = 97.5 %\n",
            "Accuracy at k=5, dim=92, alpha=0.9 = 93.33333333333333 %\n",
            "Accuracy at k=7, dim=92, alpha=0.9 = 89.16666666666667 %\n",
            "---------------------------------------------------------------\n"
          ]
        },
        {
          "output_type": "display_data",
          "data": {
            "text/plain": [
              "<Figure size 432x288 with 1 Axes>"
            ],
            "image/png": "[encoded data removed]"
          },
          "metadata": {
            "needs_background": "light"
          }
        },
        {
          "output_type": "stream",
          "name": "stdout",
          "text": [
            "Accuracy at k=1, dim=149, alpha=0.95 = 96.66666666666667 %\n",
            "Accuracy at k=3, dim=149, alpha=0.95 = 97.5 %\n",
            "Accuracy at k=5, dim=149, alpha=0.95 = 93.33333333333333 %\n",
            "Accuracy at k=7, dim=149, alpha=0.95 = 87.5 %\n",
            "---------------------------------------------------------------\n"
          ]
        }
      ]
    },
    {
      "cell_type": "markdown",
      "source": [
        "Conclusion. Principal Component Analysis (PCA) is very useful to speed up the computation by reducing the dimensionality of the data. Plus, when you have high dimensionality with high correlated variable of one another, the PCA can improve the accuracy of classification model"
      ],
      "metadata": {
        "id": "uJm5dUPM8rd_"
      }
    },
    {
      "cell_type": "markdown",
      "source": [
        "However, Using PCA can lose some spatial information which is important for classification, so the classification accuracy decreases."
      ],
      "metadata": {
        "id": "KCQNXzz18uwH"
      }
    },
    {
      "cell_type": "markdown",
      "source": [
        "PCA can help us improve performance at a very low cost of model accuracy. Other benefits of PCA include reduction of noise in the data, feature selection (to a certain extent), and the ability to produce independent, uncorrelated features of the data."
      ],
      "metadata": {
        "id": "vycBTmN59RxP"
      }
    },
    {
      "cell_type": "markdown",
      "source": [
        "## Classification Using LDA"
      ],
      "metadata": {
        "id": "4vfhfOUVLgu4"
      }
    },
    {
      "cell_type": "markdown",
      "source": [
        "### Mean"
      ],
      "metadata": {
        "id": "msOVyhDlTch6"
      }
    },
    {
      "cell_type": "code",
      "source": [
        "mean_vect = np.zeros(40*10304).reshape(-1,10304)\n",
        "i = 0\n",
        "for j in range(0,200,5):\n",
        "  mean_vect[i] = np.mean(train_x[j:j+5],axis=0)\n",
        "  i += 1\n",
        "print(mean_vect.shape)\n",
        "print(mean_vect)"
      ],
      "metadata": {
        "colab": {
          "base_uri": "https://localhost:8080/"
        },
        "id": "QdCkZJuCLjfT",
        "outputId": "2a8c216e-368d-414b-8871-5d628254798a"
      },
      "execution_count": null,
      "outputs": [
        {
          "output_type": "stream",
          "name": "stdout",
          "text": [
            "(40, 10304)\n",
            "[[ 51.4  49.2  43.6 ...  41.   35.2  36.4]\n",
            " [120.8 120.6 121.4 ...  77.4  77.8  76.4]\n",
            " [ 52.8  56.8  57.6 ...  40.4  44.4  43.2]\n",
            " ...\n",
            " [127.4 122.6 125.6 ...  56.6  58.8  59.4]\n",
            " [ 84.4  85.   83.8 ... 122.6 122.6 118.8]\n",
            " [153.2 151.2 151.8 ... 102.6 103.  103.8]]\n"
          ]
        }
      ]
    },
    {
      "cell_type": "code",
      "source": [
        "mean_overall = np.mean(train_x,axis=0)\n",
        "print(mean_overall.shape)\n",
        "print(mean_overall)"
      ],
      "metadata": {
        "colab": {
          "base_uri": "https://localhost:8080/"
        },
        "id": "ObS54-HzMXBi",
        "outputId": "af5caade-a31d-4e49-d7c8-907d478059d6"
      },
      "execution_count": null,
      "outputs": [
        {
          "output_type": "stream",
          "name": "stdout",
          "text": [
            "(10304,)\n",
            "[84.795 84.595 84.89  ... 77.01  75.69  75.115]\n"
          ]
        }
      ]
    },
    {
      "cell_type": "markdown",
      "source": [
        "### Between Class Scatter Matrix Sb"
      ],
      "metadata": {
        "id": "AepATp2pThdy"
      }
    },
    {
      "cell_type": "code",
      "source": [
        "Sb = 0\n",
        "Nk = 5\n",
        "for i in range(40):\n",
        "  Sb += Nk*np.dot(np.transpose(np.matrix(mean_vect[i]-mean_overall)),np.matrix((mean_vect[i]-mean_overall)))"
      ],
      "metadata": {
        "id": "-vGSD7TQPOz1"
      },
      "execution_count": null,
      "outputs": []
    },
    {
      "cell_type": "code",
      "source": [
        "print(Sb.shape)\n",
        "print(Sb)"
      ],
      "metadata": {
        "colab": {
          "base_uri": "https://localhost:8080/"
        },
        "id": "CSw-k6ZvSsI7",
        "outputId": "8a112c4a-2412-4dff-c07d-6590c5c69e92"
      },
      "execution_count": null,
      "outputs": [
        {
          "output_type": "stream",
          "name": "stdout",
          "text": [
            "(10304, 10304)\n",
            "[[234863.795 232573.795 232094.49  ... -35854.79  -27192.11  -20100.685]\n",
            " [232573.795 231050.195 230231.29  ... -34881.39  -27013.71  -19881.885]\n",
            " [232094.49  230231.29  230174.38  ... -32170.98  -23273.22  -16339.47 ]\n",
            " ...\n",
            " [-35854.79  -34881.39  -32170.98  ... 336561.98  324371.42  319641.57 ]\n",
            " [-27192.11  -27013.71  -23273.22  ... 324371.42  320927.58  317650.73 ]\n",
            " [-20100.685 -19881.885 -16339.47  ... 319641.57  317650.73  319537.955]]\n"
          ]
        }
      ]
    },
    {
      "cell_type": "markdown",
      "source": [
        "### Center Data"
      ],
      "metadata": {
        "id": "bTRwbz6jTl35"
      }
    },
    {
      "cell_type": "code",
      "source": [
        "Zs = np.zeros(200*10304).reshape(-1,10304)\n",
        "j = 0\n",
        "for i in range(200):\n",
        "  Zs[i] = train_x[i] - mean_vect[j]\n",
        "  if i%5==0 and i!=0:\n",
        "    j += 1"
      ],
      "metadata": {
        "id": "cFTpoqsRSs2U"
      },
      "execution_count": null,
      "outputs": []
    },
    {
      "cell_type": "code",
      "source": [
        "print(Zs.shape)\n",
        "print(Zs)"
      ],
      "metadata": {
        "colab": {
          "base_uri": "https://localhost:8080/"
        },
        "id": "4whksz0zUmuV",
        "outputId": "3923127f-0f55-4d66-9983-b71d952eb8f3"
      },
      "execution_count": null,
      "outputs": [
        {
          "output_type": "stream",
          "name": "stdout",
          "text": [
            "(200, 10304)\n",
            "[[ -3.4  -0.2   1.4 ...   6.   10.8   9.6]\n",
            " [ 11.6   3.8  -8.6 ...   0.  -25.2 -12.4]\n",
            " [  8.6  10.8  18.4 ...  -9.   -1.2  -2.4]\n",
            " ...\n",
            " [ -0.2   0.8   0.2 ...   7.4   5.   10.2]\n",
            " [  3.8   0.8   2.2 ...   8.4   5.    5.2]\n",
            " [  1.8   2.8   2.2 ...   8.4   8.    4.2]]\n"
          ]
        }
      ]
    },
    {
      "cell_type": "markdown",
      "source": [
        "### Scatter Matrix"
      ],
      "metadata": {
        "id": "NkCTki2G70Z9"
      }
    },
    {
      "cell_type": "code",
      "source": [
        "Ss = np.zeros(10304*10304).reshape(10304,10304)\n",
        "j = 0\n",
        "for i in range(0,200,5):\n",
        "  Ss += np.dot(np.transpose(Zs[i:i+5,:]),Zs[i:i+5,:])\n",
        "  j += 1"
      ],
      "metadata": {
        "id": "pAxHHwlsUt9p"
      },
      "execution_count": null,
      "outputs": []
    },
    {
      "cell_type": "code",
      "source": [
        "print(Ss.shape)\n",
        "print(Ss)"
      ],
      "metadata": {
        "colab": {
          "base_uri": "https://localhost:8080/"
        },
        "id": "25SX-LA_WyKh",
        "outputId": "a32e6f76-5f48-4ff1-ec76-5ff516b5c054"
      },
      "execution_count": null,
      "outputs": [
        {
          "output_type": "stream",
          "name": "stdout",
          "text": [
            "(10304, 10304)\n",
            "[[110440.92 110371.64 108738.88 ... -21613.52 -14737.52 -12395.6 ]\n",
            " [110371.64 113363.6  110206.36 ... -25231.12 -17333.36 -14958.68]\n",
            " [108738.88 110206.36 109752.92 ... -20855.48 -13497.28 -13602.2 ]\n",
            " ...\n",
            " [-21613.52 -25231.12 -20855.48 ... 239200.64 199249.4  162036.52]\n",
            " [-14737.52 -17333.36 -13497.28 ... 199249.4  209341.24 175559.88]\n",
            " [-12395.6  -14958.68 -13602.2  ... 162036.52 175559.88 193834.52]]\n"
          ]
        }
      ]
    },
    {
      "cell_type": "markdown",
      "source": [
        "### EigenValues & EigenVectors"
      ],
      "metadata": {
        "id": "FI3S-ht66ERs"
      }
    },
    {
      "cell_type": "code",
      "source": [
        "eig_val_LDA, eig_vect_LDA = np.linalg.eigh(np.dot(np.linalg.pinv(Ss),Sb)) "
      ],
      "metadata": {
        "id": "a47RJt_CX_Q1"
      },
      "execution_count": null,
      "outputs": []
    },
    {
      "cell_type": "code",
      "source": [
        "desc_eig_val_LDA = np.flip(eig_val_LDA, axis= 0)\n",
        "desc_eig_vect_LDA = np.flip(eig_vect_LDA, axis = 1)"
      ],
      "metadata": {
        "id": "8RTbE0ytY5qj"
      },
      "execution_count": null,
      "outputs": []
    },
    {
      "cell_type": "code",
      "source": [
        "print(eig_val_LDA.shape)\n",
        "print(eig_vect_LDA.shape)\n",
        "print(eig_val_LDA)\n",
        "print(eig_vect_LDA)"
      ],
      "metadata": {
        "colab": {
          "base_uri": "https://localhost:8080/"
        },
        "id": "lIuC4qqbYNl2",
        "outputId": "7be20d2a-b243-4013-ef38-9100786f02e5"
      },
      "execution_count": null,
      "outputs": [
        {
          "output_type": "stream",
          "name": "stdout",
          "text": [
            "(10304,)\n",
            "(10304, 10304)\n",
            "[-8788.52397894 -1979.54997123 -1902.98948367 ...  2340.60321565\n",
            "  3028.81723472 11834.24781989]\n",
            "[[-0.01144939 -0.00547927  0.01682328 ... -0.00212797  0.02061376\n",
            "  -0.01214962]\n",
            " [-0.01110326 -0.00528725  0.0162158  ... -0.00210292  0.02011337\n",
            "  -0.01181519]\n",
            " [-0.01160026 -0.0050093   0.01638684 ... -0.0024122   0.02010082\n",
            "  -0.01229229]\n",
            " ...\n",
            " [ 0.01689688  0.01605231  0.02217022 ...  0.02026882 -0.01204128\n",
            "  -0.01832099]\n",
            " [ 0.01934799  0.01636692  0.0279037  ...  0.0236665  -0.01647265\n",
            "  -0.02110408]\n",
            " [ 0.01310836  0.00776997  0.022066   ...  0.01449242 -0.01567316\n",
            "  -0.01417878]]\n"
          ]
        }
      ]
    },
    {
      "cell_type": "code",
      "source": [
        "np.savetxt('eig_val_LDA.csv', eig_val, delimiter=',')"
      ],
      "metadata": {
        "id": "qvTX8G2McbpM"
      },
      "execution_count": null,
      "outputs": []
    },
    {
      "cell_type": "code",
      "source": [
        "np.savetxt('eig_vect_LDA.csv', eig_vect, delimiter=',')"
      ],
      "metadata": {
        "id": "bYeApHPSc3ga"
      },
      "execution_count": null,
      "outputs": []
    },
    {
      "cell_type": "code",
      "source": [
        "%cp -av \"/content/eig_val_LDA.csv\" \"/content/drive/MyDrive/Pattern Recognition\"\n",
        "%cp -av \"/content/eig_vect_LDA.csv\" \"/content/drive/MyDrive/Pattern Recognition\""
      ],
      "metadata": {
        "colab": {
          "base_uri": "https://localhost:8080/"
        },
        "id": "3SipTub6dLQM",
        "outputId": "b6a2ec5e-1fab-4b75-df69-5ec611931909"
      },
      "execution_count": null,
      "outputs": [
        {
          "output_type": "stream",
          "name": "stdout",
          "text": [
            "'/content/eig_val_LDA.csv' -> '/content/drive/MyDrive/Pattern Recognition/eig_val_LDA.csv'\n",
            "'/content/eig_vect_LDA.csv' -> '/content/drive/MyDrive/Pattern Recognition/eig_vect_LDA.csv'\n"
          ]
        }
      ]
    },
    {
      "cell_type": "code",
      "source": [
        "projection_matrix_LDA = eig_vect_LDA[:, :39]"
      ],
      "metadata": {
        "id": "MQP__O6Z4C5w"
      },
      "execution_count": null,
      "outputs": []
    },
    {
      "cell_type": "markdown",
      "source": [
        "### Reduce Training Set"
      ],
      "metadata": {
        "id": "zB6GWRXa6V82"
      }
    },
    {
      "cell_type": "code",
      "source": [
        "projected_train_x = np.dot(np.transpose(projection_matrix_LDA),np.transpose(train_x))"
      ],
      "metadata": {
        "id": "oHihDbAE8ZDi"
      },
      "execution_count": null,
      "outputs": []
    },
    {
      "cell_type": "markdown",
      "source": [
        "### Reduce Testing Set"
      ],
      "metadata": {
        "id": "8vXwWdzQ872i"
      }
    },
    {
      "cell_type": "code",
      "source": [
        "projected_test_x = np.dot(np.transpose(projection_matrix_LDA),np.transpose(test_x))"
      ],
      "metadata": {
        "id": "5ho3M2CV8-EU"
      },
      "execution_count": null,
      "outputs": []
    },
    {
      "cell_type": "markdown",
      "source": [
        "### KNN"
      ],
      "metadata": {
        "id": "xkTR0z629N8p"
      }
    },
    {
      "cell_type": "code",
      "source": [
        "accuracy = []\n",
        "\n",
        "for k in kk:\n",
        "  accuracy.append(knn(np.transpose(projected_train_x), train_y, np.transpose(projected_test_x),test_y, k))\n"
      ],
      "metadata": {
        "colab": {
          "base_uri": "https://localhost:8080/"
        },
        "id": "i8o2nefR9OnV",
        "outputId": "09cd32d6-7f2c-4978-ed6e-e6e0fcd2f948"
      },
      "execution_count": null,
      "outputs": [
        {
          "output_type": "stream",
          "name": "stderr",
          "text": [
            "/usr/local/lib/python3.7/dist-packages/sklearn/utils/validation.py:598: FutureWarning: np.matrix usage is deprecated in 1.0 and will raise a TypeError in 1.2. Please convert to a numpy array with np.asarray. For more information see: https://numpy.org/doc/stable/reference/generated/numpy.matrix.html\n",
            "  FutureWarning,\n",
            "/usr/local/lib/python3.7/dist-packages/sklearn/utils/validation.py:598: FutureWarning: np.matrix usage is deprecated in 1.0 and will raise a TypeError in 1.2. Please convert to a numpy array with np.asarray. For more information see: https://numpy.org/doc/stable/reference/generated/numpy.matrix.html\n",
            "  FutureWarning,\n",
            "/usr/local/lib/python3.7/dist-packages/sklearn/utils/validation.py:598: FutureWarning: np.matrix usage is deprecated in 1.0 and will raise a TypeError in 1.2. Please convert to a numpy array with np.asarray. For more information see: https://numpy.org/doc/stable/reference/generated/numpy.matrix.html\n",
            "  FutureWarning,\n",
            "/usr/local/lib/python3.7/dist-packages/sklearn/utils/validation.py:598: FutureWarning: np.matrix usage is deprecated in 1.0 and will raise a TypeError in 1.2. Please convert to a numpy array with np.asarray. For more information see: https://numpy.org/doc/stable/reference/generated/numpy.matrix.html\n",
            "  FutureWarning,\n",
            "/usr/local/lib/python3.7/dist-packages/sklearn/utils/validation.py:598: FutureWarning: np.matrix usage is deprecated in 1.0 and will raise a TypeError in 1.2. Please convert to a numpy array with np.asarray. For more information see: https://numpy.org/doc/stable/reference/generated/numpy.matrix.html\n",
            "  FutureWarning,\n",
            "/usr/local/lib/python3.7/dist-packages/sklearn/utils/validation.py:598: FutureWarning: np.matrix usage is deprecated in 1.0 and will raise a TypeError in 1.2. Please convert to a numpy array with np.asarray. For more information see: https://numpy.org/doc/stable/reference/generated/numpy.matrix.html\n",
            "  FutureWarning,\n",
            "/usr/local/lib/python3.7/dist-packages/sklearn/utils/validation.py:598: FutureWarning: np.matrix usage is deprecated in 1.0 and will raise a TypeError in 1.2. Please convert to a numpy array with np.asarray. For more information see: https://numpy.org/doc/stable/reference/generated/numpy.matrix.html\n",
            "  FutureWarning,\n",
            "/usr/local/lib/python3.7/dist-packages/sklearn/utils/validation.py:598: FutureWarning: np.matrix usage is deprecated in 1.0 and will raise a TypeError in 1.2. Please convert to a numpy array with np.asarray. For more information see: https://numpy.org/doc/stable/reference/generated/numpy.matrix.html\n",
            "  FutureWarning,\n"
          ]
        }
      ]
    },
    {
      "cell_type": "code",
      "source": [
        "print(accuracy)"
      ],
      "metadata": {
        "colab": {
          "base_uri": "https://localhost:8080/"
        },
        "id": "ID76-tHI9dXh",
        "outputId": "cd0775ac-b7cb-4ede-e3e0-f89ea2d64c0b"
      },
      "execution_count": null,
      "outputs": [
        {
          "output_type": "stream",
          "name": "stdout",
          "text": [
            "[90.5, 84.5, 81.0, 75.5]\n"
          ]
        }
      ]
    },
    {
      "cell_type": "code",
      "source": [
        "# Plot K against Accuracy \n",
        "plt.figure(figsize=(15,5))\n",
        "plt.plot(kk,accuracy)\n",
        "plt.xlabel('K')\n",
        "plt.ylabel('Accuracy')\n",
        "plt.show()\n",
        "for j in range(len(kk)):\n",
        "  print(f'Accuracy at k={kk[j]} = {accuracy[j]} %')\n",
        "print('---------------------------------------------------------------')"
      ],
      "metadata": {
        "colab": {
          "base_uri": "https://localhost:8080/",
          "height": 421
        },
        "id": "PanPPShs9jEs",
        "outputId": "d5be29a7-68fa-4d81-cea7-7447ffa8dfec"
      },
      "execution_count": null,
      "outputs": [
        {
          "output_type": "display_data",
          "data": {
            "text/plain": [
              "<Figure size 1080x360 with 1 Axes>"
            ],
            "image/png": "[encoded data removed]"
          },
          "metadata": {
            "needs_background": "light"
          }
        },
        {
          "output_type": "stream",
          "name": "stdout",
          "text": [
            "Accuracy at k=1 = 90.5 %\n",
            "Accuracy at k=3 = 84.5 %\n",
            "Accuracy at k=5 = 81.0 %\n",
            "Accuracy at k=7 = 75.5 %\n",
            "---------------------------------------------------------------\n"
          ]
        }
      ]
    },
    {
      "cell_type": "markdown",
      "source": [
        "## Compare Non-Face Images"
      ],
      "metadata": {
        "id": "6GfPILWtipsa"
      }
    },
    {
      "cell_type": "code",
      "source": [
        "from torchvision import datasets\n",
        "from torchvision.transforms import ToTensor\n",
        "from skimage.color import rgb2gray\n",
        "from skimage.transform import rescale, resize, downscale_local_mean"
      ],
      "metadata": {
        "id": "7MwhfGsqn94Y"
      },
      "execution_count": null,
      "outputs": []
    },
    {
      "cell_type": "markdown",
      "source": [
        "### Read Non-Faces Data"
      ],
      "metadata": {
        "id": "d2gYEZ5-qYdI"
      }
    },
    {
      "cell_type": "code",
      "source": [
        "NUM_NON_FACES = 200"
      ],
      "metadata": {
        "id": "Zm8-DNYOkOAC"
      },
      "execution_count": null,
      "outputs": []
    },
    {
      "cell_type": "code",
      "source": [
        "non_face_data = datasets.CIFAR10(\n",
        "    root=\"data\",\n",
        "    download=True,\n",
        "    transform=ToTensor()\n",
        ")"
      ],
      "metadata": {
        "colab": {
          "base_uri": "https://localhost:8080/"
        },
        "id": "RX7u1CHrEZWX",
        "outputId": "dc0e90d9-8009-489c-fcd8-1c40ef8eaa57"
      },
      "execution_count": null,
      "outputs": [
        {
          "output_type": "stream",
          "name": "stdout",
          "text": [
            "Files already downloaded and verified\n"
          ]
        }
      ]
    },
    {
      "cell_type": "code",
      "source": [
        "# 50k images with 32*32 bits\n",
        "print(non_face_data.data.shape)"
      ],
      "metadata": {
        "colab": {
          "base_uri": "https://localhost:8080/"
        },
        "id": "0TtB77wmn7en",
        "outputId": "2a095be6-8aaa-4660-d1b1-af51da08cd9c"
      },
      "execution_count": null,
      "outputs": [
        {
          "output_type": "stream",
          "name": "stdout",
          "text": [
            "(50000, 32, 32, 3)\n"
          ]
        }
      ]
    },
    {
      "cell_type": "code",
      "source": [
        "plt.imshow(non_face_data.data[0])"
      ],
      "metadata": {
        "colab": {
          "base_uri": "https://localhost:8080/",
          "height": 283
        },
        "id": "l0P_ZSNCoGyk",
        "outputId": "94babaa4-7ffe-4d99-cf94-1d1c32d2c1b0"
      },
      "execution_count": null,
      "outputs": [
        {
          "output_type": "execute_result",
          "data": {
            "text/plain": [
              "<matplotlib.image.AxesImage at 0x7f8ec6106d10>"
            ]
          },
          "metadata": {},
          "execution_count": 17
        },
        {
          "output_type": "display_data",
          "data": {
            "text/plain": [
              "<Figure size 432x288 with 1 Axes>"
            ],
            "image/png": "[encoded data removed]"
          },
          "metadata": {
            "needs_background": "light"
          }
        }
      ]
    },
    {
      "cell_type": "code",
      "source": [
        "random = np.random.choice(49999,NUM_NON_FACES*2,replace=False)\n",
        "non_faces_gray = np.array([resize(rgb2gray(img.reshape(32,32,3)),(92,112)) for img in non_face_data.data[random,:,:,:]])"
      ],
      "metadata": {
        "id": "Tkk10BEyIEnO"
      },
      "execution_count": null,
      "outputs": []
    },
    {
      "cell_type": "code",
      "source": [
        "non_faces_gray[0].shape"
      ],
      "metadata": {
        "colab": {
          "base_uri": "https://localhost:8080/"
        },
        "id": "Ndn9-gNNISpy",
        "outputId": "89d86896-7d5e-46ce-88f1-611ac803d461"
      },
      "execution_count": null,
      "outputs": [
        {
          "output_type": "execute_result",
          "data": {
            "text/plain": [
              "(92, 112)"
            ]
          },
          "metadata": {},
          "execution_count": 19
        }
      ]
    },
    {
      "cell_type": "markdown",
      "source": [
        "### Train Set"
      ],
      "metadata": {
        "id": "uoMipzc-ImYH"
      }
    },
    {
      "cell_type": "code",
      "source": [
        "non_faces_matrix_all = np.zeros(10304*NUM_NON_FACES*2).reshape(-1,10304)\n",
        "non_faces_labels = np.zeros(NUM_NON_FACES)\n",
        "faces_labels = np.ones(200)\n",
        "for i in range(len(non_faces_gray)):\n",
        "  non_faces_matrix_all[i] = np.array(non_faces_gray[i]).flatten()\n",
        "non_faces_matrix = non_faces_matrix_all[:NUM_NON_FACES]\n",
        "non_faces_matrix_test = non_faces_matrix_all[NUM_NON_FACES:]"
      ],
      "metadata": {
        "id": "V_3wKtHIHSKF"
      },
      "execution_count": null,
      "outputs": []
    },
    {
      "cell_type": "code",
      "source": [
        "non_faces_matrix.shape"
      ],
      "metadata": {
        "colab": {
          "base_uri": "https://localhost:8080/"
        },
        "id": "LjeCAnjSJwpY",
        "outputId": "016e4213-36ff-4709-d858-80924fa4c654"
      },
      "execution_count": null,
      "outputs": [
        {
          "output_type": "execute_result",
          "data": {
            "text/plain": [
              "(200, 10304)"
            ]
          },
          "metadata": {},
          "execution_count": 77
        }
      ]
    },
    {
      "cell_type": "code",
      "source": [
        "labels_all = np.concatenate([faces_labels, non_faces_labels])"
      ],
      "metadata": {
        "id": "qJL5qxn9J2A6"
      },
      "execution_count": null,
      "outputs": []
    },
    {
      "cell_type": "code",
      "source": [
        "labels_all.shape"
      ],
      "metadata": {
        "colab": {
          "base_uri": "https://localhost:8080/"
        },
        "id": "7hyVTMVhKY7y",
        "outputId": "fc7269d8-a484-46a5-f82c-fcf70ffe2826"
      },
      "execution_count": null,
      "outputs": [
        {
          "output_type": "execute_result",
          "data": {
            "text/plain": [
              "(400,)"
            ]
          },
          "metadata": {},
          "execution_count": 79
        }
      ]
    },
    {
      "cell_type": "markdown",
      "source": [
        "### LDA"
      ],
      "metadata": {
        "id": "Xy0Zeqa1LRRl"
      }
    },
    {
      "cell_type": "markdown",
      "source": [
        "#### Mean"
      ],
      "metadata": {
        "id": "h-Jy9X-ILXXr"
      }
    },
    {
      "cell_type": "code",
      "source": [
        "mean_vect = np.zeros(2*10304).reshape(-1,10304)\n",
        "\n",
        "mean_vect[0] = np.mean(train_x[:200],axis=0)\n",
        "mean_vect[1] = np.mean(non_faces_matrix[:NUM_NON_FACES],axis=0)\n",
        "\n",
        "print(mean_vect.shape)\n",
        "print(mean_vect)"
      ],
      "metadata": {
        "colab": {
          "base_uri": "https://localhost:8080/"
        },
        "id": "Cu-4CN2hLFhN",
        "outputId": "242c4f80-e406-41e2-c252-d1b4bc23d267"
      },
      "execution_count": null,
      "outputs": [
        {
          "output_type": "stream",
          "name": "stdout",
          "text": [
            "(2, 10304)\n",
            "[[84.795      84.595      84.89       ... 77.01       75.69\n",
            "  75.115     ]\n",
            " [ 0.5305286   0.53064736  0.53058798 ...  0.49683409  0.49734688\n",
            "   0.4963213 ]]\n"
          ]
        }
      ]
    },
    {
      "cell_type": "markdown",
      "source": [
        "#### Between Class Scatter Matrix"
      ],
      "metadata": {
        "id": "J7nkp_25Migl"
      }
    },
    {
      "cell_type": "code",
      "source": [
        "B = np.dot(np.transpose(np.matrix(mean_vect[0]-mean_vect[1])),np.matrix(mean_vect[0]-mean_vect[1]))\n",
        "print(B.shape)\n",
        "print(B)"
      ],
      "metadata": {
        "colab": {
          "base_uri": "https://localhost:8080/"
        },
        "id": "1K-ZKnqlL9b7",
        "outputId": "388335d8-0a3d-4f77-8ab0-5f24172bff16"
      },
      "execution_count": null,
      "outputs": [
        {
          "output_type": "stream",
          "name": "stdout",
          "text": [
            "(10304, 10304)\n",
            "[[7100.50114067 7083.63823908 7108.5012618  ... 6447.34148073\n",
            "  6336.06916815 6287.70351774]\n",
            " [7083.63823908 7066.81538501 7091.61936081 ... 6432.02976078\n",
            "  6321.02170759 6272.77092023]\n",
            " [7108.5012618  7091.61936081 7116.51039665 ... 6454.60568811\n",
            "  6343.20800523 6294.78786133]\n",
            " ...\n",
            " [6447.34148073 6432.02976078 6454.60568811 ... 5854.26455761\n",
            "  5753.22794311 5709.31134371]\n",
            " [6336.06916815 6321.02170759 6343.20800523 ... 5753.22794311\n",
            "  5653.93508264 5610.7764238 ]\n",
            " [6287.70351774 6272.77092023 6294.78786133 ... 5709.31134371\n",
            "  5610.7764238  5567.94721158]]\n"
          ]
        }
      ]
    },
    {
      "cell_type": "markdown",
      "source": [
        "#### Center Data"
      ],
      "metadata": {
        "id": "bGrbD6CjN-mY"
      }
    },
    {
      "cell_type": "code",
      "source": [
        "Z1 = train_x - mean_vect[0]\n",
        "Z2 = non_faces_matrix - mean_vect[1]"
      ],
      "metadata": {
        "id": "1KaRMumJMSyC"
      },
      "execution_count": null,
      "outputs": []
    },
    {
      "cell_type": "markdown",
      "source": [
        "#### Scatter Matrix"
      ],
      "metadata": {
        "id": "lY0Yaq8pOaPG"
      }
    },
    {
      "cell_type": "code",
      "source": [
        "S1 = np.dot(np.transpose(np.matrix(Z1)),Z1)\n",
        "S2 = np.dot(np.transpose(np.matrix(Z2)),Z2)\n",
        "S = S1 + S2\n",
        "print(S.shape)\n",
        "print(S)"
      ],
      "metadata": {
        "colab": {
          "base_uri": "https://localhost:8080/"
        },
        "id": "hZQzygMYORqI",
        "outputId": "f2ad0d64-62e4-434e-a001-cfd7895a0fbd"
      },
      "execution_count": null,
      "outputs": [
        {
          "output_type": "stream",
          "name": "stdout",
          "text": [
            "(10304, 10304)\n",
            "[[264282.31490578 261236.22118147 260612.26304363 ... -36218.72560492\n",
            "  -25922.83659602 -19464.42961381]\n",
            " [261236.22118147 261628.18516116 259354.99817131 ... -36495.25674929\n",
            "  -25518.16386226 -19260.76463633]\n",
            " [260612.26304363 259354.99817131 260257.42060747 ... -32062.88117711\n",
            "  -20785.91022914 -16592.58212507]\n",
            " ...\n",
            " [-36218.72560492 -36495.25674929 -32062.88117711 ... 453016.57766523\n",
            "  406136.26876911 374907.31656135]\n",
            " [-25922.83659602 -25518.16386226 -20785.91022914 ... 406136.26876911\n",
            "  412329.50170697 383486.70583124]\n",
            " [-19464.42961381 -19260.76463633 -16592.58212507 ... 374907.31656135\n",
            "  383486.70583124 409878.87229146]]\n"
          ]
        }
      ]
    },
    {
      "cell_type": "markdown",
      "source": [
        "#### EigenVectors & EigenValues"
      ],
      "metadata": {
        "id": "RU2osjMRP3x2"
      }
    },
    {
      "cell_type": "code",
      "source": [
        "eig_val_LDA, eig_vect_LDA = np.linalg.eigh(np.dot(np.linalg.pinv(S),B)) "
      ],
      "metadata": {
        "id": "4Qf5gFqQPCud"
      },
      "execution_count": null,
      "outputs": []
    },
    {
      "cell_type": "code",
      "source": [
        "desc_eig_val_LDA = np.flip(eig_val_LDA, axis= 0)\n",
        "desc_eig_vect_LDA = np.flip(eig_vect_LDA, axis = 1)"
      ],
      "metadata": {
        "id": "BQAn1JdHZSjT"
      },
      "execution_count": null,
      "outputs": []
    },
    {
      "cell_type": "code",
      "source": [
        "np.savetxt(f'eig_val_LDA_{NUM_NON_FACES}_Non-Face.csv', desc_eig_val_LDA, delimiter=',')\n",
        "np.savetxt(f'eig_vect_LDA_{NUM_NON_FACES}_Non-Face.csv', desc_eig_vect_LDA, delimiter=',')"
      ],
      "metadata": {
        "id": "1Z-m3RGQXLhc"
      },
      "execution_count": null,
      "outputs": []
    },
    {
      "cell_type": "code",
      "source": [
        "%cp -av f\"/content/eig_val_LDA_{NUM_NON_FACES}_Non-Face.csv\" \"/content/drive/MyDrive/Pattern Recognition\"\n",
        "%cp -av f\"/content/eig_vect_LDA_{NUM_NON_FACES}_Non-Face.csv\" \"/content/drive/MyDrive/Pattern Recognition\""
      ],
      "metadata": {
        "colab": {
          "base_uri": "https://localhost:8080/"
        },
        "id": "KNdcFNq_XYwd",
        "outputId": "3fd9dfea-6fe1-4ef2-fc17-21f95653187a"
      },
      "execution_count": null,
      "outputs": [
        {
          "output_type": "stream",
          "name": "stdout",
          "text": [
            "'/content/eig_val_LDA_200_Non-Face.csv' -> '/content/drive/MyDrive/Pattern Recognition/eig_val_LDA_200_Non-Face.csv'\n",
            "'/content/eig_vect_LDA_200_Non-Face.csv' -> '/content/drive/MyDrive/Pattern Recognition/eig_vect_LDA_200_Non-Face.csv'\n"
          ]
        }
      ]
    },
    {
      "cell_type": "code",
      "source": [
        "print(desc_eig_val_LDA[:10])"
      ],
      "metadata": {
        "colab": {
          "base_uri": "https://localhost:8080/"
        },
        "id": "1aVNgh8dX29R",
        "outputId": "5a5313ec-4a0c-4523-efa8-9ad45bc0c307"
      },
      "execution_count": null,
      "outputs": [
        {
          "output_type": "stream",
          "name": "stdout",
          "text": [
            "[2.69912611e+10 9.41080143e+09 6.12042664e+09 4.68673202e+09\n",
            " 3.62154953e+09 2.89334751e+09 2.49849434e+09 2.07417137e+09\n",
            " 1.79442233e+09 1.60105677e+09]\n"
          ]
        }
      ]
    },
    {
      "cell_type": "code",
      "source": [
        "projection_matrix_non_faces_LDA = desc_eig_vect_LDA[:, :1]"
      ],
      "metadata": {
        "id": "d4cu1ruLQ1TT"
      },
      "execution_count": null,
      "outputs": []
    },
    {
      "cell_type": "markdown",
      "source": [
        "#### Reduce Training Set"
      ],
      "metadata": {
        "id": "Uv1teWn_Q8aw"
      }
    },
    {
      "cell_type": "code",
      "source": [
        "cenetered_data_non_faces = np.concatenate([Z1,Z2])\n",
        "all_data = np.concatenate([train_x, non_faces_matrix])\n",
        "projected_non_faces_train_x = np.dot(cenetered_data_non_faces,projection_matrix_non_faces_LDA)"
      ],
      "metadata": {
        "id": "BFSAjJEoQ95v"
      },
      "execution_count": null,
      "outputs": []
    },
    {
      "cell_type": "code",
      "source": [
        "print(cenetered_data_non_faces.shape)\n",
        "print(all_data.shape)\n",
        "print(projection_matrix_non_faces_LDA.shape)\n",
        "print(projected_non_faces_train_x.shape)"
      ],
      "metadata": {
        "colab": {
          "base_uri": "https://localhost:8080/"
        },
        "id": "vB0fzakXfIoC",
        "outputId": "324cac1b-883e-487f-8048-112b27c77461"
      },
      "execution_count": null,
      "outputs": [
        {
          "output_type": "stream",
          "name": "stdout",
          "text": [
            "(400, 10304)\n",
            "(400, 10304)\n",
            "(10304, 1)\n",
            "(400, 1)\n"
          ]
        }
      ]
    },
    {
      "cell_type": "markdown",
      "source": [
        "#### Reduce Testing Set"
      ],
      "metadata": {
        "id": "1OCb7IorRAKD"
      }
    },
    {
      "cell_type": "code",
      "source": [
        "centered_data_non_faces_test_labels = np.concatenate([np.ones(200),np.zeros(NUM_NON_FACES)])\n",
        "cenetered_non_face_test = non_faces_matrix_test - mean_vect[1]\n",
        "\n",
        "all_test_data = np.concatenate([test_x, non_faces_matrix_test])\n",
        "centered_data_non_faces_test = np.concatenate([centeredData_test,cenetered_non_face_test])\n",
        "projected_non_faces_test_x = np.dot(centered_data_non_faces_test,projection_matrix_non_faces_LDA)"
      ],
      "metadata": {
        "id": "l4HHwuGmQ_xy"
      },
      "execution_count": null,
      "outputs": []
    },
    {
      "cell_type": "code",
      "source": [
        "print(labels_all.shape)"
      ],
      "metadata": {
        "colab": {
          "base_uri": "https://localhost:8080/"
        },
        "id": "Lm_VczQLp9UM",
        "outputId": "deb6acdc-b6aa-4956-b796-5bd17c7a3acd"
      },
      "execution_count": null,
      "outputs": [
        {
          "output_type": "stream",
          "name": "stdout",
          "text": [
            "(400,)\n"
          ]
        }
      ]
    },
    {
      "cell_type": "markdown",
      "source": [
        "#### KNN"
      ],
      "metadata": {
        "id": "nVrBO6b8WCoX"
      }
    },
    {
      "cell_type": "code",
      "source": [
        "accuracy = []\n",
        "\n",
        "for k in kk:\n",
        "  accuracy.append(knn(projected_non_faces_train_x, labels_all, projected_non_faces_test_x,centered_data_non_faces_test_labels, k))\n",
        "print(accuracy)\n"
      ],
      "metadata": {
        "colab": {
          "base_uri": "https://localhost:8080/"
        },
        "id": "4NdvkSlSWEBo",
        "outputId": "a43701fa-18e7-494c-b81c-c7a7f4353223"
      },
      "execution_count": null,
      "outputs": [
        {
          "output_type": "stream",
          "name": "stdout",
          "text": [
            "[97.25, 97.5, 96.75, 96.25]\n"
          ]
        },
        {
          "output_type": "stream",
          "name": "stderr",
          "text": [
            "/usr/local/lib/python3.7/dist-packages/sklearn/utils/validation.py:598: FutureWarning: np.matrix usage is deprecated in 1.0 and will raise a TypeError in 1.2. Please convert to a numpy array with np.asarray. For more information see: https://numpy.org/doc/stable/reference/generated/numpy.matrix.html\n",
            "  FutureWarning,\n",
            "/usr/local/lib/python3.7/dist-packages/sklearn/utils/validation.py:598: FutureWarning: np.matrix usage is deprecated in 1.0 and will raise a TypeError in 1.2. Please convert to a numpy array with np.asarray. For more information see: https://numpy.org/doc/stable/reference/generated/numpy.matrix.html\n",
            "  FutureWarning,\n",
            "/usr/local/lib/python3.7/dist-packages/sklearn/utils/validation.py:598: FutureWarning: np.matrix usage is deprecated in 1.0 and will raise a TypeError in 1.2. Please convert to a numpy array with np.asarray. For more information see: https://numpy.org/doc/stable/reference/generated/numpy.matrix.html\n",
            "  FutureWarning,\n",
            "/usr/local/lib/python3.7/dist-packages/sklearn/utils/validation.py:598: FutureWarning: np.matrix usage is deprecated in 1.0 and will raise a TypeError in 1.2. Please convert to a numpy array with np.asarray. For more information see: https://numpy.org/doc/stable/reference/generated/numpy.matrix.html\n",
            "  FutureWarning,\n",
            "/usr/local/lib/python3.7/dist-packages/sklearn/utils/validation.py:598: FutureWarning: np.matrix usage is deprecated in 1.0 and will raise a TypeError in 1.2. Please convert to a numpy array with np.asarray. For more information see: https://numpy.org/doc/stable/reference/generated/numpy.matrix.html\n",
            "  FutureWarning,\n",
            "/usr/local/lib/python3.7/dist-packages/sklearn/utils/validation.py:598: FutureWarning: np.matrix usage is deprecated in 1.0 and will raise a TypeError in 1.2. Please convert to a numpy array with np.asarray. For more information see: https://numpy.org/doc/stable/reference/generated/numpy.matrix.html\n",
            "  FutureWarning,\n",
            "/usr/local/lib/python3.7/dist-packages/sklearn/utils/validation.py:598: FutureWarning: np.matrix usage is deprecated in 1.0 and will raise a TypeError in 1.2. Please convert to a numpy array with np.asarray. For more information see: https://numpy.org/doc/stable/reference/generated/numpy.matrix.html\n",
            "  FutureWarning,\n",
            "/usr/local/lib/python3.7/dist-packages/sklearn/utils/validation.py:598: FutureWarning: np.matrix usage is deprecated in 1.0 and will raise a TypeError in 1.2. Please convert to a numpy array with np.asarray. For more information see: https://numpy.org/doc/stable/reference/generated/numpy.matrix.html\n",
            "  FutureWarning,\n"
          ]
        }
      ]
    },
    {
      "cell_type": "code",
      "source": [
        "np.savetxt(f'accuracy_LDA_{NUM_NON_FACES}_Non-Face.csv', accuracy, delimiter=',')\n"
      ],
      "metadata": {
        "id": "kHVIu3kWm3E2"
      },
      "execution_count": null,
      "outputs": []
    },
    {
      "cell_type": "code",
      "source": [
        "%cp -av \"/content/accuracy_LDA_200_Non-Face.csv\" \"/content/drive/MyDrive/Pattern Recognition\""
      ],
      "metadata": {
        "colab": {
          "base_uri": "https://localhost:8080/"
        },
        "id": "6g-uxy4Wqbwl",
        "outputId": "adb0a8d0-ea60-4bf8-c9ed-8f6307e6b459"
      },
      "execution_count": null,
      "outputs": [
        {
          "output_type": "stream",
          "name": "stdout",
          "text": [
            "'/content/accuracy_LDA_200_Non-Face.csv' -> '/content/drive/MyDrive/Pattern Recognition/accuracy_LDA_200_Non-Face.csv'\n"
          ]
        }
      ]
    },
    {
      "cell_type": "code",
      "source": [
        "# Plot K against Accuracy \n",
        "plt.figure(figsize=(15,5))\n",
        "plt.plot(kk,accuracy)\n",
        "plt.xlabel('K')\n",
        "plt.ylabel('Accuracy')\n",
        "plt.title(f\"Non-Faces = {NUM_NON_FACES}\")\n",
        "plt.show()\n",
        "for j in range(len(kk)):\n",
        "  print(f'Accuracy at k={kk[j]} = {accuracy[j]} %')\n",
        "print('---------------------------------------------------------------')"
      ],
      "metadata": {
        "colab": {
          "base_uri": "https://localhost:8080/",
          "height": 437
        },
        "id": "t8rgNqI1WGma",
        "outputId": "3e392c23-7732-4658-e272-5b14cfcbb512"
      },
      "execution_count": null,
      "outputs": [
        {
          "output_type": "display_data",
          "data": {
            "text/plain": [
              "<Figure size 1080x360 with 1 Axes>"
            ],
            "image/png": "[encoded data removed]"
          },
          "metadata": {
            "needs_background": "light"
          }
        },
        {
          "output_type": "stream",
          "name": "stdout",
          "text": [
            "Accuracy at k=1 = 97.25 %\n",
            "Accuracy at k=3 = 97.5 %\n",
            "Accuracy at k=5 = 96.75 %\n",
            "Accuracy at k=7 = 96.25 %\n",
            "---------------------------------------------------------------\n"
          ]
        }
      ]
    },
    {
      "cell_type": "code",
      "source": [
        "from numpy import genfromtxt"
      ],
      "metadata": {
        "id": "ygezuh96i3iW"
      },
      "execution_count": null,
      "outputs": []
    },
    {
      "cell_type": "code",
      "source": [
        "non_faces_50 = genfromtxt('/content/accuracy_LDA_50_Non-Face.csv', delimiter=',')\n",
        "non_faces_100 = genfromtxt('/content/accuracy_LDA_100_Non-Face.csv', delimiter=',')\n",
        "non_faces_150 = genfromtxt('/content/accuracy_LDA_150_Non-Face.csv', delimiter=',')\n",
        "non_faces_200 = genfromtxt('/content/accuracy_LDA_200_Non-Face.csv', delimiter=',')\n",
        "non_faces_250 = genfromtxt('/content/accuracy_LDA_250_Non-Face.csv', delimiter=',')"
      ],
      "metadata": {
        "id": "0an8Xz_0_HN7"
      },
      "execution_count": null,
      "outputs": []
    },
    {
      "cell_type": "code",
      "source": [
        " # Plot Accuracy against Number of Non-Faces at Constant K\n",
        "NUM_FACES = [50,100,150,200,250]\n",
        "for i in range(len(kk)): \n",
        "  plt.title(f'k = {kk[i]}')\n",
        "  accuracies = []\n",
        "  accuracies.append(non_faces_50[i])\n",
        "  accuracies.append(non_faces_100[i])\n",
        "  accuracies.append(non_faces_150[i])\n",
        "  accuracies.append(non_faces_200[i])\n",
        "  accuracies.append(non_faces_250[i])\n",
        "\n",
        "\n",
        "  plt.plot(NUM_FACES,accuracies)\n",
        "  plt.xlabel('Number of Non-Faces')\n",
        "  plt.ylabel('Accuracy')\n",
        "  plt.show()\n",
        "  for j in range(len(NUM_FACES)):\n",
        "    print(f'Accuracy at k={kk[i]}, Num of Non-Faces={NUM_FACES[j]} = {accuracies[j]} %')\n",
        "  print('---------------------------------------------------------------')"
      ],
      "metadata": {
        "colab": {
          "base_uri": "https://localhost:8080/",
          "height": 1000
        },
        "id": "8DkHCPKV_RKz",
        "outputId": "348a85c5-3bd8-47e7-cae6-529ec1bef274"
      },
      "execution_count": null,
      "outputs": [
        {
          "output_type": "display_data",
          "data": {
            "text/plain": [
              "<Figure size 432x288 with 1 Axes>"
            ],
            "image/png": "[encoded data removed]"
          },
          "metadata": {
            "needs_background": "light"
          }
        },
        {
          "output_type": "stream",
          "name": "stdout",
          "text": [
            "Accuracy at k=1, Num of Non-Faces=50 = 96.8 %\n",
            "Accuracy at k=1, Num of Non-Faces=100 = 97.0 %\n",
            "Accuracy at k=1, Num of Non-Faces=150 = 94.85714285714286 %\n",
            "Accuracy at k=1, Num of Non-Faces=200 = 97.25 %\n",
            "Accuracy at k=1, Num of Non-Faces=250 = 98.0 %\n",
            "---------------------------------------------------------------\n"
          ]
        },
        {
          "output_type": "display_data",
          "data": {
            "text/plain": [
              "<Figure size 432x288 with 1 Axes>"
            ],
            "image/png": "[encoded data removed]"
          },
          "metadata": {
            "needs_background": "light"
          }
        },
        {
          "output_type": "stream",
          "name": "stdout",
          "text": [
            "Accuracy at k=3, Num of Non-Faces=50 = 96.8 %\n",
            "Accuracy at k=3, Num of Non-Faces=100 = 97.66666666666667 %\n",
            "Accuracy at k=3, Num of Non-Faces=150 = 96.28571428571429 %\n",
            "Accuracy at k=3, Num of Non-Faces=200 = 97.5 %\n",
            "Accuracy at k=3, Num of Non-Faces=250 = 98.66666666666667 %\n",
            "---------------------------------------------------------------\n"
          ]
        },
        {
          "output_type": "display_data",
          "data": {
            "text/plain": [
              "<Figure size 432x288 with 1 Axes>"
            ],
            "image/png": "[encoded data removed]"
          },
          "metadata": {
            "needs_background": "light"
          }
        },
        {
          "output_type": "stream",
          "name": "stdout",
          "text": [
            "Accuracy at k=5, Num of Non-Faces=50 = 96.8 %\n",
            "Accuracy at k=5, Num of Non-Faces=100 = 97.66666666666667 %\n",
            "Accuracy at k=5, Num of Non-Faces=150 = 95.71428571428572 %\n",
            "Accuracy at k=5, Num of Non-Faces=200 = 96.75 %\n",
            "Accuracy at k=5, Num of Non-Faces=250 = 98.88888888888889 %\n",
            "---------------------------------------------------------------\n"
          ]
        },
        {
          "output_type": "display_data",
          "data": {
            "text/plain": [
              "<Figure size 432x288 with 1 Axes>"
            ],
            "image/png": "[encoded data removed]"
          },
          "metadata": {
            "needs_background": "light"
          }
        },
        {
          "output_type": "stream",
          "name": "stdout",
          "text": [
            "Accuracy at k=7, Num of Non-Faces=50 = 96.8 %\n",
            "Accuracy at k=7, Num of Non-Faces=100 = 97.66666666666667 %\n",
            "Accuracy at k=7, Num of Non-Faces=150 = 96.0 %\n",
            "Accuracy at k=7, Num of Non-Faces=200 = 96.25 %\n",
            "Accuracy at k=7, Num of Non-Faces=250 = 98.66666666666667 %\n",
            "---------------------------------------------------------------\n"
          ]
        }
      ]
    },
    {
      "cell_type": "code",
      "source": [],
      "metadata": {
        "id": "y52mfoxcAzvc"
      },
      "execution_count": null,
      "outputs": []
    }
  ]
}