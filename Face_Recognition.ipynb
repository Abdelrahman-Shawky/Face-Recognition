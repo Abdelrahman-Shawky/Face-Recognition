{
  "nbformat": 4,
  "nbformat_minor": 0,
  "metadata": {
    "colab": {
      "provenance": [],
      "toc_visible": true
    },
    "kernelspec": {
      "name": "python3",
      "display_name": "Python 3"
    },
    "language_info": {
      "name": "python"
    }
  },
  "cells": [
    {
      "cell_type": "markdown",
      "source": [
        "#Face Recognition"
      ],
      "metadata": {
        "id": "38DkH35HPcKD"
      }
    },
    {
      "cell_type": "markdown",
      "source": [
        "## Problem"
      ],
      "metadata": {
        "id": "3c2blAtjPhIv"
      }
    },
    {
      "cell_type": "markdown",
      "source": [
        "##Imports"
      ],
      "metadata": {
        "id": "DNOwbmikPlpk"
      }
    },
    {
      "cell_type": "code",
      "execution_count": 1,
      "metadata": {
        "id": "xj19-6MrACwO"
      },
      "outputs": [],
      "source": [
        "from os import listdir\n",
        "from PIL import Image as PImage\n",
        "from google.colab import drive\n",
        "import numpy as np\n",
        "import matplotlib.pyplot as plt"
      ]
    },
    {
      "cell_type": "code",
      "source": [
        "# drive.mount(\"/content/drive\")\n",
        "path = \"/content/drive/MyDrive/Pattern Recognition/faces/\""
      ],
      "metadata": {
        "id": "FDS90AVnS_IK"
      },
      "execution_count": 2,
      "outputs": []
    },
    {
      "cell_type": "markdown",
      "source": [
        "##Download Dataset and Understand the Format"
      ],
      "metadata": {
        "id": "ptbwRnuVPqj0"
      }
    },
    {
      "cell_type": "code",
      "source": [
        "foldersList = listdir(path)\n",
        "loadedImages = []\n",
        "for folder in foldersList :\n",
        "    imagesList = listdir(path+folder)\n",
        "    for image in imagesList:\n",
        "        img = PImage.open(path +folder+'/'+ image)\n",
        "        loadedImages.append(img)"
      ],
      "metadata": {
        "id": "N9k8RhcPPsN1"
      },
      "execution_count": 3,
      "outputs": []
    },
    {
      "cell_type": "markdown",
      "source": [
        "## Generate the Data Matrix and the Label Vector"
      ],
      "metadata": {
        "id": "gUdivQhbaroD"
      }
    },
    {
      "cell_type": "code",
      "source": [
        "# Reshape into matrix 40*10\n",
        "images = np.array(loadedImages).reshape(-1,10)"
      ],
      "metadata": {
        "colab": {
          "base_uri": "https://localhost:8080/"
        },
        "id": "7wYBwDElWM8M",
        "outputId": "778d3068-701c-44d5-f778-69c954d2a485"
      },
      "execution_count": 4,
      "outputs": [
        {
          "output_type": "stream",
          "name": "stderr",
          "text": [
            "/usr/local/lib/python3.7/dist-packages/ipykernel_launcher.py:2: FutureWarning: The input object of type 'PpmImageFile' is an array-like implementing one of the corresponding protocols (`__array__`, `__array_interface__` or `__array_struct__`); but not a sequence (or 0-D). In the future, this object will be coerced as if it was first converted using `np.array(obj)`. To retain the old behaviour, you have to either modify the type 'PpmImageFile', or assign to an empty array created with `np.empty(correct_shape, dtype=object)`.\n",
            "  \n",
            "/usr/local/lib/python3.7/dist-packages/ipykernel_launcher.py:2: VisibleDeprecationWarning: Creating an ndarray from ragged nested sequences (which is a list-or-tuple of lists-or-tuples-or ndarrays with different lengths or shapes) is deprecated. If you meant to do this, you must specify 'dtype=object' when creating the ndarray.\n",
            "  \n"
          ]
        }
      ]
    },
    {
      "cell_type": "code",
      "source": [
        "dataMatrixD = np.zeros(10304*400).reshape(-1,10304)\n",
        "i=0\n",
        "j=0\n",
        "labels = np.zeros(400)\n",
        "for image in loadedImages:\n",
        "  dataMatrixD[i] = np.array(image).flatten()\n",
        "  if(i%10 == 0):\n",
        "    j = j+1\n",
        "  labels[i] = j\n",
        "  i = i + 1"
      ],
      "metadata": {
        "id": "8b30TT4_ZwTZ"
      },
      "execution_count": 5,
      "outputs": []
    },
    {
      "cell_type": "code",
      "source": [
        "print(loadedImages)"
      ],
      "metadata": {
        "colab": {
          "base_uri": "https://localhost:8080/"
        },
        "id": "7Ndw4OAoN16v",
        "outputId": "ac3bf523-9a1b-4f63-eb84-1bcfe11118e0"
      },
      "execution_count": 6,
      "outputs": [
        {
          "output_type": "stream",
          "name": "stdout",
          "text": [
            "[<PIL.PpmImagePlugin.PpmImageFile image mode=L size=92x112 at 0x7F1339C416D0>, <PIL.PpmImagePlugin.PpmImageFile image mode=L size=92x112 at 0x7F1339C1EED0>, <PIL.PpmImagePlugin.PpmImageFile image mode=L size=92x112 at 0x7F1339C27B10>, <PIL.PpmImagePlugin.PpmImageFile image mode=L size=92x112 at 0x7F1339BB1B90>, <PIL.PpmImagePlugin.PpmImageFile image mode=L size=92x112 at 0x7F1339C41550>, <PIL.PpmImagePlugin.PpmImageFile image mode=L size=92x112 at 0x7F1339C41350>, <PIL.PpmImagePlugin.PpmImageFile image mode=L size=92x112 at 0x7F1339C41590>, <PIL.PpmImagePlugin.PpmImageFile image mode=L size=92x112 at 0x7F1339BB5BD0>, <PIL.PpmImagePlugin.PpmImageFile image mode=L size=92x112 at 0x7F1339BB5E10>, <PIL.PpmImagePlugin.PpmImageFile image mode=L size=92x112 at 0x7F1339BB1790>, <PIL.PpmImagePlugin.PpmImageFile image mode=L size=92x112 at 0x7F1339BB5CD0>, <PIL.PpmImagePlugin.PpmImageFile image mode=L size=92x112 at 0x7F1339C411D0>, <PIL.PpmImagePlugin.PpmImageFile image mode=L size=92x112 at 0x7F1339C41490>, <PIL.PpmImagePlugin.PpmImageFile image mode=L size=92x112 at 0x7F1339C413D0>, <PIL.PpmImagePlugin.PpmImageFile image mode=L size=92x112 at 0x7F1339BB5ED0>, <PIL.PpmImagePlugin.PpmImageFile image mode=L size=92x112 at 0x7F1339C41310>, <PIL.PpmImagePlugin.PpmImageFile image mode=L size=92x112 at 0x7F1339C41210>, <PIL.PpmImagePlugin.PpmImageFile image mode=L size=92x112 at 0x7F1339C41250>, <PIL.PpmImagePlugin.PpmImageFile image mode=L size=92x112 at 0x7F1339C41190>, <PIL.PpmImagePlugin.PpmImageFile image mode=L size=92x112 at 0x7F1339C41510>, <PIL.PpmImagePlugin.PpmImageFile image mode=L size=92x112 at 0x7F1339C27B50>, <PIL.PpmImagePlugin.PpmImageFile image mode=L size=92x112 at 0x7F1339BB5A50>, <PIL.PpmImagePlugin.PpmImageFile image mode=L size=92x112 at 0x7F1339BB5D10>, <PIL.PpmImagePlugin.PpmImageFile image mode=L size=92x112 at 0x7F1339BB5A10>, <PIL.PpmImagePlugin.PpmImageFile image mode=L size=92x112 at 0x7F1339C41450>, <PIL.PpmImagePlugin.PpmImageFile image mode=L size=92x112 at 0x7F1339BB5A90>, <PIL.PpmImagePlugin.PpmImageFile image mode=L size=92x112 at 0x7F1339BB5E90>, <PIL.PpmImagePlugin.PpmImageFile image mode=L size=92x112 at 0x7F1339BB5C90>, <PIL.PpmImagePlugin.PpmImageFile image mode=L size=92x112 at 0x7F1339BCE050>, <PIL.PpmImagePlugin.PpmImageFile image mode=L size=92x112 at 0x7F1339BB5F90>, <PIL.PpmImagePlugin.PpmImageFile image mode=L size=92x112 at 0x7F1339BB5DD0>, <PIL.PpmImagePlugin.PpmImageFile image mode=L size=92x112 at 0x7F1339C41410>, <PIL.PpmImagePlugin.PpmImageFile image mode=L size=92x112 at 0x7F1339C41290>, <PIL.PpmImagePlugin.PpmImageFile image mode=L size=92x112 at 0x7F1339BB5D90>, <PIL.PpmImagePlugin.PpmImageFile image mode=L size=92x112 at 0x7F1339BCE250>, <PIL.PpmImagePlugin.PpmImageFile image mode=L size=92x112 at 0x7F1339BCE410>, <PIL.PpmImagePlugin.PpmImageFile image mode=L size=92x112 at 0x7F1339BB5D50>, <PIL.PpmImagePlugin.PpmImageFile image mode=L size=92x112 at 0x7F1339BB5F50>, <PIL.PpmImagePlugin.PpmImageFile image mode=L size=92x112 at 0x7F1339BCE490>, <PIL.PpmImagePlugin.PpmImageFile image mode=L size=92x112 at 0x7F1339BCE510>, <PIL.PpmImagePlugin.PpmImageFile image mode=L size=92x112 at 0x7F1339C3AED0>, <PIL.PpmImagePlugin.PpmImageFile image mode=L size=92x112 at 0x7F1339BB5410>, <PIL.PpmImagePlugin.PpmImageFile image mode=L size=92x112 at 0x7F1339BCE590>, <PIL.PpmImagePlugin.PpmImageFile image mode=L size=92x112 at 0x7F1339BCE450>, <PIL.PpmImagePlugin.PpmImageFile image mode=L size=92x112 at 0x7F1339BCE150>, <PIL.PpmImagePlugin.PpmImageFile image mode=L size=92x112 at 0x7F1339BCE8D0>, <PIL.PpmImagePlugin.PpmImageFile image mode=L size=92x112 at 0x7F1339BCEB10>, <PIL.PpmImagePlugin.PpmImageFile image mode=L size=92x112 at 0x7F1339BCE090>, <PIL.PpmImagePlugin.PpmImageFile image mode=L size=92x112 at 0x7F1339BCE3D0>, <PIL.PpmImagePlugin.PpmImageFile image mode=L size=92x112 at 0x7F1339BCED10>, <PIL.PpmImagePlugin.PpmImageFile image mode=L size=92x112 at 0x7F1339C3A6D0>, <PIL.PpmImagePlugin.PpmImageFile image mode=L size=92x112 at 0x7F1339BCEFD0>, <PIL.PpmImagePlugin.PpmImageFile image mode=L size=92x112 at 0x7F1339BCE850>, <PIL.PpmImagePlugin.PpmImageFile image mode=L size=92x112 at 0x7F1339BCE310>, <PIL.PpmImagePlugin.PpmImageFile image mode=L size=92x112 at 0x7F1339BCE790>, <PIL.PpmImagePlugin.PpmImageFile image mode=L size=92x112 at 0x7F1339BCE350>, <PIL.PpmImagePlugin.PpmImageFile image mode=L size=92x112 at 0x7F1339BCE910>, <PIL.PpmImagePlugin.PpmImageFile image mode=L size=92x112 at 0x7F1339BCED90>, <PIL.PpmImagePlugin.PpmImageFile image mode=L size=92x112 at 0x7F1339BCE890>, <PIL.PpmImagePlugin.PpmImageFile image mode=L size=92x112 at 0x7F1339BCE4D0>, <PIL.PpmImagePlugin.PpmImageFile image mode=L size=92x112 at 0x7F1339C414D0>, <PIL.PpmImagePlugin.PpmImageFile image mode=L size=92x112 at 0x7F1339BCECD0>, <PIL.PpmImagePlugin.PpmImageFile image mode=L size=92x112 at 0x7F1339BCE190>, <PIL.PpmImagePlugin.PpmImageFile image mode=L size=92x112 at 0x7F1339BB5B10>, <PIL.PpmImagePlugin.PpmImageFile image mode=L size=92x112 at 0x7F1339BCE2D0>, <PIL.PpmImagePlugin.PpmImageFile image mode=L size=92x112 at 0x7F1339BCEA10>, <PIL.PpmImagePlugin.PpmImageFile image mode=L size=92x112 at 0x7F1339BCE650>, <PIL.PpmImagePlugin.PpmImageFile image mode=L size=92x112 at 0x7F1339BCEE10>, <PIL.PpmImagePlugin.PpmImageFile image mode=L size=92x112 at 0x7F1339BCE1D0>, <PIL.PpmImagePlugin.PpmImageFile image mode=L size=92x112 at 0x7F1339BCE810>, <PIL.PpmImagePlugin.PpmImageFile image mode=L size=92x112 at 0x7F1339BCE690>, <PIL.PpmImagePlugin.PpmImageFile image mode=L size=92x112 at 0x7F1339BCEE90>, <PIL.PpmImagePlugin.PpmImageFile image mode=L size=92x112 at 0x7F1339BB5B50>, <PIL.PpmImagePlugin.PpmImageFile image mode=L size=92x112 at 0x7F1339BCE210>, <PIL.PpmImagePlugin.PpmImageFile image mode=L size=92x112 at 0x7F1339BCE610>, <PIL.PpmImagePlugin.PpmImageFile image mode=L size=92x112 at 0x7F1339BCEF90>, <PIL.PpmImagePlugin.PpmImageFile image mode=L size=92x112 at 0x7F1339BCEBD0>, <PIL.PpmImagePlugin.PpmImageFile image mode=L size=92x112 at 0x7F1339BCED50>, <PIL.PpmImagePlugin.PpmImageFile image mode=L size=92x112 at 0x7F1339BCEC90>, <PIL.PpmImagePlugin.PpmImageFile image mode=L size=92x112 at 0x7F1339BCE990>, <PIL.PpmImagePlugin.PpmImageFile image mode=L size=92x112 at 0x7F1339BB1D50>, <PIL.PpmImagePlugin.PpmImageFile image mode=L size=92x112 at 0x7F1339BCE390>, <PIL.PpmImagePlugin.PpmImageFile image mode=L size=92x112 at 0x7F1339BCE0D0>, <PIL.PpmImagePlugin.PpmImageFile image mode=L size=92x112 at 0x7F1339BCEB90>, <PIL.PpmImagePlugin.PpmImageFile image mode=L size=92x112 at 0x7F1339BCE9D0>, <PIL.PpmImagePlugin.PpmImageFile image mode=L size=92x112 at 0x7F1339BCE290>, <PIL.PpmImagePlugin.PpmImageFile image mode=L size=92x112 at 0x7F1339BCEED0>, <PIL.PpmImagePlugin.PpmImageFile image mode=L size=92x112 at 0x7F1339BCE550>, <PIL.PpmImagePlugin.PpmImageFile image mode=L size=92x112 at 0x7F1339BCEF10>, <PIL.PpmImagePlugin.PpmImageFile image mode=L size=92x112 at 0x7F1339BCEB50>, <PIL.PpmImagePlugin.PpmImageFile image mode=L size=92x112 at 0x7F1339C41150>, <PIL.PpmImagePlugin.PpmImageFile image mode=L size=92x112 at 0x7F1339BCEC10>, <PIL.PpmImagePlugin.PpmImageFile image mode=L size=92x112 at 0x7F1339BCE950>, <PIL.PpmImagePlugin.PpmImageFile image mode=L size=92x112 at 0x7F1339B6A210>, <PIL.PpmImagePlugin.PpmImageFile image mode=L size=92x112 at 0x7F1339B6A350>, <PIL.PpmImagePlugin.PpmImageFile image mode=L size=92x112 at 0x7F1339B6A450>, <PIL.PpmImagePlugin.PpmImageFile image mode=L size=92x112 at 0x7F1339B6A2D0>, <PIL.PpmImagePlugin.PpmImageFile image mode=L size=92x112 at 0x7F1339BCE750>, <PIL.PpmImagePlugin.PpmImageFile image mode=L size=92x112 at 0x7F1339BCEDD0>, <PIL.PpmImagePlugin.PpmImageFile image mode=L size=92x112 at 0x7F1339BCE110>, <PIL.PpmImagePlugin.PpmImageFile image mode=L size=92x112 at 0x7F1339BCEAD0>, <PIL.PpmImagePlugin.PpmImageFile image mode=L size=92x112 at 0x7F1339BCEA90>, <PIL.PpmImagePlugin.PpmImageFile image mode=L size=92x112 at 0x7F1339BCEA50>, <PIL.PpmImagePlugin.PpmImageFile image mode=L size=92x112 at 0x7F1339B6A3D0>, <PIL.PpmImagePlugin.PpmImageFile image mode=L size=92x112 at 0x7F1339B6A750>, <PIL.PpmImagePlugin.PpmImageFile image mode=L size=92x112 at 0x7F1339BCE710>, <PIL.PpmImagePlugin.PpmImageFile image mode=L size=92x112 at 0x7F1339B6A050>, <PIL.PpmImagePlugin.PpmImageFile image mode=L size=92x112 at 0x7F1339BCEE50>, <PIL.PpmImagePlugin.PpmImageFile image mode=L size=92x112 at 0x7F1339B6A9D0>, <PIL.PpmImagePlugin.PpmImageFile image mode=L size=92x112 at 0x7F1339B6A150>, <PIL.PpmImagePlugin.PpmImageFile image mode=L size=92x112 at 0x7F1339B6A410>, <PIL.PpmImagePlugin.PpmImageFile image mode=L size=92x112 at 0x7F133F8F5150>, <PIL.PpmImagePlugin.PpmImageFile image mode=L size=92x112 at 0x7F1339B6AC10>, <PIL.PpmImagePlugin.PpmImageFile image mode=L size=92x112 at 0x7F1339B6A1D0>, <PIL.PpmImagePlugin.PpmImageFile image mode=L size=92x112 at 0x7F1339B6A4D0>, <PIL.PpmImagePlugin.PpmImageFile image mode=L size=92x112 at 0x7F1339B6A690>, <PIL.PpmImagePlugin.PpmImageFile image mode=L size=92x112 at 0x7F1339B6AD50>, <PIL.PpmImagePlugin.PpmImageFile image mode=L size=92x112 at 0x7F1339B6A090>, <PIL.PpmImagePlugin.PpmImageFile image mode=L size=92x112 at 0x7F1339B6AE50>, <PIL.PpmImagePlugin.PpmImageFile image mode=L size=92x112 at 0x7F1339B6ABD0>, <PIL.PpmImagePlugin.PpmImageFile image mode=L size=92x112 at 0x7F1339BCE5D0>, <PIL.PpmImagePlugin.PpmImageFile image mode=L size=92x112 at 0x7F1339B6AA10>, <PIL.PpmImagePlugin.PpmImageFile image mode=L size=92x112 at 0x7F1339B6A510>, <PIL.PpmImagePlugin.PpmImageFile image mode=L size=92x112 at 0x7F1339B6A390>, <PIL.PpmImagePlugin.PpmImageFile image mode=L size=92x112 at 0x7F1339B6A990>, <PIL.PpmImagePlugin.PpmImageFile image mode=L size=92x112 at 0x7F1339B6A310>, <PIL.PpmImagePlugin.PpmImageFile image mode=L size=92x112 at 0x7F1339B6AC90>, <PIL.PpmImagePlugin.PpmImageFile image mode=L size=92x112 at 0x7F1339B6A890>, <PIL.PpmImagePlugin.PpmImageFile image mode=L size=92x112 at 0x7F1339B6AB10>, <PIL.PpmImagePlugin.PpmImageFile image mode=L size=92x112 at 0x7F1339B6ACD0>, <PIL.PpmImagePlugin.PpmImageFile image mode=L size=92x112 at 0x7F1339BCEC50>, <PIL.PpmImagePlugin.PpmImageFile image mode=L size=92x112 at 0x7F1339B6A7D0>, <PIL.PpmImagePlugin.PpmImageFile image mode=L size=92x112 at 0x7F1339B6AA50>, <PIL.PpmImagePlugin.PpmImageFile image mode=L size=92x112 at 0x7F1339BCE6D0>, <PIL.PpmImagePlugin.PpmImageFile image mode=L size=92x112 at 0x7F1339B6AF10>, <PIL.PpmImagePlugin.PpmImageFile image mode=L size=92x112 at 0x7F1339B6AB50>, <PIL.PpmImagePlugin.PpmImageFile image mode=L size=92x112 at 0x7F1339B6A250>, <PIL.PpmImagePlugin.PpmImageFile image mode=L size=92x112 at 0x7F1339B6AAD0>, <PIL.PpmImagePlugin.PpmImageFile image mode=L size=92x112 at 0x7F1339B6A850>, <PIL.PpmImagePlugin.PpmImageFile image mode=L size=92x112 at 0x7F1339B6A810>, <PIL.PpmImagePlugin.PpmImageFile image mode=L size=92x112 at 0x7F1339BCEF50>, <PIL.PpmImagePlugin.PpmImageFile image mode=L size=92x112 at 0x7F1339B6A5D0>, <PIL.PpmImagePlugin.PpmImageFile image mode=L size=92x112 at 0x7F1339B6AFD0>, <PIL.PpmImagePlugin.PpmImageFile image mode=L size=92x112 at 0x7F1339B6A550>, <PIL.PpmImagePlugin.PpmImageFile image mode=L size=92x112 at 0x7F1339B6A790>, <PIL.PpmImagePlugin.PpmImageFile image mode=L size=92x112 at 0x7F1339B6AF50>, <PIL.PpmImagePlugin.PpmImageFile image mode=L size=92x112 at 0x7F1339B6A0D0>, <PIL.PpmImagePlugin.PpmImageFile image mode=L size=92x112 at 0x7F1339B6A110>, <PIL.PpmImagePlugin.PpmImageFile image mode=L size=92x112 at 0x7F1339B6AA90>, <PIL.PpmImagePlugin.PpmImageFile image mode=L size=92x112 at 0x7F1339B6A650>, <PIL.PpmImagePlugin.PpmImageFile image mode=L size=92x112 at 0x7F133F8F0FD0>, <PIL.PpmImagePlugin.PpmImageFile image mode=L size=92x112 at 0x7F1339B6ADD0>, <PIL.PpmImagePlugin.PpmImageFile image mode=L size=92x112 at 0x7F1339B6AD10>, <PIL.PpmImagePlugin.PpmImageFile image mode=L size=92x112 at 0x7F1339B6A290>, <PIL.PpmImagePlugin.PpmImageFile image mode=L size=92x112 at 0x7F1339B6A490>, <PIL.PpmImagePlugin.PpmImageFile image mode=L size=92x112 at 0x7F1339B6AE90>, <PIL.PpmImagePlugin.PpmImageFile image mode=L size=92x112 at 0x7F1339B6AED0>, <PIL.PpmImagePlugin.PpmImageFile image mode=L size=92x112 at 0x7F133F8F0F50>, <PIL.PpmImagePlugin.PpmImageFile image mode=L size=92x112 at 0x7F1339B6A590>, <PIL.PpmImagePlugin.PpmImageFile image mode=L size=92x112 at 0x7F1339B6A910>, <PIL.PpmImagePlugin.PpmImageFile image mode=L size=92x112 at 0x7F13506E5890>, <PIL.PpmImagePlugin.PpmImageFile image mode=L size=92x112 at 0x7F1339B85250>, <PIL.PpmImagePlugin.PpmImageFile image mode=L size=92x112 at 0x7F1339B85690>, <PIL.PpmImagePlugin.PpmImageFile image mode=L size=92x112 at 0x7F1339B85490>, <PIL.PpmImagePlugin.PpmImageFile image mode=L size=92x112 at 0x7F1339B6AF90>, <PIL.PpmImagePlugin.PpmImageFile image mode=L size=92x112 at 0x7F1339B6A610>, <PIL.PpmImagePlugin.PpmImageFile image mode=L size=92x112 at 0x7F1339B6A8D0>, <PIL.PpmImagePlugin.PpmImageFile image mode=L size=92x112 at 0x7F1339B6A6D0>, <PIL.PpmImagePlugin.PpmImageFile image mode=L size=92x112 at 0x7F1339B6AE10>, <PIL.PpmImagePlugin.PpmImageFile image mode=L size=92x112 at 0x7F1339B6A950>, <PIL.PpmImagePlugin.PpmImageFile image mode=L size=92x112 at 0x7F1339B85A10>, <PIL.PpmImagePlugin.PpmImageFile image mode=L size=92x112 at 0x7F133D6CAD10>, <PIL.PpmImagePlugin.PpmImageFile image mode=L size=92x112 at 0x7F1339B85310>, <PIL.PpmImagePlugin.PpmImageFile image mode=L size=92x112 at 0x7F1339B85990>, <PIL.PpmImagePlugin.PpmImageFile image mode=L size=92x112 at 0x7F1339B85D90>, <PIL.PpmImagePlugin.PpmImageFile image mode=L size=92x112 at 0x7F1339B85510>, <PIL.PpmImagePlugin.PpmImageFile image mode=L size=92x112 at 0x7F1339B851D0>, <PIL.PpmImagePlugin.PpmImageFile image mode=L size=92x112 at 0x7F1339B6AB90>, <PIL.PpmImagePlugin.PpmImageFile image mode=L size=92x112 at 0x7F1339B85190>, <PIL.PpmImagePlugin.PpmImageFile image mode=L size=92x112 at 0x7F1339B85A90>, <PIL.PpmImagePlugin.PpmImageFile image mode=L size=92x112 at 0x7F1339B6A190>, <PIL.PpmImagePlugin.PpmImageFile image mode=L size=92x112 at 0x7F1339B85B50>, <PIL.PpmImagePlugin.PpmImageFile image mode=L size=92x112 at 0x7F1339B85DD0>, <PIL.PpmImagePlugin.PpmImageFile image mode=L size=92x112 at 0x7F1339B85950>, <PIL.PpmImagePlugin.PpmImageFile image mode=L size=92x112 at 0x7F1339B85390>, <PIL.PpmImagePlugin.PpmImageFile image mode=L size=92x112 at 0x7F1339B85590>, <PIL.PpmImagePlugin.PpmImageFile image mode=L size=92x112 at 0x7F1339B85E50>, <PIL.PpmImagePlugin.PpmImageFile image mode=L size=92x112 at 0x7F1339B85110>, <PIL.PpmImagePlugin.PpmImageFile image mode=L size=92x112 at 0x7F1339B85890>, <PIL.PpmImagePlugin.PpmImageFile image mode=L size=92x112 at 0x7F1339B85790>, <PIL.PpmImagePlugin.PpmImageFile image mode=L size=92x112 at 0x7F134E487990>, <PIL.PpmImagePlugin.PpmImageFile image mode=L size=92x112 at 0x7F1339B85B90>, <PIL.PpmImagePlugin.PpmImageFile image mode=L size=92x112 at 0x7F1339B85910>, <PIL.PpmImagePlugin.PpmImageFile image mode=L size=92x112 at 0x7F1339B85C50>, <PIL.PpmImagePlugin.PpmImageFile image mode=L size=92x112 at 0x7F1339B85F90>, <PIL.PpmImagePlugin.PpmImageFile image mode=L size=92x112 at 0x7F1339B85E10>, <PIL.PpmImagePlugin.PpmImageFile image mode=L size=92x112 at 0x7F1339B85C10>, <PIL.PpmImagePlugin.PpmImageFile image mode=L size=92x112 at 0x7F1339B85710>, <PIL.PpmImagePlugin.PpmImageFile image mode=L size=92x112 at 0x7F1339B855D0>, <PIL.PpmImagePlugin.PpmImageFile image mode=L size=92x112 at 0x7F1339B85FD0>, <PIL.PpmImagePlugin.PpmImageFile image mode=L size=92x112 at 0x7F1339B6AC50>, <PIL.PpmImagePlugin.PpmImageFile image mode=L size=92x112 at 0x7F1339B85150>, <PIL.PpmImagePlugin.PpmImageFile image mode=L size=92x112 at 0x7F1339B85610>, <PIL.PpmImagePlugin.PpmImageFile image mode=L size=92x112 at 0x7F1339B85CD0>, <PIL.PpmImagePlugin.PpmImageFile image mode=L size=92x112 at 0x7F1339B853D0>, <PIL.PpmImagePlugin.PpmImageFile image mode=L size=92x112 at 0x7F1339B854D0>, <PIL.PpmImagePlugin.PpmImageFile image mode=L size=92x112 at 0x7F133FA8DB10>, <PIL.PpmImagePlugin.PpmImageFile image mode=L size=92x112 at 0x7F1339B85F50>, <PIL.PpmImagePlugin.PpmImageFile image mode=L size=92x112 at 0x7F1339B85290>, <PIL.PpmImagePlugin.PpmImageFile image mode=L size=92x112 at 0x7F1339B85D10>, <PIL.PpmImagePlugin.PpmImageFile image mode=L size=92x112 at 0x7F133FA8D390>, <PIL.PpmImagePlugin.PpmImageFile image mode=L size=92x112 at 0x7F1339B85450>, <PIL.PpmImagePlugin.PpmImageFile image mode=L size=92x112 at 0x7F1339B85C90>, <PIL.PpmImagePlugin.PpmImageFile image mode=L size=92x112 at 0x7F1339B85090>, <PIL.PpmImagePlugin.PpmImageFile image mode=L size=92x112 at 0x7F1339B85AD0>, <PIL.PpmImagePlugin.PpmImageFile image mode=L size=92x112 at 0x7F1339B85D50>, <PIL.PpmImagePlugin.PpmImageFile image mode=L size=92x112 at 0x7F1339B85A50>, <PIL.PpmImagePlugin.PpmImageFile image mode=L size=92x112 at 0x7F1339B85E90>, <PIL.PpmImagePlugin.PpmImageFile image mode=L size=92x112 at 0x7F1339B85410>, <PIL.PpmImagePlugin.PpmImageFile image mode=L size=92x112 at 0x7F1339B85050>, <PIL.PpmImagePlugin.PpmImageFile image mode=L size=92x112 at 0x7F1339BA0190>, <PIL.PpmImagePlugin.PpmImageFile image mode=L size=92x112 at 0x7F1339B6AD90>, <PIL.PpmImagePlugin.PpmImageFile image mode=L size=92x112 at 0x7F1339B858D0>, <PIL.PpmImagePlugin.PpmImageFile image mode=L size=92x112 at 0x7F1339B85ED0>, <PIL.PpmImagePlugin.PpmImageFile image mode=L size=92x112 at 0x7F1339BA0110>, <PIL.PpmImagePlugin.PpmImageFile image mode=L size=92x112 at 0x7F1339BA01D0>, <PIL.PpmImagePlugin.PpmImageFile image mode=L size=92x112 at 0x7F1339BA03D0>, <PIL.PpmImagePlugin.PpmImageFile image mode=L size=92x112 at 0x7F1339B85B10>, <PIL.PpmImagePlugin.PpmImageFile image mode=L size=92x112 at 0x7F1339B85210>, <PIL.PpmImagePlugin.PpmImageFile image mode=L size=92x112 at 0x7F1339B850D0>, <PIL.PpmImagePlugin.PpmImageFile image mode=L size=92x112 at 0x7F133F165C50>, <PIL.PpmImagePlugin.PpmImageFile image mode=L size=92x112 at 0x7F1339BA0590>, <PIL.PpmImagePlugin.PpmImageFile image mode=L size=92x112 at 0x7F1339BA05D0>, <PIL.PpmImagePlugin.PpmImageFile image mode=L size=92x112 at 0x7F1339BA09D0>, <PIL.PpmImagePlugin.PpmImageFile image mode=L size=92x112 at 0x7F1339BA06D0>, <PIL.PpmImagePlugin.PpmImageFile image mode=L size=92x112 at 0x7F1339BA0810>, <PIL.PpmImagePlugin.PpmImageFile image mode=L size=92x112 at 0x7F1339B856D0>, <PIL.PpmImagePlugin.PpmImageFile image mode=L size=92x112 at 0x7F1339B85BD0>, <PIL.PpmImagePlugin.PpmImageFile image mode=L size=92x112 at 0x7F1339B85850>, <PIL.PpmImagePlugin.PpmImageFile image mode=L size=92x112 at 0x7F1339B85350>, <PIL.PpmImagePlugin.PpmImageFile image mode=L size=92x112 at 0x7F1339B6A710>, <PIL.PpmImagePlugin.PpmImageFile image mode=L size=92x112 at 0x7F1339B859D0>, <PIL.PpmImagePlugin.PpmImageFile image mode=L size=92x112 at 0x7F1339BA0650>, <PIL.PpmImagePlugin.PpmImageFile image mode=L size=92x112 at 0x7F1339BA0210>, <PIL.PpmImagePlugin.PpmImageFile image mode=L size=92x112 at 0x7F1339B85650>, <PIL.PpmImagePlugin.PpmImageFile image mode=L size=92x112 at 0x7F1339B857D0>, <PIL.PpmImagePlugin.PpmImageFile image mode=L size=92x112 at 0x7F1339BA0250>, <PIL.PpmImagePlugin.PpmImageFile image mode=L size=92x112 at 0x7F1339BA0510>, <PIL.PpmImagePlugin.PpmImageFile image mode=L size=92x112 at 0x7F1339BA0CD0>, <PIL.PpmImagePlugin.PpmImageFile image mode=L size=92x112 at 0x7F1339B85550>, <PIL.PpmImagePlugin.PpmImageFile image mode=L size=92x112 at 0x7F1339B85810>, <PIL.PpmImagePlugin.PpmImageFile image mode=L size=92x112 at 0x7F1339BA0310>, <PIL.PpmImagePlugin.PpmImageFile image mode=L size=92x112 at 0x7F1339BA0390>, <PIL.PpmImagePlugin.PpmImageFile image mode=L size=92x112 at 0x7F1339BA0C90>, <PIL.PpmImagePlugin.PpmImageFile image mode=L size=92x112 at 0x7F1339BA0950>, <PIL.PpmImagePlugin.PpmImageFile image mode=L size=92x112 at 0x7F1339BA0FD0>, <PIL.PpmImagePlugin.PpmImageFile image mode=L size=92x112 at 0x7F1339BA0A50>, <PIL.PpmImagePlugin.PpmImageFile image mode=L size=92x112 at 0x7F1339BA0710>, <PIL.PpmImagePlugin.PpmImageFile image mode=L size=92x112 at 0x7F1339BA0690>, <PIL.PpmImagePlugin.PpmImageFile image mode=L size=92x112 at 0x7F1339BA0B50>, <PIL.PpmImagePlugin.PpmImageFile image mode=L size=92x112 at 0x7F133F8F5250>, <PIL.PpmImagePlugin.PpmImageFile image mode=L size=92x112 at 0x7F133F4C9050>, <PIL.PpmImagePlugin.PpmImageFile image mode=L size=92x112 at 0x7F1339BA0910>, <PIL.PpmImagePlugin.PpmImageFile image mode=L size=92x112 at 0x7F1339BA0D50>, <PIL.PpmImagePlugin.PpmImageFile image mode=L size=92x112 at 0x7F1339BA0B90>, <PIL.PpmImagePlugin.PpmImageFile image mode=L size=92x112 at 0x7F1339BA0150>, <PIL.PpmImagePlugin.PpmImageFile image mode=L size=92x112 at 0x7F1339BA04D0>, <PIL.PpmImagePlugin.PpmImageFile image mode=L size=92x112 at 0x7F1339BA0610>, <PIL.PpmImagePlugin.PpmImageFile image mode=L size=92x112 at 0x7F1339BA0A10>, <PIL.PpmImagePlugin.PpmImageFile image mode=L size=92x112 at 0x7F1339BA0ED0>, <PIL.PpmImagePlugin.PpmImageFile image mode=L size=92x112 at 0x7F1339B852D0>, <PIL.PpmImagePlugin.PpmImageFile image mode=L size=92x112 at 0x7F1339BA0790>, <PIL.PpmImagePlugin.PpmImageFile image mode=L size=92x112 at 0x7F1339BA0A90>, <PIL.PpmImagePlugin.PpmImageFile image mode=L size=92x112 at 0x7F1339BA0F50>, <PIL.PpmImagePlugin.PpmImageFile image mode=L size=92x112 at 0x7F1339BA0090>, <PIL.PpmImagePlugin.PpmImageFile image mode=L size=92x112 at 0x7F1339BA00D0>, <PIL.PpmImagePlugin.PpmImageFile image mode=L size=92x112 at 0x7F1339BA0E90>, <PIL.PpmImagePlugin.PpmImageFile image mode=L size=92x112 at 0x7F1339BA0DD0>, <PIL.PpmImagePlugin.PpmImageFile image mode=L size=92x112 at 0x7F1339BA0F90>, <PIL.PpmImagePlugin.PpmImageFile image mode=L size=92x112 at 0x7F1339BA0B10>, <PIL.PpmImagePlugin.PpmImageFile image mode=L size=92x112 at 0x7F1339BCE7D0>, <PIL.PpmImagePlugin.PpmImageFile image mode=L size=92x112 at 0x7F1339BA0E10>, <PIL.PpmImagePlugin.PpmImageFile image mode=L size=92x112 at 0x7F1339BA08D0>, <PIL.PpmImagePlugin.PpmImageFile image mode=L size=92x112 at 0x7F1339BA0890>, <PIL.PpmImagePlugin.PpmImageFile image mode=L size=92x112 at 0x7F1339BA0990>, <PIL.PpmImagePlugin.PpmImageFile image mode=L size=92x112 at 0x7F1339BA0350>, <PIL.PpmImagePlugin.PpmImageFile image mode=L size=92x112 at 0x7F1339BA0F10>, <PIL.PpmImagePlugin.PpmImageFile image mode=L size=92x112 at 0x7F1339BA0E50>, <PIL.PpmImagePlugin.PpmImageFile image mode=L size=92x112 at 0x7F1339BA0410>, <PIL.PpmImagePlugin.PpmImageFile image mode=L size=92x112 at 0x7F1339BA0C50>, <PIL.PpmImagePlugin.PpmImageFile image mode=L size=92x112 at 0x7F1339B85F10>, <PIL.PpmImagePlugin.PpmImageFile image mode=L size=92x112 at 0x7F1339BA0D90>, <PIL.PpmImagePlugin.PpmImageFile image mode=L size=92x112 at 0x7F1339BA0750>, <PIL.PpmImagePlugin.PpmImageFile image mode=L size=92x112 at 0x7F1339B39150>, <PIL.PpmImagePlugin.PpmImageFile image mode=L size=92x112 at 0x7F1339B39490>, <PIL.PpmImagePlugin.PpmImageFile image mode=L size=92x112 at 0x7F1339B39190>, <PIL.PpmImagePlugin.PpmImageFile image mode=L size=92x112 at 0x7F1339B391D0>, <PIL.PpmImagePlugin.PpmImageFile image mode=L size=92x112 at 0x7F1339BA0050>, <PIL.PpmImagePlugin.PpmImageFile image mode=L size=92x112 at 0x7F1339BA0850>, <PIL.PpmImagePlugin.PpmImageFile image mode=L size=92x112 at 0x7F1339BA0490>, <PIL.PpmImagePlugin.PpmImageFile image mode=L size=92x112 at 0x7F133FA8D150>, <PIL.PpmImagePlugin.PpmImageFile image mode=L size=92x112 at 0x7F1339BA0D10>, <PIL.PpmImagePlugin.PpmImageFile image mode=L size=92x112 at 0x7F1339B39850>, <PIL.PpmImagePlugin.PpmImageFile image mode=L size=92x112 at 0x7F1339B39A90>, <PIL.PpmImagePlugin.PpmImageFile image mode=L size=92x112 at 0x7F1339B39810>, <PIL.PpmImagePlugin.PpmImageFile image mode=L size=92x112 at 0x7F1339B398D0>, <PIL.PpmImagePlugin.PpmImageFile image mode=L size=92x112 at 0x7F1339B39050>, <PIL.PpmImagePlugin.PpmImageFile image mode=L size=92x112 at 0x7F1339BA02D0>, <PIL.PpmImagePlugin.PpmImageFile image mode=L size=92x112 at 0x7F1339BA07D0>, <PIL.PpmImagePlugin.PpmImageFile image mode=L size=92x112 at 0x7F1339BA0550>, <PIL.PpmImagePlugin.PpmImageFile image mode=L size=92x112 at 0x7F133FA8D090>, <PIL.PpmImagePlugin.PpmImageFile image mode=L size=92x112 at 0x7F1339BA0BD0>, <PIL.PpmImagePlugin.PpmImageFile image mode=L size=92x112 at 0x7F1339B39D10>, <PIL.PpmImagePlugin.PpmImageFile image mode=L size=92x112 at 0x7F1339B392D0>, <PIL.PpmImagePlugin.PpmImageFile image mode=L size=92x112 at 0x7F1339B39650>, <PIL.PpmImagePlugin.PpmImageFile image mode=L size=92x112 at 0x7F1339B39C90>, <PIL.PpmImagePlugin.PpmImageFile image mode=L size=92x112 at 0x7F1339BA0450>, <PIL.PpmImagePlugin.PpmImageFile image mode=L size=92x112 at 0x7F1339B39690>, <PIL.PpmImagePlugin.PpmImageFile image mode=L size=92x112 at 0x7F1339B39E50>, <PIL.PpmImagePlugin.PpmImageFile image mode=L size=92x112 at 0x7F1339BA0290>, <PIL.PpmImagePlugin.PpmImageFile image mode=L size=92x112 at 0x7F133F165690>, <PIL.PpmImagePlugin.PpmImageFile image mode=L size=92x112 at 0x7F1339B399D0>, <PIL.PpmImagePlugin.PpmImageFile image mode=L size=92x112 at 0x7F1339B39790>, <PIL.PpmImagePlugin.PpmImageFile image mode=L size=92x112 at 0x7F1339B396D0>, <PIL.PpmImagePlugin.PpmImageFile image mode=L size=92x112 at 0x7F1339B39110>, <PIL.PpmImagePlugin.PpmImageFile image mode=L size=92x112 at 0x7F1339B39950>, <PIL.PpmImagePlugin.PpmImageFile image mode=L size=92x112 at 0x7F1339B39F10>, <PIL.PpmImagePlugin.PpmImageFile image mode=L size=92x112 at 0x7F1339B39C50>, <PIL.PpmImagePlugin.PpmImageFile image mode=L size=92x112 at 0x7F1339B39B10>, <PIL.PpmImagePlugin.PpmImageFile image mode=L size=92x112 at 0x7F1339B39AD0>, <PIL.PpmImagePlugin.PpmImageFile image mode=L size=92x112 at 0x7F1339B85750>, <PIL.PpmImagePlugin.PpmImageFile image mode=L size=92x112 at 0x7F1339B393D0>, <PIL.PpmImagePlugin.PpmImageFile image mode=L size=92x112 at 0x7F1339B397D0>, <PIL.PpmImagePlugin.PpmImageFile image mode=L size=92x112 at 0x7F1339B39B50>, <PIL.PpmImagePlugin.PpmImageFile image mode=L size=92x112 at 0x7F1339B39610>, <PIL.PpmImagePlugin.PpmImageFile image mode=L size=92x112 at 0x7F1339B39590>, <PIL.PpmImagePlugin.PpmImageFile image mode=L size=92x112 at 0x7F1339B39890>, <PIL.PpmImagePlugin.PpmImageFile image mode=L size=92x112 at 0x7F1339B39ED0>, <PIL.PpmImagePlugin.PpmImageFile image mode=L size=92x112 at 0x7F1339B39310>, <PIL.PpmImagePlugin.PpmImageFile image mode=L size=92x112 at 0x7F1339B39290>, <PIL.PpmImagePlugin.PpmImageFile image mode=L size=92x112 at 0x7F133F4C9790>, <PIL.PpmImagePlugin.PpmImageFile image mode=L size=92x112 at 0x7F1339B394D0>, <PIL.PpmImagePlugin.PpmImageFile image mode=L size=92x112 at 0x7F1339B39E90>, <PIL.PpmImagePlugin.PpmImageFile image mode=L size=92x112 at 0x7F1339B39F90>, <PIL.PpmImagePlugin.PpmImageFile image mode=L size=92x112 at 0x7F1339B39A10>, <PIL.PpmImagePlugin.PpmImageFile image mode=L size=92x112 at 0x7F1339B39BD0>, <PIL.PpmImagePlugin.PpmImageFile image mode=L size=92x112 at 0x7F1339B39910>, <PIL.PpmImagePlugin.PpmImageFile image mode=L size=92x112 at 0x7F1339B39090>, <PIL.PpmImagePlugin.PpmImageFile image mode=L size=92x112 at 0x7F1339B39210>, <PIL.PpmImagePlugin.PpmImageFile image mode=L size=92x112 at 0x7F1339B39990>, <PIL.PpmImagePlugin.PpmImageFile image mode=L size=92x112 at 0x7F133F4C9750>, <PIL.PpmImagePlugin.PpmImageFile image mode=L size=92x112 at 0x7F1339B39710>, <PIL.PpmImagePlugin.PpmImageFile image mode=L size=92x112 at 0x7F1339B39CD0>, <PIL.PpmImagePlugin.PpmImageFile image mode=L size=92x112 at 0x7F1339B39B90>, <PIL.PpmImagePlugin.PpmImageFile image mode=L size=92x112 at 0x7F1339B39D90>, <PIL.PpmImagePlugin.PpmImageFile image mode=L size=92x112 at 0x7F1339B39F50>, <PIL.PpmImagePlugin.PpmImageFile image mode=L size=92x112 at 0x7F1339B39390>, <PIL.PpmImagePlugin.PpmImageFile image mode=L size=92x112 at 0x7F1339B39450>, <PIL.PpmImagePlugin.PpmImageFile image mode=L size=92x112 at 0x7F1339B39750>, <PIL.PpmImagePlugin.PpmImageFile image mode=L size=92x112 at 0x7F1339B39250>, <PIL.PpmImagePlugin.PpmImageFile image mode=L size=92x112 at 0x7F1339B585D0>, <PIL.PpmImagePlugin.PpmImageFile image mode=L size=92x112 at 0x7F133D689050>, <PIL.PpmImagePlugin.PpmImageFile image mode=L size=92x112 at 0x7F1339B39410>, <PIL.PpmImagePlugin.PpmImageFile image mode=L size=92x112 at 0x7F1339B58710>, <PIL.PpmImagePlugin.PpmImageFile image mode=L size=92x112 at 0x7F1339B58790>, <PIL.PpmImagePlugin.PpmImageFile image mode=L size=92x112 at 0x7F1339B58050>, <PIL.PpmImagePlugin.PpmImageFile image mode=L size=92x112 at 0x7F1339B58550>, <PIL.PpmImagePlugin.PpmImageFile image mode=L size=92x112 at 0x7F1339B39510>, <PIL.PpmImagePlugin.PpmImageFile image mode=L size=92x112 at 0x7F1339B39E10>, <PIL.PpmImagePlugin.PpmImageFile image mode=L size=92x112 at 0x7F1339B58510>, <PIL.PpmImagePlugin.PpmImageFile image mode=L size=92x112 at 0x7F133F165E50>, <PIL.PpmImagePlugin.PpmImageFile image mode=L size=92x112 at 0x7F1339B58950>, <PIL.PpmImagePlugin.PpmImageFile image mode=L size=92x112 at 0x7F1339B58150>, <PIL.PpmImagePlugin.PpmImageFile image mode=L size=92x112 at 0x7F1339B58CD0>, <PIL.PpmImagePlugin.PpmImageFile image mode=L size=92x112 at 0x7F1339B58210>, <PIL.PpmImagePlugin.PpmImageFile image mode=L size=92x112 at 0x7F1339B58110>, <PIL.PpmImagePlugin.PpmImageFile image mode=L size=92x112 at 0x7F1339B580D0>, <PIL.PpmImagePlugin.PpmImageFile image mode=L size=92x112 at 0x7F1339B39DD0>, <PIL.PpmImagePlugin.PpmImageFile image mode=L size=92x112 at 0x7F1339B58910>, <PIL.PpmImagePlugin.PpmImageFile image mode=L size=92x112 at 0x7F1339B58A90>, <PIL.PpmImagePlugin.PpmImageFile image mode=L size=92x112 at 0x7F1339B395D0>, <PIL.PpmImagePlugin.PpmImageFile image mode=L size=92x112 at 0x7F1339B39A50>, <PIL.PpmImagePlugin.PpmImageFile image mode=L size=92x112 at 0x7F1339B58990>, <PIL.PpmImagePlugin.PpmImageFile image mode=L size=92x112 at 0x7F1339B58E90>, <PIL.PpmImagePlugin.PpmImageFile image mode=L size=92x112 at 0x7F1339B58E10>, <PIL.PpmImagePlugin.PpmImageFile image mode=L size=92x112 at 0x7F1339B583D0>, <PIL.PpmImagePlugin.PpmImageFile image mode=L size=92x112 at 0x7F1339B58850>, <PIL.PpmImagePlugin.PpmImageFile image mode=L size=92x112 at 0x7F1339B58F50>, <PIL.PpmImagePlugin.PpmImageFile image mode=L size=92x112 at 0x7F1339B58F90>, <PIL.PpmImagePlugin.PpmImageFile image mode=L size=92x112 at 0x7F1339B581D0>, <PIL.PpmImagePlugin.PpmImageFile image mode=L size=92x112 at 0x7F1339B39550>, <PIL.PpmImagePlugin.PpmImageFile image mode=L size=92x112 at 0x7F1339B58D10>, <PIL.PpmImagePlugin.PpmImageFile image mode=L size=92x112 at 0x7F1339B58D90>, <PIL.PpmImagePlugin.PpmImageFile image mode=L size=92x112 at 0x7F1339B58190>, <PIL.PpmImagePlugin.PpmImageFile image mode=L size=92x112 at 0x7F1339B58B10>, <PIL.PpmImagePlugin.PpmImageFile image mode=L size=92x112 at 0x7F1339B58C90>, <PIL.PpmImagePlugin.PpmImageFile image mode=L size=92x112 at 0x7F1339B58C10>, <PIL.PpmImagePlugin.PpmImageFile image mode=L size=92x112 at 0x7F1339B588D0>, <PIL.PpmImagePlugin.PpmImageFile image mode=L size=92x112 at 0x7F1339B58D50>, <PIL.PpmImagePlugin.PpmImageFile image mode=L size=92x112 at 0x7F1339B58290>]\n"
          ]
        }
      ]
    },
    {
      "cell_type": "code",
      "source": [
        "print(loadedImages[0])"
      ],
      "metadata": {
        "colab": {
          "base_uri": "https://localhost:8080/"
        },
        "id": "EEIFeqmiOAvD",
        "outputId": "9cc9c9ca-610b-4e45-e14d-63bbe9478a09"
      },
      "execution_count": 7,
      "outputs": [
        {
          "output_type": "stream",
          "name": "stdout",
          "text": [
            "<PIL.PpmImagePlugin.PpmImageFile image mode=L size=92x112 at 0x7F1339C416D0>\n"
          ]
        }
      ]
    },
    {
      "cell_type": "code",
      "source": [
        "loadedImages[0]"
      ],
      "metadata": {
        "colab": {
          "base_uri": "https://localhost:8080/",
          "height": 129
        },
        "id": "FQK2EE1IOHQo",
        "outputId": "7b4449ce-5c3b-48de-c33d-e4442ec991a7"
      },
      "execution_count": 8,
      "outputs": [
        {
          "output_type": "execute_result",
          "data": {
            "text/plain": [
              "<PIL.PpmImagePlugin.PpmImageFile image mode=L size=92x112 at 0x7F1339C416D0>"
            ],
            "image/png": "[encoded data removed]"
          },
          "metadata": {},
          "execution_count": 8
        }
      ]
    },
    {
      "cell_type": "code",
      "source": [
        "print(dataMatrixD.shape)\n",
        "print(labels.shape)"
      ],
      "metadata": {
        "colab": {
          "base_uri": "https://localhost:8080/"
        },
        "id": "nvLrAmjqZmJE",
        "outputId": "fbe6ad96-684e-4066-9c86-ba9f32481d07"
      },
      "execution_count": 9,
      "outputs": [
        {
          "output_type": "stream",
          "name": "stdout",
          "text": [
            "(400, 10304)\n",
            "(400,)\n"
          ]
        }
      ]
    },
    {
      "cell_type": "code",
      "source": [
        "print(dataMatrixD)"
      ],
      "metadata": {
        "colab": {
          "base_uri": "https://localhost:8080/"
        },
        "id": "Mp-PX-gwNmui",
        "outputId": "c7d219af-8ce9-41c4-cbb8-25c37d03c6c9"
      },
      "execution_count": 10,
      "outputs": [
        {
          "output_type": "stream",
          "name": "stdout",
          "text": [
            "[[ 41.  47.  47. ...  35.  37.  38.]\n",
            " [ 48.  49.  45. ...  47.  46.  46.]\n",
            " [ 43.  50.  41. ... 158. 153. 169.]\n",
            " ...\n",
            " [157. 152. 154. ... 111. 108. 109.]\n",
            " [139. 143. 146. ...  83.  81.  74.]\n",
            " [155. 154. 154. ... 111. 111. 108.]]\n"
          ]
        }
      ]
    },
    {
      "cell_type": "markdown",
      "source": [
        "## Split the Dataset into Training and Test sets"
      ],
      "metadata": {
        "id": "i9KncbnmdBwz"
      }
    },
    {
      "cell_type": "code",
      "source": [
        "train_x = np.zeros(200*10304).reshape(-1,10304)\n",
        "test_x = np.zeros(200*10304).reshape(-1,10304)\n",
        "train_y = np.zeros(200)\n",
        "test_y = np.zeros(200)"
      ],
      "metadata": {
        "id": "ufp9YM1HdEaH"
      },
      "execution_count": 11,
      "outputs": []
    },
    {
      "cell_type": "code",
      "source": [
        "even=0\n",
        "odd=0\n",
        "for i in range(400):\n",
        "  if i%2==0:\n",
        "    test_x[even] = dataMatrixD[i]\n",
        "    test_y[even] = labels[i]\n",
        "    even += 1 \n",
        "  else:\n",
        "    train_x[odd] = dataMatrixD[i]\n",
        "    train_y[odd] = labels[i]\n",
        "    odd += 1"
      ],
      "metadata": {
        "id": "6GxMkF3Afbe0"
      },
      "execution_count": 12,
      "outputs": []
    },
    {
      "cell_type": "code",
      "source": [
        "print(train_x.shape)\n",
        "print(train_y.shape)\n",
        "print(test_x.shape)\n",
        "print(test_y.shape)"
      ],
      "metadata": {
        "colab": {
          "base_uri": "https://localhost:8080/"
        },
        "id": "KyHgSjAoh3Au",
        "outputId": "e07b7537-b01a-4381-8018-2bd5dd21888e"
      },
      "execution_count": 13,
      "outputs": [
        {
          "output_type": "stream",
          "name": "stdout",
          "text": [
            "(200, 10304)\n",
            "(200,)\n",
            "(200, 10304)\n",
            "(200,)\n"
          ]
        }
      ]
    },
    {
      "cell_type": "markdown",
      "source": [
        "## Classification using PCA"
      ],
      "metadata": {
        "id": "vLK83li1iA6K"
      }
    },
    {
      "cell_type": "markdown",
      "source": [
        "### Mean"
      ],
      "metadata": {
        "id": "ekveJRI7ogGJ"
      }
    },
    {
      "cell_type": "code",
      "source": [
        "# Compute Mean\n",
        "mean = np.mean(train_x, axis=0)\n",
        "print(mean)"
      ],
      "metadata": {
        "colab": {
          "base_uri": "https://localhost:8080/"
        },
        "id": "mxZ_NmFXiN1x",
        "outputId": "64bf8966-8431-4e7a-d898-21c805f2b1e1"
      },
      "execution_count": 14,
      "outputs": [
        {
          "output_type": "stream",
          "name": "stdout",
          "text": [
            "[84.795 84.595 84.89  ... 77.01  75.69  75.115]\n"
          ]
        }
      ]
    },
    {
      "cell_type": "markdown",
      "source": [
        "### Center Data"
      ],
      "metadata": {
        "id": "VNVFnSiPohw5"
      }
    },
    {
      "cell_type": "code",
      "source": [
        "# Center Data\n",
        "centeredData = train_x - mean\n",
        "print(centeredData)"
      ],
      "metadata": {
        "colab": {
          "base_uri": "https://localhost:8080/"
        },
        "id": "9rbKg1_OifcU",
        "outputId": "c668c13d-e974-42d4-a2d4-f33e92a6351e"
      },
      "execution_count": 15,
      "outputs": [
        {
          "output_type": "stream",
          "name": "stdout",
          "text": [
            "[[-36.795 -35.595 -39.89  ... -30.01  -29.69  -29.115]\n",
            " [-21.795 -31.595 -49.89  ... -36.01  -65.69  -51.115]\n",
            " [-24.795 -24.595 -22.89  ... -45.01  -41.69  -41.115]\n",
            " ...\n",
            " [ 68.205  67.405  67.11  ...  32.99   32.31   38.885]\n",
            " [ 72.205  67.405  69.11  ...  33.99   32.31   33.885]\n",
            " [ 70.205  69.405  69.11  ...  33.99   35.31   32.885]]\n"
          ]
        }
      ]
    },
    {
      "cell_type": "markdown",
      "source": [
        "### Covariance Matrix"
      ],
      "metadata": {
        "id": "Gt3kyDsDojmZ"
      }
    },
    {
      "cell_type": "code",
      "source": [
        "# Covariance\n",
        "cov_matrix = np.cov(centeredData,rowvar=False, bias=True)\n",
        "print(cov_matrix)"
      ],
      "metadata": {
        "colab": {
          "base_uri": "https://localhost:8080/"
        },
        "id": "v1S2yF5vif70",
        "outputId": "b91f6f74-0328-46ea-a803-69803c52d627"
      },
      "execution_count": 16,
      "outputs": [
        {
          "output_type": "stream",
          "name": "stdout",
          "text": [
            "[[1321.332975 1306.101975 1302.98245  ... -181.11795  -129.63855\n",
            "   -97.346425]\n",
            " [1306.101975 1308.060975 1296.69545  ... -182.50095  -127.61555\n",
            "   -96.328425]\n",
            " [1302.98245  1296.69545  1301.2079   ... -160.3389   -103.9541\n",
            "   -82.98735 ]\n",
            " ...\n",
            " [-181.11795  -182.50095  -160.3389   ... 2265.0299   2030.6281\n",
            "  1874.48385 ]\n",
            " [-129.63855  -127.61555  -103.9541   ... 2030.6281   2061.5939\n",
            "  1917.38065 ]\n",
            " [ -97.346425  -96.328425  -82.98735  ... 1874.48385  1917.38065\n",
            "  2049.341775]]\n"
          ]
        }
      ]
    },
    {
      "cell_type": "markdown",
      "source": [
        "### EigenValues & EigenVectors"
      ],
      "metadata": {
        "id": "7Vp-bCQool4x"
      }
    },
    {
      "cell_type": "code",
      "source": [
        "# Compute EigenValues\n",
        "eig_val, eig_vect = np.linalg.eig(cov_matrix)\n",
        "print(\"Eigen Values:\")\n",
        "print(eig_val)\n",
        "print(\"Eigen Vectors\")\n",
        "print(eig_vect)"
      ],
      "metadata": {
        "colab": {
          "base_uri": "https://localhost:8080/"
        },
        "id": "tmxsJc4Oi6WD",
        "outputId": "713d6a3a-1a89-4196-a538-11d761f896ef"
      },
      "execution_count": 17,
      "outputs": [
        {
          "output_type": "stream",
          "name": "stdout",
          "text": [
            "Eigen Values:\n",
            "[2.76060815e+06+0.00000000e+00j 2.12438539e+06+0.00000000e+00j\n",
            " 1.06826515e+06+0.00000000e+00j ... 2.32002391e-13-9.94067286e-14j\n",
            " 4.29897386e-13+0.00000000e+00j 2.16919667e-13+0.00000000e+00j]\n",
            "Eigen Vectors\n",
            "[[ 1.16284486e-03+0.00000000e+00j  1.61001750e-02+0.00000000e+00j\n",
            "   2.07338869e-02+0.00000000e+00j ...  7.83192361e-04+4.16085728e-04j\n",
            "   7.59471063e-04+0.00000000e+00j -7.80082649e-04+0.00000000e+00j]\n",
            " [ 1.40621779e-03+0.00000000e+00j  1.59143319e-02+0.00000000e+00j\n",
            "   2.06020851e-02+0.00000000e+00j ... -7.13107205e-05+1.48005387e-05j\n",
            "   7.56146330e-05+0.00000000e+00j  5.73831636e-05+0.00000000e+00j]\n",
            " [ 1.54039250e-03+0.00000000e+00j  1.59243537e-02+0.00000000e+00j\n",
            "   2.05850751e-02+0.00000000e+00j ... -2.82814113e-05-8.11744545e-06j\n",
            "   4.38510173e-05+0.00000000e+00j  3.71060565e-05+0.00000000e+00j]\n",
            " ...\n",
            " [ 7.63542279e-03+0.00000000e+00j -9.43565073e-03+0.00000000e+00j\n",
            "   1.19757819e-02+0.00000000e+00j ...  3.48862097e-03-2.01158158e-03j\n",
            "  -1.14887455e-02+0.00000000e+00j -7.57997098e-04+0.00000000e+00j]\n",
            " [ 7.65999414e-03+0.00000000e+00j -8.02537432e-03+0.00000000e+00j\n",
            "   1.14316775e-02+0.00000000e+00j ... -2.42488275e-03+4.64411037e-03j\n",
            "   1.26745462e-03+0.00000000e+00j  5.28678461e-03+0.00000000e+00j]\n",
            " [ 8.14964033e-03+0.00000000e+00j -7.54057254e-03+0.00000000e+00j\n",
            "   1.18159741e-02+0.00000000e+00j ...  1.86492862e-03+1.63644930e-03j\n",
            "  -3.15060377e-03+0.00000000e+00j -4.62148458e-03+0.00000000e+00j]]\n"
          ]
        }
      ]
    },
    {
      "cell_type": "markdown",
      "source": [
        "### Eigen Matrix"
      ],
      "metadata": {
        "id": "HGaEgoHPoro5"
      }
    },
    {
      "cell_type": "code",
      "source": [
        "eig_matrix = np.diag(eig_val)\n",
        "print(\"Eigen Matrix:\")\n",
        "print(eig_matrix)"
      ],
      "metadata": {
        "colab": {
          "base_uri": "https://localhost:8080/"
        },
        "id": "5-tRsqoajtU5",
        "outputId": "ae29994c-2421-44c5-e392-9f7a7bbdeb08"
      },
      "execution_count": 18,
      "outputs": [
        {
          "output_type": "stream",
          "name": "stdout",
          "text": [
            "Eigen Matrix:\n",
            "[[2.76060815e+06+0.00000000e+00j 0.00000000e+00+0.00000000e+00j\n",
            "  0.00000000e+00+0.00000000e+00j ... 0.00000000e+00+0.00000000e+00j\n",
            "  0.00000000e+00+0.00000000e+00j 0.00000000e+00+0.00000000e+00j]\n",
            " [0.00000000e+00+0.00000000e+00j 2.12438539e+06+0.00000000e+00j\n",
            "  0.00000000e+00+0.00000000e+00j ... 0.00000000e+00+0.00000000e+00j\n",
            "  0.00000000e+00+0.00000000e+00j 0.00000000e+00+0.00000000e+00j]\n",
            " [0.00000000e+00+0.00000000e+00j 0.00000000e+00+0.00000000e+00j\n",
            "  1.06826515e+06+0.00000000e+00j ... 0.00000000e+00+0.00000000e+00j\n",
            "  0.00000000e+00+0.00000000e+00j 0.00000000e+00+0.00000000e+00j]\n",
            " ...\n",
            " [0.00000000e+00+0.00000000e+00j 0.00000000e+00+0.00000000e+00j\n",
            "  0.00000000e+00+0.00000000e+00j ... 2.32002391e-13-9.94067286e-14j\n",
            "  0.00000000e+00+0.00000000e+00j 0.00000000e+00+0.00000000e+00j]\n",
            " [0.00000000e+00+0.00000000e+00j 0.00000000e+00+0.00000000e+00j\n",
            "  0.00000000e+00+0.00000000e+00j ... 0.00000000e+00+0.00000000e+00j\n",
            "  4.29897386e-13+0.00000000e+00j 0.00000000e+00+0.00000000e+00j]\n",
            " [0.00000000e+00+0.00000000e+00j 0.00000000e+00+0.00000000e+00j\n",
            "  0.00000000e+00+0.00000000e+00j ... 0.00000000e+00+0.00000000e+00j\n",
            "  0.00000000e+00+0.00000000e+00j 2.16919667e-13+0.00000000e+00j]]\n"
          ]
        }
      ]
    },
    {
      "cell_type": "code",
      "source": [
        "# Compute EigenValues --> eigh guarantees sorting\n",
        "eig_val2, eig_vect2 = np.linalg.eigh(cov_matrix)\n",
        "print(\"Eigen Values:\")\n",
        "print(eig_val2)\n",
        "print(\"Eigen Vectors\")\n",
        "print(eig_vect2)"
      ],
      "metadata": {
        "colab": {
          "base_uri": "https://localhost:8080/"
        },
        "id": "lCKMrOtml5q4",
        "outputId": "ea5135b0-caad-427e-fe61-397688349a91"
      },
      "execution_count": 19,
      "outputs": [
        {
          "output_type": "stream",
          "name": "stdout",
          "text": [
            "Eigen Values:\n",
            "[-1.70257618e-09 -1.65262808e-09 -1.29761939e-09 ...  1.06826515e+06\n",
            "  2.12438539e+06  2.76060815e+06]\n",
            "Eigen Vectors\n",
            "[[ 0.         -0.         -0.         ...  0.02073389  0.01610018\n",
            "  -0.00116284]\n",
            " [-0.47870129 -0.08783318  0.23825876 ...  0.02060209  0.01591433\n",
            "  -0.00140622]\n",
            " [ 0.38500107 -0.59761855  0.05756969 ...  0.02058508  0.01592435\n",
            "  -0.00154039]\n",
            " ...\n",
            " [ 0.01050324 -0.01359598  0.01173623 ...  0.01197578 -0.00943565\n",
            "  -0.00763542]\n",
            " [ 0.00420562 -0.00343268 -0.01266879 ...  0.01143168 -0.00802537\n",
            "  -0.00765999]\n",
            " [-0.01458627 -0.01154426  0.00430319 ...  0.01181597 -0.00754057\n",
            "  -0.00814964]]\n"
          ]
        }
      ]
    },
    {
      "cell_type": "code",
      "source": [
        "desc_eig_val = -np.sort(-eig_val)\n",
        "print(\"Sorted EigenVlaues 1\")\n",
        "print(desc_eig_val)\n",
        "desc_eig_val2 = np.flip(eig_val2, axis= 0)\n",
        "desc_eig_vect2 = np.flip(eig_vect2, axis = 1)\n",
        "print(\"Sorted EigenValues 2\")\n",
        "print(desc_eig_val2)\n",
        "print(\"Sorted EigenVectors 2\")\n",
        "print(desc_eig_vect2)"
      ],
      "metadata": {
        "colab": {
          "base_uri": "https://localhost:8080/"
        },
        "id": "rstXfk6OmVGC",
        "outputId": "09f225ef-27b2-4c33-ffe3-ac691544ba3f"
      },
      "execution_count": 20,
      "outputs": [
        {
          "output_type": "stream",
          "name": "stdout",
          "text": [
            "Sorted EigenVlaues 1\n",
            "[ 2.76060815e+06+0.00000000e+00j  2.12438539e+06+0.00000000e+00j\n",
            "  1.06826515e+06+0.00000000e+00j ... -6.93856518e-11-1.09229552e-12j\n",
            " -9.93609197e-11+0.00000000e+00j -1.11386490e-10+0.00000000e+00j]\n",
            "Sorted EigenValues 2\n",
            "[ 2.76060815e+06  2.12438539e+06  1.06826515e+06 ... -1.29761939e-09\n",
            " -1.65262808e-09 -1.70257618e-09]\n",
            "Sorted EigenVectors 2\n",
            "[[-0.00116284  0.01610018  0.02073389 ... -0.         -0.\n",
            "   0.        ]\n",
            " [-0.00140622  0.01591433  0.02060209 ...  0.23825876 -0.08783318\n",
            "  -0.47870129]\n",
            " [-0.00154039  0.01592435  0.02058508 ...  0.05756969 -0.59761855\n",
            "   0.38500107]\n",
            " ...\n",
            " [-0.00763542 -0.00943565  0.01197578 ...  0.01173623 -0.01359598\n",
            "   0.01050324]\n",
            " [-0.00765999 -0.00802537  0.01143168 ... -0.01266879 -0.00343268\n",
            "   0.00420562]\n",
            " [-0.00814964 -0.00754057  0.01181597 ...  0.00430319 -0.01154426\n",
            "  -0.01458627]]\n"
          ]
        }
      ]
    },
    {
      "cell_type": "markdown",
      "source": [
        "### Fraction of Total Variance"
      ],
      "metadata": {
        "id": "FsM1c9A-ovP6"
      }
    },
    {
      "cell_type": "code",
      "source": [
        "alpha = [0.8, 0.85, 0.9, 0.95]\n",
        "dimensions = []\n",
        "for a in alpha:\n",
        "  dim = 0\n",
        "  total = 0\n",
        "  for eig in desc_eig_val2:\n",
        "    total += eig\n",
        "    dim += 1\n",
        "    if (total/desc_eig_val2.sum())>a:\n",
        "      dimensions.append(dim)\n",
        "      break\n",
        "print(dimensions)"
      ],
      "metadata": {
        "colab": {
          "base_uri": "https://localhost:8080/"
        },
        "id": "yVxIfntnm0MC",
        "outputId": "edcec7ca-0437-4c53-cc5d-cab7c6097cc7"
      },
      "execution_count": 21,
      "outputs": [
        {
          "output_type": "stream",
          "name": "stdout",
          "text": [
            "[36, 51, 75, 115]\n"
          ]
        }
      ]
    },
    {
      "cell_type": "markdown",
      "source": [
        "### Alpha aganist Dimensions"
      ],
      "metadata": {
        "id": "Fhll72DNo091"
      }
    },
    {
      "cell_type": "code",
      "source": [
        "plt.figure(figsize=(15,5))\n",
        "plt.plot(dimensions,alpha)\n",
        "plt.title(\"Alpha against Dimensions\")\n",
        "plt.xlabel(\"dimensions\")\n",
        "plt.ylabel(\"alpha\")"
      ],
      "metadata": {
        "colab": {
          "base_uri": "https://localhost:8080/",
          "height": 368
        },
        "id": "Veg4WaRBnisY",
        "outputId": "ad288700-5e94-4896-f4e2-7e1d23adfe9b"
      },
      "execution_count": 22,
      "outputs": [
        {
          "output_type": "execute_result",
          "data": {
            "text/plain": [
              "Text(0, 0.5, 'alpha')"
            ]
          },
          "metadata": {},
          "execution_count": 22
        },
        {
          "output_type": "display_data",
          "data": {
            "text/plain": [
              "<Figure size 1080x360 with 1 Axes>"
            ],
            "image/png": "[encoded data removed]"
          },
          "metadata": {
            "needs_background": "light"
          }
        }
      ]
    },
    {
      "cell_type": "markdown",
      "source": [
        "### Projection Matrix"
      ],
      "metadata": {
        "id": "Tuuz3hJfq6nu"
      }
    },
    {
      "cell_type": "code",
      "source": [
        "projection_matrix_a1 = desc_eig_vect2[:,0:dimensions[0]]\n",
        "projection_matrix_a2 = desc_eig_vect2[:,0:dimensions[1]]\n",
        "projection_matrix_a3 = desc_eig_vect2[:,0:dimensions[2]]\n",
        "projection_matrix_a4 = desc_eig_vect2[:,0:dimensions[3]]"
      ],
      "metadata": {
        "id": "kkNYTG_XnkBk"
      },
      "execution_count": 23,
      "outputs": []
    },
    {
      "cell_type": "code",
      "source": [
        "dimensions[3]"
      ],
      "metadata": {
        "colab": {
          "base_uri": "https://localhost:8080/"
        },
        "id": "6Wn7etmWxs6v",
        "outputId": "4795efb8-b91a-4f70-fcb6-10ce81ef1ba8"
      },
      "execution_count": 24,
      "outputs": [
        {
          "output_type": "execute_result",
          "data": {
            "text/plain": [
              "115"
            ]
          },
          "metadata": {},
          "execution_count": 24
        }
      ]
    },
    {
      "cell_type": "code",
      "source": [
        "projection_matrix_a1.shape"
      ],
      "metadata": {
        "colab": {
          "base_uri": "https://localhost:8080/"
        },
        "id": "WhchKxINscLy",
        "outputId": "34f587b6-355f-4823-885b-b5fe63ae4399"
      },
      "execution_count": 25,
      "outputs": [
        {
          "output_type": "execute_result",
          "data": {
            "text/plain": [
              "(10304, 36)"
            ]
          },
          "metadata": {},
          "execution_count": 25
        }
      ]
    },
    {
      "cell_type": "markdown",
      "source": [
        "### Reduce Training Set"
      ],
      "metadata": {
        "id": "nkdvqsAu8fcC"
      }
    },
    {
      "cell_type": "code",
      "source": [
        "projected_matrix_a1 = np.dot(np.transpose(projection_matrix_a1),np.transpose(centeredData))\n",
        "projected_matrix_a2 = np.dot(np.transpose(projection_matrix_a2),np.transpose(centeredData))\n",
        "projected_matrix_a3 = np.dot(np.transpose(projection_matrix_a3),np.transpose(centeredData))\n",
        "projected_matrix_a4 = np.dot(np.transpose(projection_matrix_a4),np.transpose(centeredData))"
      ],
      "metadata": {
        "id": "PSU8B2LvrPtv"
      },
      "execution_count": 26,
      "outputs": []
    },
    {
      "cell_type": "code",
      "source": [
        "projected_matrix_a4.shape"
      ],
      "metadata": {
        "colab": {
          "base_uri": "https://localhost:8080/"
        },
        "id": "cpUuY5BG0zEP",
        "outputId": "960cb662-b5b0-40e1-fa5a-2c5f44cb3821"
      },
      "execution_count": 27,
      "outputs": [
        {
          "output_type": "execute_result",
          "data": {
            "text/plain": [
              "(115, 200)"
            ]
          },
          "metadata": {},
          "execution_count": 27
        }
      ]
    },
    {
      "cell_type": "markdown",
      "source": [
        "### Reduce Testing Set"
      ],
      "metadata": {
        "id": "XYitBgiBvz_6"
      }
    },
    {
      "cell_type": "code",
      "source": [
        "mean_test = np.mean(test_x, axis=0)\n",
        "centeredData_test = test_x - mean_test"
      ],
      "metadata": {
        "id": "TTYHsrVavlrK"
      },
      "execution_count": 28,
      "outputs": []
    },
    {
      "cell_type": "code",
      "source": [
        "projected_matrix_test_a1 = np.dot(np.transpose(projection_matrix_a1),np.transpose(centeredData_test))\n",
        "projected_matrix_test_a2 = np.dot(np.transpose(projection_matrix_a2),np.transpose(centeredData_test))\n",
        "projected_matrix_test_a3 = np.dot(np.transpose(projection_matrix_a3),np.transpose(centeredData_test))\n",
        "projected_matrix_test_a4 = np.dot(np.transpose(projection_matrix_a4),np.transpose(centeredData_test))"
      ],
      "metadata": {
        "id": "eJMq5TJHwBTn"
      },
      "execution_count": 29,
      "outputs": []
    },
    {
      "cell_type": "markdown",
      "source": [
        "### KNN"
      ],
      "metadata": {
        "id": "QHiLJngIwuUn"
      }
    },
    {
      "cell_type": "code",
      "source": [
        "from sklearn.neighbors import KNeighborsClassifier\n",
        "from sklearn import metrics\n",
        "from sklearn.metrics import confusion_matrix, accuracy_score, classification_report"
      ],
      "metadata": {
        "id": "QYbwr02FxOQk"
      },
      "execution_count": 30,
      "outputs": []
    },
    {
      "cell_type": "code",
      "source": [
        "def knn(train_x_in, train_y_in, test_x_in, test_y_in, k):\n",
        "  knn = KNeighborsClassifier(n_neighbors=k)\n",
        "  knn.fit(train_x_in,train_y_in)\n",
        "  pred_y=knn.predict(test_x_in)\n",
        "  accuracy=accuracy_score(test_y_in, pred_y) * 100\n",
        "  return accuracy\n"
      ],
      "metadata": {
        "id": "ScpmuGOFyuEP"
      },
      "execution_count": 31,
      "outputs": []
    },
    {
      "cell_type": "code",
      "source": [
        "kk = [1, 3, 5, 7]\n",
        "accuracies = []\n",
        "accuracy = []\n",
        "# accuracy_a1 = []\n",
        "# accuracy_a2 = []\n",
        "# accuracy_a3 = []\n",
        "# accuracy_a4 = []\n",
        "\n",
        "for k in kk:\n",
        "  accuracy.append(knn(np.transpose(projected_matrix_a1), train_y, np.transpose(projected_matrix_test_a1),test_y, k))\n",
        "  accuracy.append(knn(np.transpose(projected_matrix_a2), train_y, np.transpose(projected_matrix_test_a2),test_y, k))\n",
        "  accuracy.append(knn(np.transpose(projected_matrix_a3), train_y, np.transpose(projected_matrix_test_a3),test_y, k))\n",
        "  accuracy.append(knn(np.transpose(projected_matrix_a4), train_y, np.transpose(projected_matrix_test_a4),test_y, k))\n",
        "  accuracies.append(accuracy)\n",
        "  accuracy = []"
      ],
      "metadata": {
        "id": "tFVU03990APx"
      },
      "execution_count": 32,
      "outputs": []
    },
    {
      "cell_type": "code",
      "source": [
        "print(accuracy_a1)\n",
        "print(accuracy_a2)\n",
        "print(accuracy_a3)\n",
        "print(accuracy_a4)"
      ],
      "metadata": {
        "colab": {
          "base_uri": "https://localhost:8080/",
          "height": 224
        },
        "id": "gXuCpyXi1LGi",
        "outputId": "752eead6-90ae-469c-90e2-939278e520cd"
      },
      "execution_count": 33,
      "outputs": [
        {
          "output_type": "error",
          "ename": "NameError",
          "evalue": "ignored",
          "traceback": [
            "\u001b[0;31m---------------------------------------------------------------------------\u001b[0m",
            "\u001b[0;31mNameError\u001b[0m                                 Traceback (most recent call last)",
            "\u001b[0;32m<ipython-input-33-5ae3355e5bd0>\u001b[0m in \u001b[0;36m<module>\u001b[0;34m\u001b[0m\n\u001b[0;32m----> 1\u001b[0;31m \u001b[0mprint\u001b[0m\u001b[0;34m(\u001b[0m\u001b[0maccuracy_a1\u001b[0m\u001b[0;34m)\u001b[0m\u001b[0;34m\u001b[0m\u001b[0;34m\u001b[0m\u001b[0m\n\u001b[0m\u001b[1;32m      2\u001b[0m \u001b[0mprint\u001b[0m\u001b[0;34m(\u001b[0m\u001b[0maccuracy_a2\u001b[0m\u001b[0;34m)\u001b[0m\u001b[0;34m\u001b[0m\u001b[0;34m\u001b[0m\u001b[0m\n\u001b[1;32m      3\u001b[0m \u001b[0mprint\u001b[0m\u001b[0;34m(\u001b[0m\u001b[0maccuracy_a3\u001b[0m\u001b[0;34m)\u001b[0m\u001b[0;34m\u001b[0m\u001b[0;34m\u001b[0m\u001b[0m\n\u001b[1;32m      4\u001b[0m \u001b[0mprint\u001b[0m\u001b[0;34m(\u001b[0m\u001b[0maccuracy_a4\u001b[0m\u001b[0;34m)\u001b[0m\u001b[0;34m\u001b[0m\u001b[0;34m\u001b[0m\u001b[0m\n",
            "\u001b[0;31mNameError\u001b[0m: name 'accuracy_a1' is not defined"
          ]
        }
      ]
    },
    {
      "cell_type": "code",
      "source": [
        "print(accuracies)"
      ],
      "metadata": {
        "colab": {
          "base_uri": "https://localhost:8080/"
        },
        "id": "S8KbA5bK1t8R",
        "outputId": "3dcd9c88-7d6f-49d1-b4e0-0b9a97676f41"
      },
      "execution_count": 34,
      "outputs": [
        {
          "output_type": "stream",
          "name": "stdout",
          "text": [
            "[[96.0, 96.0, 96.0, 95.5], [84.5, 86.0, 85.0, 85.0], [79.5, 78.0, 80.0, 80.0], [75.5, 75.5, 76.5, 76.5]]\n"
          ]
        }
      ]
    },
    {
      "cell_type": "code",
      "source": [
        "# Plot Alpha against Accuracy at Constant K\n",
        "for i in range(len(accuracies[0])): \n",
        "  plt.title(f'k = {kk[i]}')\n",
        "  plt.plot(alpha,accuracies[i])\n",
        "  plt.xlabel('Alpha')\n",
        "  plt.ylabel('Accuracy')\n",
        "  plt.show()\n",
        "  for j in range(len(accuracies[0])):\n",
        "    print(f'Accuracy at k={kk[i]}, dim={dimensions[j]}, alpha={alpha[j]} = {accuracies[i][j]} %')\n",
        "  print('---------------------------------------------------------------')"
      ],
      "metadata": {
        "colab": {
          "base_uri": "https://localhost:8080/",
          "height": 1000
        },
        "id": "-0uKzHEZ1QzF",
        "outputId": "b37f6ef6-3b94-4e3a-82d8-aba56b187ad9"
      },
      "execution_count": 35,
      "outputs": [
        {
          "output_type": "display_data",
          "data": {
            "text/plain": [
              "<Figure size 432x288 with 1 Axes>"
            ],
            "image/png": "[encoded data removed]"
          },
          "metadata": {
            "needs_background": "light"
          }
        },
        {
          "output_type": "stream",
          "name": "stdout",
          "text": [
            "Accuracy at k=1, dim=36, alpha=0.8 = 96.0 %\n",
            "Accuracy at k=1, dim=51, alpha=0.85 = 96.0 %\n",
            "Accuracy at k=1, dim=75, alpha=0.9 = 96.0 %\n",
            "Accuracy at k=1, dim=115, alpha=0.95 = 95.5 %\n",
            "---------------------------------------------------------------\n"
          ]
        },
        {
          "output_type": "display_data",
          "data": {
            "text/plain": [
              "<Figure size 432x288 with 1 Axes>"
            ],
            "image/png": "[encoded data removed]"
          },
          "metadata": {
            "needs_background": "light"
          }
        },
        {
          "output_type": "stream",
          "name": "stdout",
          "text": [
            "Accuracy at k=3, dim=36, alpha=0.8 = 84.5 %\n",
            "Accuracy at k=3, dim=51, alpha=0.85 = 86.0 %\n",
            "Accuracy at k=3, dim=75, alpha=0.9 = 85.0 %\n",
            "Accuracy at k=3, dim=115, alpha=0.95 = 85.0 %\n",
            "---------------------------------------------------------------\n"
          ]
        },
        {
          "output_type": "display_data",
          "data": {
            "text/plain": [
              "<Figure size 432x288 with 1 Axes>"
            ],
            "image/png": "[encoded data removed]"
          },
          "metadata": {
            "needs_background": "light"
          }
        },
        {
          "output_type": "stream",
          "name": "stdout",
          "text": [
            "Accuracy at k=5, dim=36, alpha=0.8 = 79.5 %\n",
            "Accuracy at k=5, dim=51, alpha=0.85 = 78.0 %\n",
            "Accuracy at k=5, dim=75, alpha=0.9 = 80.0 %\n",
            "Accuracy at k=5, dim=115, alpha=0.95 = 80.0 %\n",
            "---------------------------------------------------------------\n"
          ]
        },
        {
          "output_type": "display_data",
          "data": {
            "text/plain": [
              "<Figure size 432x288 with 1 Axes>"
            ],
            "image/png": "[encoded data removed]"
          },
          "metadata": {
            "needs_background": "light"
          }
        },
        {
          "output_type": "stream",
          "name": "stdout",
          "text": [
            "Accuracy at k=7, dim=36, alpha=0.8 = 75.5 %\n",
            "Accuracy at k=7, dim=51, alpha=0.85 = 75.5 %\n",
            "Accuracy at k=7, dim=75, alpha=0.9 = 76.5 %\n",
            "Accuracy at k=7, dim=115, alpha=0.95 = 76.5 %\n",
            "---------------------------------------------------------------\n"
          ]
        }
      ]
    },
    {
      "cell_type": "code",
      "source": [
        "[i[0] for i in accuracies]"
      ],
      "metadata": {
        "colab": {
          "base_uri": "https://localhost:8080/"
        },
        "id": "j5EYvSyu4Sh8",
        "outputId": "a9e80259-ae63-4ee8-b200-3f0cd562bb4c"
      },
      "execution_count": 36,
      "outputs": [
        {
          "output_type": "execute_result",
          "data": {
            "text/plain": [
              "[96.0, 84.5, 79.5, 75.5]"
            ]
          },
          "metadata": {},
          "execution_count": 36
        }
      ]
    },
    {
      "cell_type": "code",
      "source": [
        "# Plot K against Accuracy at contant Alpha & Dimensions\n",
        "for i in range(len(kk)): \n",
        "  plt.title(f'alpha = {alpha[i]} & dimensions = {dimensions[i]}')\n",
        "  plt.plot(kk,[j[i] for j in accuracies])\n",
        "  plt.xlabel('K')\n",
        "  plt.ylabel('Accuracy')\n",
        "  plt.show()\n",
        "  for j in range(len(kk)):\n",
        "    print(f'Accuracy at k={kk[j]}, dim={dimensions[i]}, alpha={alpha[i]} = {accuracies[j][i]} %')\n",
        "  print('---------------------------------------------------------------')"
      ],
      "metadata": {
        "colab": {
          "base_uri": "https://localhost:8080/",
          "height": 1000
        },
        "id": "0-snmuiE2Ch5",
        "outputId": "5f1b2b79-3240-4108-c043-e010ad96293d"
      },
      "execution_count": 37,
      "outputs": [
        {
          "output_type": "display_data",
          "data": {
            "text/plain": [
              "<Figure size 432x288 with 1 Axes>"
            ],
            "image/png": "[encoded data removed]"
          },
          "metadata": {
            "needs_background": "light"
          }
        },
        {
          "output_type": "stream",
          "name": "stdout",
          "text": [
            "Accuracy at k=1, dim=36, alpha=0.8 = 96.0 %\n",
            "Accuracy at k=3, dim=36, alpha=0.8 = 84.5 %\n",
            "Accuracy at k=5, dim=36, alpha=0.8 = 79.5 %\n",
            "Accuracy at k=7, dim=36, alpha=0.8 = 75.5 %\n",
            "---------------------------------------------------------------\n"
          ]
        },
        {
          "output_type": "display_data",
          "data": {
            "text/plain": [
              "<Figure size 432x288 with 1 Axes>"
            ],
            "image/png": "[encoded data removed]"
          },
          "metadata": {
            "needs_background": "light"
          }
        },
        {
          "output_type": "stream",
          "name": "stdout",
          "text": [
            "Accuracy at k=1, dim=51, alpha=0.85 = 96.0 %\n",
            "Accuracy at k=3, dim=51, alpha=0.85 = 86.0 %\n",
            "Accuracy at k=5, dim=51, alpha=0.85 = 78.0 %\n",
            "Accuracy at k=7, dim=51, alpha=0.85 = 75.5 %\n",
            "---------------------------------------------------------------\n"
          ]
        },
        {
          "output_type": "display_data",
          "data": {
            "text/plain": [
              "<Figure size 432x288 with 1 Axes>"
            ],
            "image/png": "[encoded data removed]"
          },
          "metadata": {
            "needs_background": "light"
          }
        },
        {
          "output_type": "stream",
          "name": "stdout",
          "text": [
            "Accuracy at k=1, dim=75, alpha=0.9 = 96.0 %\n",
            "Accuracy at k=3, dim=75, alpha=0.9 = 85.0 %\n",
            "Accuracy at k=5, dim=75, alpha=0.9 = 80.0 %\n",
            "Accuracy at k=7, dim=75, alpha=0.9 = 76.5 %\n",
            "---------------------------------------------------------------\n"
          ]
        },
        {
          "output_type": "display_data",
          "data": {
            "text/plain": [
              "<Figure size 432x288 with 1 Axes>"
            ],
            "image/png": "[encoded data removed]"
          },
          "metadata": {
            "needs_background": "light"
          }
        },
        {
          "output_type": "stream",
          "name": "stdout",
          "text": [
            "Accuracy at k=1, dim=115, alpha=0.95 = 95.5 %\n",
            "Accuracy at k=3, dim=115, alpha=0.95 = 85.0 %\n",
            "Accuracy at k=5, dim=115, alpha=0.95 = 80.0 %\n",
            "Accuracy at k=7, dim=115, alpha=0.95 = 76.5 %\n",
            "---------------------------------------------------------------\n"
          ]
        }
      ]
    },
    {
      "cell_type": "markdown",
      "source": [
        "Conclusion. Principal Component Analysis (PCA) is very useful to speed up the computation by reducing the dimensionality of the data. Plus, when you have high dimensionality with high correlated variable of one another, the PCA can improve the accuracy of classification model"
      ],
      "metadata": {
        "id": "uJm5dUPM8rd_"
      }
    },
    {
      "cell_type": "markdown",
      "source": [
        "However, Using PCA can lose some spatial information which is important for classification, so the classification accuracy decreases."
      ],
      "metadata": {
        "id": "KCQNXzz18uwH"
      }
    },
    {
      "cell_type": "markdown",
      "source": [
        "PCA can help us improve performance at a very low cost of model accuracy. Other benefits of PCA include reduction of noise in the data, feature selection (to a certain extent), and the ability to produce independent, uncorrelated features of the data."
      ],
      "metadata": {
        "id": "vycBTmN59RxP"
      }
    },
    {
      "cell_type": "markdown",
      "source": [
        "## Classification Using LDA"
      ],
      "metadata": {
        "id": "4vfhfOUVLgu4"
      }
    },
    {
      "cell_type": "markdown",
      "source": [
        "### Mean"
      ],
      "metadata": {
        "id": "msOVyhDlTch6"
      }
    },
    {
      "cell_type": "code",
      "source": [
        "mean_vect = np.zeros(40*10304).reshape(-1,10304)\n",
        "# for i in range(200):\n",
        "#   mean_vect[i] = np.mean(train_x[i], axis = 0)\n",
        "i = 0\n",
        "for j in range(0,200,5):\n",
        "  mean_vect[i] = np.mean(train_x[j:j+5],axis=0)\n",
        "  i += 1\n",
        "print(mean_vect.shape)\n",
        "print(mean_vect)"
      ],
      "metadata": {
        "colab": {
          "base_uri": "https://localhost:8080/"
        },
        "id": "QdCkZJuCLjfT",
        "outputId": "34c0c497-4b2e-4aad-ff74-ea6ba1e3a182"
      },
      "execution_count": 38,
      "outputs": [
        {
          "output_type": "stream",
          "name": "stdout",
          "text": [
            "(40, 10304)\n",
            "[[ 51.4  49.2  43.6 ...  41.   35.2  36.4]\n",
            " [120.8 120.6 121.4 ...  77.4  77.8  76.4]\n",
            " [ 52.8  56.8  57.6 ...  40.4  44.4  43.2]\n",
            " ...\n",
            " [127.4 122.6 125.6 ...  56.6  58.8  59.4]\n",
            " [ 84.4  85.   83.8 ... 122.6 122.6 118.8]\n",
            " [153.2 151.2 151.8 ... 102.6 103.  103.8]]\n"
          ]
        }
      ]
    },
    {
      "cell_type": "code",
      "source": [
        "mean_overall = np.mean(train_x,axis=0)\n",
        "print(mean_overall.shape)\n",
        "print(mean_overall)"
      ],
      "metadata": {
        "colab": {
          "base_uri": "https://localhost:8080/"
        },
        "id": "ObS54-HzMXBi",
        "outputId": "0e20d7b1-a408-49b7-ac60-0933bfeedcf4"
      },
      "execution_count": 39,
      "outputs": [
        {
          "output_type": "stream",
          "name": "stdout",
          "text": [
            "(10304,)\n",
            "[84.795 84.595 84.89  ... 77.01  75.69  75.115]\n"
          ]
        }
      ]
    },
    {
      "cell_type": "markdown",
      "source": [
        "### Sb"
      ],
      "metadata": {
        "id": "AepATp2pThdy"
      }
    },
    {
      "cell_type": "code",
      "source": [
        "Sb = 0\n",
        "Nk = 5\n",
        "for i in range(40):\n",
        "  Sb += Nk*np.dot(np.transpose(np.matrix(mean_vect[i]-mean_overall)),np.matrix((mean_vect[i]-mean_overall)))"
      ],
      "metadata": {
        "id": "-vGSD7TQPOz1"
      },
      "execution_count": 40,
      "outputs": []
    },
    {
      "cell_type": "code",
      "source": [
        "print(Sb.shape)\n",
        "print(Sb)"
      ],
      "metadata": {
        "colab": {
          "base_uri": "https://localhost:8080/"
        },
        "id": "CSw-k6ZvSsI7",
        "outputId": "8a7a71e8-ea19-49f3-f53e-873cc340e15a"
      },
      "execution_count": 48,
      "outputs": [
        {
          "output_type": "stream",
          "name": "stdout",
          "text": [
            "(10304, 10304)\n",
            "[[234863.795 232573.795 232094.49  ... -35854.79  -27192.11  -20100.685]\n",
            " [232573.795 231050.195 230231.29  ... -34881.39  -27013.71  -19881.885]\n",
            " [232094.49  230231.29  230174.38  ... -32170.98  -23273.22  -16339.47 ]\n",
            " ...\n",
            " [-35854.79  -34881.39  -32170.98  ... 336561.98  324371.42  319641.57 ]\n",
            " [-27192.11  -27013.71  -23273.22  ... 324371.42  320927.58  317650.73 ]\n",
            " [-20100.685 -19881.885 -16339.47  ... 319641.57  317650.73  319537.955]]\n"
          ]
        }
      ]
    },
    {
      "cell_type": "markdown",
      "source": [
        "### Center Data"
      ],
      "metadata": {
        "id": "bTRwbz6jTl35"
      }
    },
    {
      "cell_type": "code",
      "source": [
        "Zs = np.zeros(200*10304).reshape(-1,10304)\n",
        "j = 0\n",
        "for i in range(200):\n",
        "  Zs[i] = train_x[i] - mean_vect[j]\n",
        "  if i%5==0 and i!=0:\n",
        "    j += 1"
      ],
      "metadata": {
        "id": "cFTpoqsRSs2U"
      },
      "execution_count": 42,
      "outputs": []
    },
    {
      "cell_type": "code",
      "source": [
        "print(Zs.shape)\n",
        "print(Zs)"
      ],
      "metadata": {
        "colab": {
          "base_uri": "https://localhost:8080/"
        },
        "id": "4whksz0zUmuV",
        "outputId": "0a46ca0a-7e36-4c9f-afbf-e3ba078439cb"
      },
      "execution_count": 43,
      "outputs": [
        {
          "output_type": "stream",
          "name": "stdout",
          "text": [
            "(200, 10304)\n",
            "[[ -3.4  -0.2   1.4 ...   6.   10.8   9.6]\n",
            " [ 11.6   3.8  -8.6 ...   0.  -25.2 -12.4]\n",
            " [  8.6  10.8  18.4 ...  -9.   -1.2  -2.4]\n",
            " ...\n",
            " [ -0.2   0.8   0.2 ...   7.4   5.   10.2]\n",
            " [  3.8   0.8   2.2 ...   8.4   5.    5.2]\n",
            " [  1.8   2.8   2.2 ...   8.4   8.    4.2]]\n"
          ]
        }
      ]
    },
    {
      "cell_type": "markdown",
      "source": [
        "### S"
      ],
      "metadata": {
        "id": "NkCTki2G70Z9"
      }
    },
    {
      "cell_type": "code",
      "source": [
        "Ss = np.zeros(10304*10304).reshape(10304,10304)\n",
        "j = 0\n",
        "for i in range(0,200,5):\n",
        "  Ss += np.dot(np.transpose(Zs[i:i+5,:]),Zs[i:i+5,:])\n",
        "  j += 1"
      ],
      "metadata": {
        "id": "pAxHHwlsUt9p"
      },
      "execution_count": 44,
      "outputs": []
    },
    {
      "cell_type": "code",
      "source": [
        "print(Ss.shape)\n",
        "print(Ss)"
      ],
      "metadata": {
        "colab": {
          "base_uri": "https://localhost:8080/"
        },
        "id": "25SX-LA_WyKh",
        "outputId": "dc0e056c-4f9c-46ee-ecdc-88d13efc4c78"
      },
      "execution_count": 45,
      "outputs": [
        {
          "output_type": "stream",
          "name": "stdout",
          "text": [
            "(10304, 10304)\n",
            "[[110440.92 110371.64 108738.88 ... -21613.52 -14737.52 -12395.6 ]\n",
            " [110371.64 113363.6  110206.36 ... -25231.12 -17333.36 -14958.68]\n",
            " [108738.88 110206.36 109752.92 ... -20855.48 -13497.28 -13602.2 ]\n",
            " ...\n",
            " [-21613.52 -25231.12 -20855.48 ... 239200.64 199249.4  162036.52]\n",
            " [-14737.52 -17333.36 -13497.28 ... 199249.4  209341.24 175559.88]\n",
            " [-12395.6  -14958.68 -13602.2  ... 162036.52 175559.88 193834.52]]\n"
          ]
        }
      ]
    },
    {
      "cell_type": "markdown",
      "source": [
        "### EigenValues & EigenVectors"
      ],
      "metadata": {
        "id": "FI3S-ht66ERs"
      }
    },
    {
      "cell_type": "code",
      "source": [
        "eig_val_LDA, eig_vect_LDA = np.linalg.eigh(np.dot(np.linalg.pinv(Ss),Sb)) "
      ],
      "metadata": {
        "id": "a47RJt_CX_Q1"
      },
      "execution_count": 46,
      "outputs": []
    },
    {
      "cell_type": "code",
      "source": [
        "print(eig_val_LDA.shape)\n",
        "print(eig_vect_LDA.shape)\n",
        "print(eig_val_LDA)\n",
        "print(eig_vect_LDA)"
      ],
      "metadata": {
        "colab": {
          "base_uri": "https://localhost:8080/"
        },
        "id": "lIuC4qqbYNl2",
        "outputId": "7be20d2a-b243-4013-ef38-9100786f02e5"
      },
      "execution_count": 52,
      "outputs": [
        {
          "output_type": "stream",
          "name": "stdout",
          "text": [
            "(10304,)\n",
            "(10304, 10304)\n",
            "[-8788.52397894 -1979.54997123 -1902.98948367 ...  2340.60321565\n",
            "  3028.81723472 11834.24781989]\n",
            "[[-0.01144939 -0.00547927  0.01682328 ... -0.00212797  0.02061376\n",
            "  -0.01214962]\n",
            " [-0.01110326 -0.00528725  0.0162158  ... -0.00210292  0.02011337\n",
            "  -0.01181519]\n",
            " [-0.01160026 -0.0050093   0.01638684 ... -0.0024122   0.02010082\n",
            "  -0.01229229]\n",
            " ...\n",
            " [ 0.01689688  0.01605231  0.02217022 ...  0.02026882 -0.01204128\n",
            "  -0.01832099]\n",
            " [ 0.01934799  0.01636692  0.0279037  ...  0.0236665  -0.01647265\n",
            "  -0.02110408]\n",
            " [ 0.01310836  0.00776997  0.022066   ...  0.01449242 -0.01567316\n",
            "  -0.01417878]]\n"
          ]
        }
      ]
    },
    {
      "cell_type": "code",
      "source": [
        "np.savetxt('eig_val_LDA.csv', eig_val, delimiter=',')"
      ],
      "metadata": {
        "id": "qvTX8G2McbpM"
      },
      "execution_count": 49,
      "outputs": []
    },
    {
      "cell_type": "code",
      "source": [
        "np.savetxt('eig_vect_LDA.csv', eig_vect, delimiter=',')"
      ],
      "metadata": {
        "id": "bYeApHPSc3ga"
      },
      "execution_count": 50,
      "outputs": []
    },
    {
      "cell_type": "code",
      "source": [
        "%cp -av \"/content/eig_val_LDA.csv\" \"/content/drive/MyDrive/Pattern Recognition\"\n",
        "%cp -av \"/content/eig_vect_LDA.csv\" \"/content/drive/MyDrive/Pattern Recognition\""
      ],
      "metadata": {
        "colab": {
          "base_uri": "https://localhost:8080/"
        },
        "id": "3SipTub6dLQM",
        "outputId": "b6a2ec5e-1fab-4b75-df69-5ec611931909"
      },
      "execution_count": 51,
      "outputs": [
        {
          "output_type": "stream",
          "name": "stdout",
          "text": [
            "'/content/eig_val_LDA.csv' -> '/content/drive/MyDrive/Pattern Recognition/eig_val_LDA.csv'\n",
            "'/content/eig_vect_LDA.csv' -> '/content/drive/MyDrive/Pattern Recognition/eig_vect_LDA.csv'\n"
          ]
        }
      ]
    },
    {
      "cell_type": "code",
      "source": [
        "projection_matrix_LDA = eig_vect_LDA[:, :39]"
      ],
      "metadata": {
        "id": "MQP__O6Z4C5w"
      },
      "execution_count": 53,
      "outputs": []
    },
    {
      "cell_type": "markdown",
      "source": [
        "### Reduce Training Set"
      ],
      "metadata": {
        "id": "zB6GWRXa6V82"
      }
    },
    {
      "cell_type": "code",
      "source": [
        "projected_train_x = np.dot(np.transpose(projection_matrix_LDA),np.transpose(centeredData))"
      ],
      "metadata": {
        "id": "oHihDbAE8ZDi"
      },
      "execution_count": 54,
      "outputs": []
    },
    {
      "cell_type": "markdown",
      "source": [
        "### Reduce Testing Set"
      ],
      "metadata": {
        "id": "8vXwWdzQ872i"
      }
    },
    {
      "cell_type": "code",
      "source": [
        "projected_test_x = np.dot(np.transpose(projection_matrix_LDA),np.transpose(centeredData_test))"
      ],
      "metadata": {
        "id": "5ho3M2CV8-EU"
      },
      "execution_count": 55,
      "outputs": []
    },
    {
      "cell_type": "markdown",
      "source": [
        "### KNN"
      ],
      "metadata": {
        "id": "xkTR0z629N8p"
      }
    },
    {
      "cell_type": "code",
      "source": [
        "accuracy = []\n",
        "\n",
        "for k in kk:\n",
        "  accuracy.append(knn(np.transpose(projected_train_x), train_y, np.transpose(projected_test_x),test_y, k))\n"
      ],
      "metadata": {
        "colab": {
          "base_uri": "https://localhost:8080/"
        },
        "id": "i8o2nefR9OnV",
        "outputId": "09cd32d6-7f2c-4978-ed6e-e6e0fcd2f948"
      },
      "execution_count": 62,
      "outputs": [
        {
          "output_type": "stream",
          "name": "stderr",
          "text": [
            "/usr/local/lib/python3.7/dist-packages/sklearn/utils/validation.py:598: FutureWarning: np.matrix usage is deprecated in 1.0 and will raise a TypeError in 1.2. Please convert to a numpy array with np.asarray. For more information see: https://numpy.org/doc/stable/reference/generated/numpy.matrix.html\n",
            "  FutureWarning,\n",
            "/usr/local/lib/python3.7/dist-packages/sklearn/utils/validation.py:598: FutureWarning: np.matrix usage is deprecated in 1.0 and will raise a TypeError in 1.2. Please convert to a numpy array with np.asarray. For more information see: https://numpy.org/doc/stable/reference/generated/numpy.matrix.html\n",
            "  FutureWarning,\n",
            "/usr/local/lib/python3.7/dist-packages/sklearn/utils/validation.py:598: FutureWarning: np.matrix usage is deprecated in 1.0 and will raise a TypeError in 1.2. Please convert to a numpy array with np.asarray. For more information see: https://numpy.org/doc/stable/reference/generated/numpy.matrix.html\n",
            "  FutureWarning,\n",
            "/usr/local/lib/python3.7/dist-packages/sklearn/utils/validation.py:598: FutureWarning: np.matrix usage is deprecated in 1.0 and will raise a TypeError in 1.2. Please convert to a numpy array with np.asarray. For more information see: https://numpy.org/doc/stable/reference/generated/numpy.matrix.html\n",
            "  FutureWarning,\n",
            "/usr/local/lib/python3.7/dist-packages/sklearn/utils/validation.py:598: FutureWarning: np.matrix usage is deprecated in 1.0 and will raise a TypeError in 1.2. Please convert to a numpy array with np.asarray. For more information see: https://numpy.org/doc/stable/reference/generated/numpy.matrix.html\n",
            "  FutureWarning,\n",
            "/usr/local/lib/python3.7/dist-packages/sklearn/utils/validation.py:598: FutureWarning: np.matrix usage is deprecated in 1.0 and will raise a TypeError in 1.2. Please convert to a numpy array with np.asarray. For more information see: https://numpy.org/doc/stable/reference/generated/numpy.matrix.html\n",
            "  FutureWarning,\n",
            "/usr/local/lib/python3.7/dist-packages/sklearn/utils/validation.py:598: FutureWarning: np.matrix usage is deprecated in 1.0 and will raise a TypeError in 1.2. Please convert to a numpy array with np.asarray. For more information see: https://numpy.org/doc/stable/reference/generated/numpy.matrix.html\n",
            "  FutureWarning,\n",
            "/usr/local/lib/python3.7/dist-packages/sklearn/utils/validation.py:598: FutureWarning: np.matrix usage is deprecated in 1.0 and will raise a TypeError in 1.2. Please convert to a numpy array with np.asarray. For more information see: https://numpy.org/doc/stable/reference/generated/numpy.matrix.html\n",
            "  FutureWarning,\n"
          ]
        }
      ]
    },
    {
      "cell_type": "code",
      "source": [
        "print(accuracy)"
      ],
      "metadata": {
        "colab": {
          "base_uri": "https://localhost:8080/"
        },
        "id": "ID76-tHI9dXh",
        "outputId": "cd0775ac-b7cb-4ede-e3e0-f89ea2d64c0b"
      },
      "execution_count": 64,
      "outputs": [
        {
          "output_type": "stream",
          "name": "stdout",
          "text": [
            "[90.5, 84.5, 81.0, 75.5]\n"
          ]
        }
      ]
    },
    {
      "cell_type": "code",
      "source": [
        "# Plot K against Accuracy \n",
        "plt.figure(figsize=(15,5))\n",
        "plt.plot(kk,accuracy)\n",
        "plt.xlabel('K')\n",
        "plt.ylabel('Accuracy')\n",
        "plt.show()\n",
        "for j in range(len(kk)):\n",
        "  print(f'Accuracy at k={kk[j]} = {accuracy[j]} %')\n",
        "print('---------------------------------------------------------------')"
      ],
      "metadata": {
        "colab": {
          "base_uri": "https://localhost:8080/",
          "height": 424
        },
        "id": "PanPPShs9jEs",
        "outputId": "d5be29a7-68fa-4d81-cea7-7447ffa8dfec"
      },
      "execution_count": 71,
      "outputs": [
        {
          "output_type": "display_data",
          "data": {
            "text/plain": [
              "<Figure size 1080x360 with 1 Axes>"
            ],
            "image/png": "[encoded data removed]"
          },
          "metadata": {
            "needs_background": "light"
          }
        },
        {
          "output_type": "stream",
          "name": "stdout",
          "text": [
            "Accuracy at k=1 = 90.5 %\n",
            "Accuracy at k=3 = 84.5 %\n",
            "Accuracy at k=5 = 81.0 %\n",
            "Accuracy at k=7 = 75.5 %\n",
            "---------------------------------------------------------------\n"
          ]
        }
      ]
    },
    {
      "cell_type": "markdown",
      "source": [
        "## Compare Non-Face Images"
      ],
      "metadata": {
        "id": "6GfPILWtipsa"
      }
    },
    {
      "cell_type": "code",
      "source": [],
      "metadata": {
        "id": "RX7u1CHrEZWX"
      },
      "execution_count": null,
      "outputs": []
    }
  ]
}